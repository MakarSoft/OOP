{
 "cells": [
  {
   "cell_type": "markdown",
   "metadata": {},
   "source": [
    "### Property Lookup Resolution"
   ]
  },
  {
   "cell_type": "markdown",
   "metadata": {},
   "source": [
    "Как мы увидели в последнем наборе лекций, происходит что-то странное, когда наш класс использует дескриптор данных, а экземпляры содержат одно и то же имя атрибута в словаре экземпляров."
   ]
  },
  {
   "cell_type": "markdown",
   "metadata": {},
   "source": [
    "Вопреки нашим ожиданиям, дескриптор **все еще** использовался."
   ]
  },
  {
   "cell_type": "markdown",
   "metadata": {},
   "source": [
    "Это сводится к дескрипторам данных и не-данных. У Python есть способ по умолчанию, где он ищет атрибуты в зависимости от того, является ли дескриптор дескриптором данных или нет."
   ]
  },
  {
   "cell_type": "markdown",
   "metadata": {},
   "source": [
    "Для дескрипторов данных Python выберет использование атрибута дескриптора (в классе), даже если тот же символ найден в словаре экземпляров."
   ]
  },
  {
   "cell_type": "markdown",
   "metadata": {},
   "source": [
    "Давайте рассмотрим это еще раз на простом примере:"
   ]
  },
  {
   "cell_type": "code",
   "execution_count": 1,
   "metadata": {},
   "outputs": [],
   "source": [
    "class IntegerValue:\n",
    "    def __set__(self, instance, value):\n",
    "        print('__set__ called...')\n",
    "\n",
    "    def __get__(self, instance, owner_class):\n",
    "        print('__get__ called...')"
   ]
  },
  {
   "cell_type": "code",
   "execution_count": 2,
   "metadata": {},
   "outputs": [],
   "source": [
    "class Point:\n",
    "    x = IntegerValue()"
   ]
  },
  {
   "cell_type": "code",
   "execution_count": 3,
   "metadata": {},
   "outputs": [],
   "source": [
    "p = Point()"
   ]
  },
  {
   "cell_type": "code",
   "execution_count": 4,
   "metadata": {},
   "outputs": [
    {
     "name": "stdout",
     "output_type": "stream",
     "text": [
      "__set__ called...\n"
     ]
    }
   ],
   "source": [
    "p.x = 100"
   ]
  },
  {
   "cell_type": "code",
   "execution_count": 5,
   "metadata": {},
   "outputs": [
    {
     "name": "stdout",
     "output_type": "stream",
     "text": [
      "__get__ called...\n"
     ]
    }
   ],
   "source": [
    "p.x"
   ]
  },
  {
   "cell_type": "markdown",
   "metadata": {},
   "source": [
    "Итак, были вызваны методы дескриптора `__set__` и `__get__`."
   ]
  },
  {
   "cell_type": "markdown",
   "metadata": {},
   "source": [
    "Давайте установим атрибут с именем `x` непосредственно в словаре экземпляра:"
   ]
  },
  {
   "cell_type": "code",
   "execution_count": 6,
   "metadata": {},
   "outputs": [
    {
     "data": {
      "text/plain": [
       "{}"
      ]
     },
     "execution_count": 6,
     "metadata": {},
     "output_type": "execute_result"
    }
   ],
   "source": [
    "p.__dict__"
   ]
  },
  {
   "cell_type": "code",
   "execution_count": 7,
   "metadata": {},
   "outputs": [],
   "source": [
    "p.__dict__['x'] = 'hello'"
   ]
  },
  {
   "cell_type": "code",
   "execution_count": 8,
   "metadata": {},
   "outputs": [
    {
     "data": {
      "text/plain": [
       "{'x': 'hello'}"
      ]
     },
     "execution_count": 8,
     "metadata": {},
     "output_type": "execute_result"
    }
   ],
   "source": [
    "p.__dict__"
   ]
  },
  {
   "cell_type": "markdown",
   "metadata": {},
   "source": [
    "А теперь давайте получим значение:"
   ]
  },
  {
   "cell_type": "code",
   "execution_count": 9,
   "metadata": {},
   "outputs": [
    {
     "name": "stdout",
     "output_type": "stream",
     "text": [
      "__get__ called...\n"
     ]
    }
   ],
   "source": [
    "p.x"
   ]
  },
  {
   "cell_type": "markdown",
   "metadata": {},
   "source": [
    "Как вы видите, дескриптор **все еще** использовался. То же самое, если мы установим значение:"
   ]
  },
  {
   "cell_type": "code",
   "execution_count": 10,
   "metadata": {},
   "outputs": [
    {
     "name": "stdout",
     "output_type": "stream",
     "text": [
      "__set__ called...\n"
     ]
    }
   ],
   "source": [
    "p.x = 100"
   ]
  },
  {
   "cell_type": "markdown",
   "metadata": {},
   "source": [
    "Это работает таким образом, потому что у нас есть **дескриптор данных** — атрибуты экземпляра не затеняют дескрипторы классов с тем же именем!"
   ]
  },
  {
   "cell_type": "markdown",
   "metadata": {},
   "source": [
    "Поведение для дескриптора, не являющегося данными, отличается, и эффект затенения присутствует:"
   ]
  },
  {
   "cell_type": "code",
   "execution_count": 11,
   "metadata": {},
   "outputs": [],
   "source": [
    "from datetime import datetime\n",
    "\n",
    "class TimeUTC:\n",
    "    def __get__(self, instance, owner_class):\n",
    "        print('__get__ called...')\n",
    "        return datetime.utcnow().isoformat()"
   ]
  },
  {
   "cell_type": "code",
   "execution_count": 12,
   "metadata": {},
   "outputs": [],
   "source": [
    "class Logger:\n",
    "    current_time = TimeUTC()"
   ]
  },
  {
   "cell_type": "code",
   "execution_count": 13,
   "metadata": {},
   "outputs": [],
   "source": [
    "l = Logger()"
   ]
  },
  {
   "cell_type": "code",
   "execution_count": 14,
   "metadata": {},
   "outputs": [
    {
     "name": "stdout",
     "output_type": "stream",
     "text": [
      "__get__ called...\n"
     ]
    },
    {
     "data": {
      "text/plain": [
       "'2019-07-13T20:47:59.473945'"
      ]
     },
     "execution_count": 14,
     "metadata": {},
     "output_type": "execute_result"
    }
   ],
   "source": [
    "l.current_time"
   ]
  },
  {
   "cell_type": "markdown",
   "metadata": {},
   "source": [
    "Как вы можете видеть, был вызван `__get__` дескриптора.\n",
    "\n",
    "Теперь давайте внедрим тот же символ непосредственно в наш словарь экземпляров:"
   ]
  },
  {
   "cell_type": "code",
   "execution_count": 15,
   "metadata": {},
   "outputs": [
    {
     "data": {
      "text/plain": [
       "{}"
      ]
     },
     "execution_count": 15,
     "metadata": {},
     "output_type": "execute_result"
    }
   ],
   "source": [
    "l.__dict__"
   ]
  },
  {
   "cell_type": "code",
   "execution_count": 16,
   "metadata": {},
   "outputs": [],
   "source": [
    "l.__dict__['current_time'] = 'this is not a timestamp'"
   ]
  },
  {
   "cell_type": "code",
   "execution_count": 17,
   "metadata": {},
   "outputs": [
    {
     "data": {
      "text/plain": [
       "{'current_time': 'this is not a timestamp'}"
      ]
     },
     "execution_count": 17,
     "metadata": {},
     "output_type": "execute_result"
    }
   ],
   "source": [
    "l.__dict__"
   ]
  },
  {
   "cell_type": "markdown",
   "metadata": {},
   "source": [
    "И если мы попытаемся получить значение для этого ключа:"
   ]
  },
  {
   "cell_type": "code",
   "execution_count": 18,
   "metadata": {},
   "outputs": [
    {
     "data": {
      "text/plain": [
       "'this is not a timestamp'"
      ]
     },
     "execution_count": 18,
     "metadata": {},
     "output_type": "execute_result"
    }
   ],
   "source": [
    "l.current_time"
   ]
  },
  {
   "cell_type": "markdown",
   "metadata": {},
   "source": [
    "мы получаем значение, хранящееся в словаре экземпляра, а **не** метод дескриптора `__get__`."
   ]
  },
  {
   "cell_type": "markdown",
   "metadata": {},
   "source": [
    "Конечно, мы можем вернуться к «нормальному» состоянию, удалив этот ключ из словаря экземпляра:"
   ]
  },
  {
   "cell_type": "code",
   "execution_count": 19,
   "metadata": {},
   "outputs": [],
   "source": [
    "del l.__dict__['current_time']"
   ]
  },
  {
   "cell_type": "markdown",
   "metadata": {},
   "source": [
    "А теперь:"
   ]
  },
  {
   "cell_type": "code",
   "execution_count": 20,
   "metadata": {},
   "outputs": [
    {
     "name": "stdout",
     "output_type": "stream",
     "text": [
      "__get__ called...\n"
     ]
    },
    {
     "data": {
      "text/plain": [
       "'2019-07-13T20:47:59.556109'"
      ]
     },
     "execution_count": 20,
     "metadata": {},
     "output_type": "execute_result"
    }
   ],
   "source": [
    "l.current_time"
   ]
  },
  {
   "cell_type": "markdown",
   "metadata": {},
   "source": [
    "Это означает, что для дескрипторов данных, где нам обычно требуется хранилище на основе экземпляра, мы можем фактически использовать само имя свойства для сохранения значения в экземпляре **под тем же именем**. Он **не** будет затенять атрибут класса (экземпляр дескриптора), и у него нет риска перезаписать какие-либо существующие атрибуты экземпляра, которые может иметь наш класс!"
   ]
  },
  {
   "cell_type": "markdown",
   "metadata": {},
   "source": [
    "Конечно, это предполагает, что класс не использует слоты или, по крайней мере, указывает `__dict__` в качестве одного из слотов, если он это делает."
   ]
  },
  {
   "cell_type": "markdown",
   "metadata": {},
   "source": [
    "Давайте применим это к дескриптору данных при таком предположении:"
   ]
  },
  {
   "cell_type": "code",
   "execution_count": 21,
   "metadata": {},
   "outputs": [],
   "source": [
    "class ValidString:\n",
    "    def __init__(self, min_length):\n",
    "        self.min_length = min_length\n",
    "\n",
    "    def __set_name__(self, owner_class, prop_name):\n",
    "        self.prop_name = prop_name\n",
    "\n",
    "    def __set__(self, instance, value):\n",
    "        if not isinstance(value, str):\n",
    "            raise ValueError(f'{self.prop_name} must be a string.')\n",
    "        if len(value) < self.min_length:\n",
    "            raise ValueError(f'{self.prop_name} must be '\n",
    "                             f'at least {self.min_length} characters.'\n",
    "                            )\n",
    "        instance.__dict__[self.prop_name] = value\n",
    "\n",
    "    def __get__(self, instance, owner_class):\n",
    "        if instance is None:\n",
    "            return self\n",
    "        else:\n",
    "            return instance.__dict__.get(self.prop_name, None)"
   ]
  },
  {
   "cell_type": "code",
   "execution_count": 22,
   "metadata": {},
   "outputs": [],
   "source": [
    "class Person:\n",
    "    first_name = ValidString(1)\n",
    "    last_name = ValidString(2)"
   ]
  },
  {
   "cell_type": "code",
   "execution_count": 23,
   "metadata": {},
   "outputs": [],
   "source": [
    "p = Person()"
   ]
  },
  {
   "cell_type": "code",
   "execution_count": 24,
   "metadata": {},
   "outputs": [
    {
     "data": {
      "text/plain": [
       "{}"
      ]
     },
     "execution_count": 24,
     "metadata": {},
     "output_type": "execute_result"
    }
   ],
   "source": [
    "p.__dict__"
   ]
  },
  {
   "cell_type": "code",
   "execution_count": 25,
   "metadata": {},
   "outputs": [],
   "source": [
    "p.first_name = 'Alex'\n",
    "p.last_name = 'Martelli'"
   ]
  },
  {
   "cell_type": "code",
   "execution_count": 26,
   "metadata": {},
   "outputs": [
    {
     "data": {
      "text/plain": [
       "{'first_name': 'Alex', 'last_name': 'Martelli'}"
      ]
     },
     "execution_count": 26,
     "metadata": {},
     "output_type": "execute_result"
    }
   ],
   "source": [
    "p.__dict__"
   ]
  },
  {
   "cell_type": "code",
   "execution_count": 27,
   "metadata": {},
   "outputs": [
    {
     "data": {
      "text/plain": [
       "('Alex', 'Martelli')"
      ]
     },
     "execution_count": 27,
     "metadata": {},
     "output_type": "execute_result"
    }
   ],
   "source": [
    "p.first_name, p.last_name"
   ]
  },
  {
   "cell_type": "markdown",
   "metadata": {},
   "source": [
    "Обратите внимание, что я **не** использую атрибуты (ни точечную нотацию, ни `getattr`/`setattr`) при установке и получении значений из экземпляра `__dict__`. Если бы я это сделал, это фактически вызвало бы методы дескрипторов `__get__` и `__set__`, что привело бы к бесконечной рекурсии!!\n",
    "\n",
    "Так что будьте осторожны с этим!"
   ]
  },
  {
   "cell_type": "code",
   "execution_count": 28,
   "metadata": {},
   "outputs": [],
   "source": [
    "class ValidString:\n",
    "    def __init__(self, min_length):\n",
    "        self.min_length = min_length\n",
    "\n",
    "    def __set_name__(self, owner_class, prop_name):\n",
    "        self.prop_name = prop_name\n",
    "\n",
    "    def __set__(self, instance, value):\n",
    "        print('calling __set__ ...')\n",
    "        if not isinstance(value, str):\n",
    "            raise ValueError(f'{self.prop_name} must be a string.')\n",
    "        if len(value) < self.min_length:\n",
    "            raise ValueError(f'{self.prop_name} must be '\n",
    "                             f'at least {self.min_length} characters.'\n",
    "                            )\n",
    "        setattr(instance, self.prop_name, value)\n",
    "\n",
    "    def __get__(self, instance, owner_class):\n",
    "        if instance is None:\n",
    "            return self\n",
    "        else:\n",
    "            return instance.__dict__.get(self.prop_name, None)"
   ]
  },
  {
   "cell_type": "code",
   "execution_count": 29,
   "metadata": {},
   "outputs": [],
   "source": [
    "class Person:\n",
    "    name = ValidString(1)"
   ]
  },
  {
   "cell_type": "code",
   "execution_count": 30,
   "metadata": {},
   "outputs": [],
   "source": [
    "p = Person()"
   ]
  },
  {
   "cell_type": "code",
   "execution_count": 31,
   "metadata": {},
   "outputs": [
    {
     "name": "stdout",
     "output_type": "stream",
     "text": [
      "calling __set__ ...\n",
      "calling __set__ ...\n",
      "calling __set__ ...\n",
      "calling __set__ ...\n",
      "calling __set__ ...\n",
      "calling __set__ ...\n",
      "calling __set__ ...\n",
      "calling __set__ ...\n",
      "calling __set__ ...\n",
      "calling __set__ ...\n",
      "calling __set__ ...\n",
      "calling __set__ ...\n",
      "calling __set__ ...\n",
      "calling __set__ ...\n",
      "calling __set__ ...\n",
      "calling __set__ ...\n",
      "calling __set__ ...\n",
      "calling __set__ ...\n",
      "calling __set__ ...\n",
      "calling __set__ ...\n",
      "calling __set__ ...\n",
      "calling __set__ ...\n",
      "calling __set__ ...\n",
      "calling __set__ ...\n",
      "calling __set__ ...\n",
      "calling __set__ ...\n",
      "calling __set__ ...\n",
      "calling __set__ ...\n",
      "calling __set__ ...\n",
      "calling __set__ ...\n",
      "calling __set__ ...\n",
      "calling __set__ ...\n",
      "calling __set__ ...\n",
      "calling __set__ ...\n",
      "calling __set__ ...\n",
      "calling __set__ ...\n",
      "calling __set__ ...\n",
      "calling __set__ ...\n",
      "calling __set__ ...\n",
      "calling __set__ ...\n",
      "calling __set__ ...\n",
      "calling __set__ ...\n",
      "calling __set__ ...\n",
      "calling __set__ ...\n",
      "calling __set__ ...\n",
      "calling __set__ ...\n",
      "calling __set__ ...\n",
      "calling __set__ ...\n",
      "calling __set__ ...\n",
      "calling __set__ ...\n",
      "calling __set__ ...\n",
      "calling __set__ ...\n",
      "calling __set__ ...\n",
      "calling __set__ ...\n",
      "calling __set__ ...\n",
      "calling __set__ ...\n",
      "calling __set__ ...\n",
      "calling __set__ ...\n",
      "calling __set__ ...\n",
      "calling __set__ ...\n",
      "calling __set__ ...\n",
      "calling __set__ ...\n",
      "calling __set__ ...\n",
      "calling __set__ ...\n",
      "calling __set__ ...\n",
      "calling __set__ ...\n",
      "calling __set__ ...\n",
      "calling __set__ ...\n",
      "calling __set__ ...\n",
      "calling __set__ ...\n",
      "calling __set__ ...\n",
      "calling __set__ ...\n",
      "calling __set__ ...\n",
      "calling __set__ ...\n",
      "calling __set__ ...\n",
      "calling __set__ ...\n",
      "calling __set__ ...\n",
      "calling __set__ ...\n",
      "calling __set__ ...\n",
      "calling __set__ ...\n",
      "calling __set__ ...\n",
      "calling __set__ ...\n",
      "calling __set__ ...\n",
      "calling __set__ ...\n",
      "calling __set__ ...\n",
      "calling __set__ ...\n",
      "calling __set__ ...\n",
      "calling __set__ ...\n",
      "calling __set__ ...\n",
      "calling __set__ ...\n",
      "calling __set__ ...\n",
      "calling __set__ ...\n",
      "calling __set__ ...\n",
      "calling __set__ ...\n",
      "calling __set__ ...\n",
      "calling __set__ ...\n",
      "calling __set__ ...\n",
      "calling __set__ ...\n",
      "calling __set__ ...\n",
      "calling __set__ ...\n",
      "calling __set__ ...\n",
      "calling __set__ ...\n",
      "calling __set__ ...\n",
      "calling __set__ ...\n",
      "calling __set__ ...\n",
      "calling __set__ ...\n",
      "calling __set__ ...\n",
      "calling __set__ ...\n",
      "calling __set__ ...\n",
      "calling __set__ ...\n",
      "calling __set__ ...\n",
      "calling __set__ ...\n",
      "calling __set__ ...\n",
      "calling __set__ ...\n",
      "calling __set__ ...\n",
      "calling __set__ ...\n",
      "calling __set__ ...\n",
      "calling __set__ ...\n",
      "calling __set__ ...\n",
      "calling __set__ ...\n",
      "calling __set__ ...\n",
      "calling __set__ ...\n",
      "calling __set__ ...\n",
      "calling __set__ ...\n",
      "calling __set__ ...\n",
      "calling __set__ ...\n",
      "calling __set__ ...\n",
      "calling __set__ ...\n",
      "calling __set__ ...\n",
      "calling __set__ ...\n",
      "calling __set__ ...\n",
      "calling __set__ ...\n",
      "calling __set__ ...\n",
      "calling __set__ ...\n",
      "calling __set__ ...\n",
      "calling __set__ ...\n",
      "calling __set__ ...\n",
      "calling __set__ ...\n",
      "calling __set__ ...\n",
      "calling __set__ ...\n",
      "calling __set__ ...\n",
      "calling __set__ ...\n",
      "calling __set__ ...\n",
      "calling __set__ ...\n",
      "calling __set__ ...\n",
      "calling __set__ ...\n",
      "calling __set__ ...\n",
      "calling __set__ ...\n",
      "calling __set__ ...\n",
      "calling __set__ ...\n",
      "calling __set__ ...\n",
      "calling __set__ ...\n",
      "calling __set__ ...\n",
      "calling __set__ ...\n",
      "calling __set__ ...\n",
      "calling __set__ ...\n",
      "calling __set__ ...\n",
      "calling __set__ ...\n",
      "calling __set__ ...\n",
      "calling __set__ ...\n",
      "calling __set__ ...\n",
      "calling __set__ ...\n",
      "calling __set__ ...\n",
      "calling __set__ ...\n",
      "calling __set__ ...\n",
      "calling __set__ ...\n",
      "calling __set__ ...\n",
      "calling __set__ ...\n",
      "calling __set__ ...\n",
      "calling __set__ ...\n",
      "calling __set__ ...\n",
      "calling __set__ ...\n",
      "calling __set__ ...\n",
      "calling __set__ ...\n",
      "calling __set__ ...\n",
      "calling __set__ ...\n",
      "calling __set__ ...\n",
      "calling __set__ ...\n",
      "calling __set__ ...\n",
      "calling __set__ ...\n",
      "calling __set__ ...\n",
      "calling __set__ ...\n",
      "calling __set__ ...\n",
      "calling __set__ ...\n",
      "calling __set__ ...\n",
      "calling __set__ ...\n",
      "calling __set__ ...\n",
      "calling __set__ ...\n",
      "calling __set__ ...\n",
      "calling __set__ ...\n",
      "calling __set__ ...\n",
      "calling __set__ ...\n",
      "calling __set__ ...\n",
      "calling __set__ ...\n",
      "calling __set__ ...\n",
      "calling __set__ ...\n",
      "calling __set__ ...\n",
      "calling __set__ ...\n",
      "calling __set__ ...\n",
      "calling __set__ ...\n",
      "calling __set__ ...\n",
      "calling __set__ ...\n",
      "calling __set__ ...\n",
      "calling __set__ ...\n",
      "calling __set__ ...\n",
      "calling __set__ ...\n",
      "calling __set__ ...\n",
      "calling __set__ ...\n",
      "calling __set__ ...\n",
      "calling __set__ ...\n",
      "calling __set__ ...\n",
      "calling __set__ ...\n",
      "calling __set__ ...\n",
      "calling __set__ ...\n",
      "calling __set__ ...\n",
      "calling __set__ ...\n",
      "calling __set__ ...\n",
      "calling __set__ ...\n",
      "calling __set__ ...\n",
      "calling __set__ ...\n",
      "calling __set__ ...\n",
      "calling __set__ ...\n",
      "calling __set__ ...\n",
      "calling __set__ ...\n",
      "calling __set__ ...\n",
      "calling __set__ ...\n",
      "calling __set__ ...\n",
      "calling __set__ ...\n",
      "calling __set__ ...\n",
      "calling __set__ ...\n",
      "calling __set__ ...\n",
      "calling __set__ ...\n",
      "calling __set__ ...\n",
      "calling __set__ ...\n",
      "calling __set__ ...\n",
      "calling __set__ ...\n",
      "calling __set__ ...\n",
      "calling __set__ ...\n",
      "calling __set__ ...\n",
      "calling __set__ ...\n",
      "calling __set__ ...\n",
      "calling __set__ ...\n",
      "calling __set__ ...\n",
      "calling __set__ ...\n",
      "calling __set__ ...\n",
      "calling __set__ ...\n",
      "calling __set__ ...\n",
      "calling __set__ ...\n",
      "calling __set__ ...\n",
      "calling __set__ ...\n",
      "calling __set__ ...\n",
      "calling __set__ ...\n",
      "calling __set__ ...\n",
      "calling __set__ ...\n",
      "calling __set__ ...\n",
      "calling __set__ ...\n",
      "calling __set__ ...\n",
      "calling __set__ ...\n",
      "calling __set__ ...\n",
      "calling __set__ ...\n",
      "calling __set__ ...\n",
      "calling __set__ ...\n",
      "calling __set__ ...\n",
      "calling __set__ ...\n",
      "calling __set__ ...\n",
      "calling __set__ ...\n",
      "calling __set__ ...\n",
      "calling __set__ ...\n",
      "calling __set__ ...\n",
      "calling __set__ ...\n",
      "calling __set__ ...\n",
      "calling __set__ ...\n",
      "calling __set__ ...\n",
      "calling __set__ ...\n",
      "calling __set__ ...\n",
      "calling __set__ ...\n",
      "calling __set__ ...\n",
      "calling __set__ ...\n",
      "calling __set__ ...\n",
      "calling __set__ ...\n",
      "calling __set__ ...\n",
      "calling __set__ ...\n",
      "calling __set__ ...\n",
      "calling __set__ ...\n",
      "calling __set__ ...\n",
      "calling __set__ ...\n",
      "calling __set__ ...\n",
      "calling __set__ ...\n",
      "calling __set__ ...\n",
      "calling __set__ ...\n",
      "calling __set__ ...\n",
      "calling __set__ ...\n",
      "calling __set__ ...\n",
      "calling __set__ ...\n",
      "calling __set__ ...\n",
      "calling __set__ ...\n",
      "calling __set__ ...\n",
      "calling __set__ ...\n",
      "calling __set__ ...\n",
      "calling __set__ ...\n",
      "calling __set__ ...\n",
      "calling __set__ ...\n",
      "calling __set__ ...\n",
      "calling __set__ ...\n",
      "calling __set__ ...\n",
      "calling __set__ ...\n",
      "calling __set__ ...\n",
      "calling __set__ ...\n",
      "calling __set__ ...\n",
      "calling __set__ ...\n",
      "calling __set__ ...\n",
      "calling __set__ ...\n",
      "calling __set__ ...\n",
      "calling __set__ ...\n",
      "calling __set__ ...\n",
      "calling __set__ ...\n",
      "calling __set__ ...\n",
      "calling __set__ ...\n",
      "calling __set__ ...\n",
      "calling __set__ ...\n",
      "calling __set__ ...\n",
      "calling __set__ ...\n",
      "calling __set__ ...\n",
      "calling __set__ ...\n",
      "calling __set__ ...\n",
      "calling __set__ ...\n",
      "calling __set__ ...\n",
      "calling __set__ ...\n",
      "calling __set__ ...\n",
      "calling __set__ ...\n",
      "calling __set__ ...\n",
      "calling __set__ ...\n",
      "calling __set__ ...\n",
      "calling __set__ ...\n",
      "calling __set__ ...\n",
      "calling __set__ ...\n",
      "calling __set__ ...\n",
      "calling __set__ ...\n",
      "calling __set__ ...\n",
      "calling __set__ ...\n",
      "calling __set__ ...\n",
      "calling __set__ ...\n",
      "calling __set__ ...\n",
      "calling __set__ ...\n",
      "calling __set__ ...\n",
      "calling __set__ ...\n",
      "calling __set__ ...\n",
      "calling __set__ ...\n",
      "calling __set__ ...\n",
      "calling __set__ ...\n",
      "calling __set__ ...\n",
      "calling __set__ ...\n",
      "calling __set__ ...\n",
      "calling __set__ ...\n",
      "calling __set__ ...\n",
      "calling __set__ ...\n",
      "calling __set__ ...\n",
      "calling __set__ ...\n",
      "calling __set__ ...\n",
      "calling __set__ ...\n",
      "calling __set__ ...\n",
      "calling __set__ ...\n",
      "calling __set__ ...\n",
      "calling __set__ ...\n",
      "calling __set__ ...\n",
      "calling __set__ ...\n",
      "calling __set__ ...\n",
      "calling __set__ ...\n",
      "calling __set__ ...\n",
      "calling __set__ ...\n",
      "calling __set__ ...\n",
      "calling __set__ ...\n",
      "calling __set__ ...\n",
      "calling __set__ ...\n",
      "calling __set__ ...\n",
      "calling __set__ ...\n",
      "calling __set__ ...\n",
      "calling __set__ ...\n",
      "calling __set__ ...\n",
      "calling __set__ ...\n",
      "calling __set__ ...\n",
      "calling __set__ ...\n",
      "calling __set__ ...\n",
      "calling __set__ ...\n",
      "calling __set__ ...\n",
      "calling __set__ ...\n",
      "calling __set__ ...\n",
      "calling __set__ ...\n",
      "calling __set__ ...\n",
      "calling __set__ ...\n",
      "calling __set__ ...\n",
      "calling __set__ ...\n",
      "calling __set__ ...\n",
      "calling __set__ ...\n",
      "calling __set__ ...\n",
      "calling __set__ ...\n",
      "calling __set__ ...\n",
      "calling __set__ ...\n",
      "calling __set__ ...\n",
      "calling __set__ ...\n",
      "calling __set__ ...\n",
      "calling __set__ ...\n",
      "calling __set__ ...\n",
      "calling __set__ ...\n",
      "calling __set__ ...\n",
      "calling __set__ ...\n",
      "calling __set__ ...\n",
      "calling __set__ ...\n",
      "calling __set__ ...\n",
      "calling __set__ ...\n",
      "calling __set__ ...\n",
      "calling __set__ ...\n",
      "calling __set__ ...\n",
      "calling __set__ ...\n",
      "calling __set__ ...\n",
      "calling __set__ ...\n",
      "calling __set__ ...\n",
      "calling __set__ ...\n",
      "calling __set__ ...\n",
      "calling __set__ ...\n",
      "calling __set__ ...\n",
      "calling __set__ ...\n",
      "calling __set__ ...\n",
      "calling __set__ ...\n",
      "calling __set__ ...\n",
      "calling __set__ ...\n",
      "calling __set__ ...\n",
      "calling __set__ ...\n",
      "calling __set__ ...\n",
      "calling __set__ ...\n",
      "calling __set__ ...\n",
      "calling __set__ ...\n",
      "calling __set__ ...\n",
      "calling __set__ ...\n",
      "calling __set__ ...\n",
      "calling __set__ ...\n",
      "calling __set__ ...\n",
      "calling __set__ ...\n",
      "calling __set__ ...\n",
      "calling __set__ ...\n",
      "calling __set__ ...\n",
      "calling __set__ ...\n",
      "calling __set__ ...\n",
      "calling __set__ ...\n",
      "calling __set__ ...\n",
      "calling __set__ ...\n",
      "calling __set__ ...\n",
      "calling __set__ ...\n",
      "calling __set__ ...\n",
      "calling __set__ ...\n",
      "calling __set__ ...\n",
      "calling __set__ ...\n",
      "calling __set__ ...\n",
      "calling __set__ ...\n",
      "calling __set__ ...\n",
      "calling __set__ ...\n",
      "calling __set__ ...\n",
      "calling __set__ ...\n",
      "calling __set__ ...\n",
      "calling __set__ ...\n",
      "calling __set__ ...\n",
      "calling __set__ ...\n",
      "calling __set__ ...\n",
      "calling __set__ ...\n",
      "calling __set__ ...\n",
      "calling __set__ ...\n",
      "calling __set__ ...\n",
      "calling __set__ ...\n",
      "calling __set__ ...\n",
      "calling __set__ ...\n",
      "calling __set__ ...\n",
      "calling __set__ ...\n",
      "calling __set__ ...\n",
      "calling __set__ ...\n",
      "calling __set__ ...\n",
      "calling __set__ ...\n",
      "calling __set__ ...\n",
      "calling __set__ ...\n",
      "calling __set__ ...\n",
      "calling __set__ ...\n",
      "calling __set__ ...\n",
      "calling __set__ ...\n",
      "calling __set__ ...\n",
      "calling __set__ ...\n",
      "calling __set__ ...\n",
      "calling __set__ ...\n",
      "calling __set__ ...\n",
      "calling __set__ ...\n",
      "calling __set__ ...\n",
      "calling __set__ ...\n",
      "calling __set__ ...\n",
      "calling __set__ ...\n",
      "calling __set__ ...\n",
      "calling __set__ ...\n",
      "calling __set__ ...\n",
      "calling __set__ ...\n",
      "calling __set__ ...\n",
      "calling __set__ ...\n",
      "calling __set__ ...\n",
      "calling __set__ ...\n",
      "calling __set__ ...\n",
      "calling __set__ ...\n",
      "calling __set__ ...\n",
      "calling __set__ ...\n",
      "calling __set__ ...\n",
      "calling __set__ ...\n",
      "calling __set__ ...\n",
      "calling __set__ ...\n",
      "calling __set__ ...\n",
      "calling __set__ ...\n",
      "calling __set__ ...\n",
      "calling __set__ ...\n",
      "calling __set__ ...\n",
      "calling __set__ ...\n",
      "calling __set__ ...\n",
      "calling __set__ ...\n",
      "calling __set__ ...\n",
      "calling __set__ ...\n",
      "calling __set__ ...\n",
      "calling __set__ ...\n",
      "calling __set__ ...\n",
      "calling __set__ ...\n",
      "calling __set__ ...\n",
      "calling __set__ ...\n",
      "calling __set__ ...\n",
      "calling __set__ ...\n",
      "calling __set__ ...\n",
      "calling __set__ ...\n",
      "calling __set__ ...\n",
      "calling __set__ ...\n",
      "calling __set__ ...\n",
      "calling __set__ ...\n",
      "calling __set__ ...\n",
      "calling __set__ ...\n",
      "calling __set__ ...\n",
      "calling __set__ ...\n",
      "calling __set__ ...\n",
      "calling __set__ ...\n",
      "calling __set__ ...\n",
      "calling __set__ ...\n",
      "calling __set__ ...\n",
      "calling __set__ ...\n",
      "calling __set__ ...\n",
      "calling __set__ ...\n",
      "calling __set__ ...\n",
      "calling __set__ ...\n",
      "calling __set__ ...\n",
      "calling __set__ ...\n",
      "calling __set__ ...\n",
      "calling __set__ ...\n",
      "calling __set__ ...\n",
      "calling __set__ ...\n",
      "calling __set__ ...\n",
      "calling __set__ ...\n",
      "calling __set__ ...\n",
      "calling __set__ ...\n",
      "calling __set__ ...\n",
      "calling __set__ ...\n",
      "calling __set__ ...\n",
      "calling __set__ ...\n",
      "calling __set__ ...\n",
      "calling __set__ ...\n",
      "calling __set__ ...\n",
      "calling __set__ ...\n",
      "calling __set__ ...\n",
      "calling __set__ ...\n",
      "calling __set__ ...\n",
      "calling __set__ ...\n",
      "calling __set__ ...\n",
      "calling __set__ ...\n",
      "calling __set__ ...\n",
      "calling __set__ ...\n",
      "calling __set__ ...\n",
      "calling __set__ ...\n",
      "calling __set__ ...\n",
      "calling __set__ ...\n",
      "calling __set__ ...\n",
      "calling __set__ ...\n",
      "calling __set__ ...\n",
      "calling __set__ ...\n",
      "calling __set__ ...\n",
      "calling __set__ ...\n",
      "calling __set__ ...\n",
      "calling __set__ ...\n",
      "calling __set__ ...\n",
      "calling __set__ ...\n",
      "calling __set__ ...\n",
      "calling __set__ ...\n",
      "calling __set__ ...\n",
      "calling __set__ ...\n",
      "calling __set__ ...\n",
      "calling __set__ ...\n",
      "calling __set__ ...\n",
      "calling __set__ ...\n",
      "calling __set__ ...\n",
      "calling __set__ ...\n",
      "calling __set__ ...\n",
      "calling __set__ ...\n",
      "calling __set__ ...\n",
      "calling __set__ ...\n",
      "calling __set__ ...\n",
      "calling __set__ ...\n",
      "calling __set__ ...\n",
      "calling __set__ ...\n",
      "calling __set__ ...\n",
      "calling __set__ ...\n",
      "calling __set__ ...\n",
      "calling __set__ ...\n",
      "calling __set__ ...\n",
      "calling __set__ ...\n",
      "calling __set__ ...\n",
      "calling __set__ ...\n",
      "calling __set__ ...\n",
      "calling __set__ ...\n",
      "calling __set__ ...\n",
      "calling __set__ ...\n",
      "calling __set__ ...\n",
      "calling __set__ ...\n",
      "calling __set__ ...\n",
      "calling __set__ ...\n",
      "calling __set__ ...\n",
      "calling __set__ ...\n",
      "calling __set__ ...\n",
      "calling __set__ ...\n",
      "calling __set__ ...\n",
      "calling __set__ ...\n",
      "calling __set__ ...\n",
      "calling __set__ ...\n",
      "calling __set__ ...\n",
      "calling __set__ ...\n",
      "calling __set__ ...\n",
      "calling __set__ ...\n",
      "calling __set__ ...\n",
      "calling __set__ ...\n",
      "calling __set__ ...\n",
      "calling __set__ ...\n",
      "calling __set__ ...\n",
      "calling __set__ ...\n",
      "calling __set__ ...\n",
      "calling __set__ ...\n",
      "calling __set__ ...\n",
      "calling __set__ ...\n",
      "calling __set__ ...\n",
      "calling __set__ ...\n",
      "calling __set__ ...\n",
      "calling __set__ ...\n",
      "calling __set__ ...\n",
      "calling __set__ ...\n",
      "calling __set__ ...\n",
      "calling __set__ ...\n",
      "calling __set__ ...\n",
      "calling __set__ ...\n",
      "calling __set__ ...\n",
      "calling __set__ ...\n",
      "calling __set__ ...\n",
      "calling __set__ ...\n",
      "calling __set__ ...\n",
      "calling __set__ ...\n",
      "calling __set__ ...\n",
      "calling __set__ ...\n",
      "calling __set__ ...\n",
      "calling __set__ ...\n",
      "calling __set__ ...\n",
      "calling __set__ ...\n",
      "calling __set__ ...\n",
      "calling __set__ ...\n",
      "calling __set__ ...\n",
      "calling __set__ ...\n",
      "calling __set__ ...\n",
      "calling __set__ ...\n",
      "calling __set__ ...\n",
      "calling __set__ ...\n",
      "calling __set__ ...\n",
      "calling __set__ ...\n",
      "calling __set__ ...\n",
      "calling __set__ ...\n",
      "calling __set__ ...\n",
      "calling __set__ ...\n",
      "calling __set__ ...\n",
      "calling __set__ ...\n",
      "calling __set__ ...\n",
      "calling __set__ ...\n",
      "calling __set__ ...\n",
      "calling __set__ ...\n",
      "calling __set__ ...\n",
      "calling __set__ ...\n",
      "calling __set__ ...\n",
      "calling __set__ ...\n",
      "calling __set__ ...\n",
      "calling __set__ ...\n",
      "calling __set__ ...\n",
      "calling __set__ ...\n",
      "calling __set__ ...\n",
      "calling __set__ ...\n",
      "calling __set__ ...\n",
      "calling __set__ ...\n",
      "calling __set__ ...\n",
      "calling __set__ ...\n",
      "calling __set__ ...\n",
      "calling __set__ ...\n",
      "calling __set__ ...\n",
      "calling __set__ ...\n",
      "calling __set__ ...\n",
      "calling __set__ ...\n",
      "calling __set__ ...\n",
      "calling __set__ ...\n",
      "calling __set__ ...\n",
      "calling __set__ ...\n",
      "calling __set__ ...\n",
      "calling __set__ ...\n",
      "calling __set__ ...\n",
      "calling __set__ ...\n",
      "calling __set__ ...\n",
      "calling __set__ ...\n",
      "calling __set__ ...\n",
      "calling __set__ ...\n",
      "calling __set__ ...\n",
      "calling __set__ ...\n",
      "calling __set__ ...\n",
      "calling __set__ ...\n",
      "calling __set__ ...\n",
      "calling __set__ ...\n",
      "calling __set__ ...\n",
      "calling __set__ ...\n",
      "calling __set__ ...\n",
      "calling __set__ ...\n",
      "calling __set__ ...\n",
      "calling __set__ ...\n",
      "calling __set__ ...\n",
      "calling __set__ ...\n",
      "calling __set__ ...\n",
      "calling __set__ ...\n",
      "calling __set__ ...\n",
      "calling __set__ ...\n",
      "calling __set__ ...\n",
      "calling __set__ ...\n",
      "calling __set__ ...\n",
      "calling __set__ ...\n",
      "calling __set__ ...\n",
      "calling __set__ ...\n",
      "calling __set__ ...\n",
      "calling __set__ ...\n",
      "calling __set__ ...\n",
      "calling __set__ ...\n",
      "calling __set__ ...\n",
      "calling __set__ ...\n",
      "calling __set__ ...\n",
      "calling __set__ ...\n",
      "calling __set__ ...\n",
      "calling __set__ ...\n",
      "calling __set__ ...\n",
      "calling __set__ ...\n",
      "calling __set__ ...\n",
      "calling __set__ ...\n",
      "calling __set__ ...\n",
      "calling __set__ ...\n",
      "calling __set__ ...\n",
      "calling __set__ ...\n",
      "calling __set__ ...\n",
      "calling __set__ ...\n",
      "calling __set__ ...\n",
      "calling __set__ ...\n",
      "calling __set__ ...\n",
      "calling __set__ ...\n",
      "calling __set__ ...\n",
      "calling __set__ ...\n",
      "calling __set__ ...\n",
      "calling __set__ ...\n",
      "calling __set__ ...\n",
      "calling __set__ ...\n",
      "calling __set__ ...\n",
      "calling __set__ ...\n",
      "calling __set__ ...\n",
      "calling __set__ ...\n",
      "calling __set__ ...\n",
      "calling __set__ ...\n",
      "calling __set__ ...\n",
      "calling __set__ ...\n",
      "calling __set__ ...\n",
      "calling __set__ ...\n",
      "calling __set__ ...\n",
      "calling __set__ ...\n",
      "calling __set__ ...\n",
      "calling __set__ ...\n",
      "calling __set__ ...\n",
      "calling __set__ ...\n",
      "calling __set__ ...\n",
      "calling __set__ ...\n",
      "calling __set__ ...\n"
     ]
    },
    {
     "name": "stdout",
     "output_type": "stream",
     "text": [
      "calling __set__ ...\n",
      "calling __set__ ...\n",
      "calling __set__ ...\n",
      "calling __set__ ...\n",
      "calling __set__ ...\n",
      "calling __set__ ...\n",
      "calling __set__ ...\n",
      "calling __set__ ...\n",
      "calling __set__ ...\n",
      "calling __set__ ...\n",
      "calling __set__ ...\n",
      "calling __set__ ...\n",
      "calling __set__ ...\n",
      "calling __set__ ...\n",
      "calling __set__ ...\n",
      "calling __set__ ...\n",
      "calling __set__ ...\n",
      "calling __set__ ...\n",
      "calling __set__ ...\n",
      "calling __set__ ...\n",
      "calling __set__ ...\n",
      "calling __set__ ...\n",
      "calling __set__ ...\n",
      "calling __set__ ...\n",
      "calling __set__ ...\n",
      "calling __set__ ...\n",
      "calling __set__ ...\n",
      "calling __set__ ...\n",
      "calling __set__ ...\n",
      "calling __set__ ...\n",
      "calling __set__ ...\n",
      "calling __set__ ...\n",
      "calling __set__ ...\n",
      "calling __set__ ...\n",
      "calling __set__ ...\n",
      "calling __set__ ...\n",
      "calling __set__ ...\n",
      "calling __set__ ...\n",
      "calling __set__ ...\n",
      "calling __set__ ...\n",
      "calling __set__ ...\n",
      "calling __set__ ...\n",
      "calling __set__ ...\n",
      "calling __set__ ...\n",
      "calling __set__ ...\n",
      "calling __set__ ...\n",
      "calling __set__ ...\n",
      "calling __set__ ...\n",
      "calling __set__ ...\n",
      "calling __set__ ...\n",
      "calling __set__ ...\n",
      "calling __set__ ...\n",
      "calling __set__ ...\n",
      "calling __set__ ...\n",
      "calling __set__ ...\n",
      "calling __set__ ...\n",
      "calling __set__ ...\n",
      "calling __set__ ...\n",
      "calling __set__ ...\n",
      "calling __set__ ...\n",
      "calling __set__ ...\n",
      "calling __set__ ...\n",
      "calling __set__ ...\n",
      "calling __set__ ...\n",
      "calling __set__ ...\n",
      "calling __set__ ...\n",
      "calling __set__ ...\n",
      "calling __set__ ...\n",
      "calling __set__ ...\n",
      "calling __set__ ...\n",
      "calling __set__ ...\n",
      "calling __set__ ...\n",
      "calling __set__ ...\n",
      "calling __set__ ...\n",
      "calling __set__ ...\n",
      "calling __set__ ...\n",
      "calling __set__ ...\n",
      "calling __set__ ...\n",
      "calling __set__ ...\n",
      "calling __set__ ...\n",
      "calling __set__ ...\n",
      "calling __set__ ...\n",
      "calling __set__ ...\n",
      "calling __set__ ...\n",
      "calling __set__ ...\n",
      "calling __set__ ...\n",
      "calling __set__ ...\n",
      "calling __set__ ...\n",
      "calling __set__ ...\n",
      "calling __set__ ...\n",
      "calling __set__ ...\n",
      "calling __set__ ...\n",
      "calling __set__ ...\n",
      "calling __set__ ...\n",
      "calling __set__ ...\n",
      "calling __set__ ...\n",
      "calling __set__ ...\n",
      "calling __set__ ...\n",
      "calling __set__ ...\n",
      "calling __set__ ...\n",
      "calling __set__ ...\n",
      "calling __set__ ...\n",
      "calling __set__ ...\n",
      "calling __set__ ...\n",
      "calling __set__ ...\n",
      "calling __set__ ...\n",
      "calling __set__ ...\n",
      "calling __set__ ...\n",
      "calling __set__ ...\n",
      "calling __set__ ...\n",
      "calling __set__ ...\n",
      "calling __set__ ...\n",
      "calling __set__ ...\n",
      "calling __set__ ...\n",
      "calling __set__ ...\n",
      "calling __set__ ...\n",
      "calling __set__ ...\n",
      "calling __set__ ...\n",
      "calling __set__ ...\n",
      "calling __set__ ...\n",
      "calling __set__ ...\n",
      "calling __set__ ...\n",
      "calling __set__ ...\n",
      "calling __set__ ...\n",
      "calling __set__ ...\n",
      "calling __set__ ...\n",
      "calling __set__ ...\n",
      "calling __set__ ...\n",
      "calling __set__ ...\n",
      "calling __set__ ...\n",
      "calling __set__ ...\n",
      "calling __set__ ...\n",
      "calling __set__ ...\n",
      "calling __set__ ...\n",
      "calling __set__ ...\n",
      "calling __set__ ...\n",
      "calling __set__ ...\n",
      "calling __set__ ...\n",
      "calling __set__ ...\n",
      "calling __set__ ...\n",
      "calling __set__ ...\n",
      "calling __set__ ...\n",
      "calling __set__ ...\n",
      "calling __set__ ...\n",
      "calling __set__ ...\n",
      "calling __set__ ...\n",
      "calling __set__ ...\n",
      "calling __set__ ...\n",
      "calling __set__ ...\n",
      "calling __set__ ...\n",
      "calling __set__ ...\n",
      "calling __set__ ...\n",
      "calling __set__ ...\n",
      "calling __set__ ...\n",
      "calling __set__ ...\n",
      "calling __set__ ...\n",
      "calling __set__ ...\n",
      "calling __set__ ...\n",
      "calling __set__ ...\n",
      "calling __set__ ...\n",
      "calling __set__ ...\n",
      "calling __set__ ...\n",
      "calling __set__ ...\n",
      "calling __set__ ...\n",
      "calling __set__ ...\n",
      "calling __set__ ...\n",
      "calling __set__ ...\n",
      "calling __set__ ...\n",
      "calling __set__ ...\n",
      "calling __set__ ...\n",
      "calling __set__ ...\n",
      "calling __set__ ...\n",
      "calling __set__ ...\n",
      "calling __set__ ...\n",
      "calling __set__ ...\n",
      "calling __set__ ...\n",
      "calling __set__ ...\n",
      "calling __set__ ...\n",
      "calling __set__ ...\n",
      "calling __set__ ...\n",
      "calling __set__ ...\n",
      "calling __set__ ...\n",
      "calling __set__ ...\n",
      "calling __set__ ...\n",
      "calling __set__ ...\n",
      "calling __set__ ...\n",
      "calling __set__ ...\n",
      "calling __set__ ...\n",
      "calling __set__ ...\n",
      "calling __set__ ...\n",
      "calling __set__ ...\n",
      "calling __set__ ...\n",
      "calling __set__ ...\n",
      "calling __set__ ..."
     ]
    },
    {
     "ename": "RecursionError",
     "evalue": "maximum recursion depth exceeded in comparison",
     "output_type": "error",
     "traceback": [
      "\u001b[0;31m---------------------------------------------------------------------------\u001b[0m",
      "\u001b[0;31mRecursionError\u001b[0m                            Traceback (most recent call last)",
      "\u001b[0;32m<ipython-input-31-5d128de2f1ae>\u001b[0m in \u001b[0;36m<module>\u001b[0;34m\u001b[0m\n\u001b[0;32m----> 1\u001b[0;31m \u001b[0mp\u001b[0m\u001b[0;34m.\u001b[0m\u001b[0mname\u001b[0m \u001b[0;34m=\u001b[0m \u001b[0;34m'Alex'\u001b[0m\u001b[0;34m\u001b[0m\u001b[0;34m\u001b[0m\u001b[0m\n\u001b[0m",
      "\u001b[0;32m<ipython-input-28-97f70694cdb7>\u001b[0m in \u001b[0;36m__set__\u001b[0;34m(self, instance, value)\u001b[0m\n\u001b[1;32m     14\u001b[0m                              \u001b[0;34mf'at least {self.min_length} characters.'\u001b[0m\u001b[0;34m\u001b[0m\u001b[0;34m\u001b[0m\u001b[0m\n\u001b[1;32m     15\u001b[0m                             )\n\u001b[0;32m---> 16\u001b[0;31m         \u001b[0msetattr\u001b[0m\u001b[0;34m(\u001b[0m\u001b[0minstance\u001b[0m\u001b[0;34m,\u001b[0m \u001b[0mself\u001b[0m\u001b[0;34m.\u001b[0m\u001b[0mprop_name\u001b[0m\u001b[0;34m,\u001b[0m \u001b[0mvalue\u001b[0m\u001b[0;34m)\u001b[0m\u001b[0;34m\u001b[0m\u001b[0;34m\u001b[0m\u001b[0m\n\u001b[0m\u001b[1;32m     17\u001b[0m \u001b[0;34m\u001b[0m\u001b[0m\n\u001b[1;32m     18\u001b[0m     \u001b[0;32mdef\u001b[0m \u001b[0m__get__\u001b[0m\u001b[0;34m(\u001b[0m\u001b[0mself\u001b[0m\u001b[0;34m,\u001b[0m \u001b[0minstance\u001b[0m\u001b[0;34m,\u001b[0m \u001b[0mowner_class\u001b[0m\u001b[0;34m)\u001b[0m\u001b[0;34m:\u001b[0m\u001b[0;34m\u001b[0m\u001b[0;34m\u001b[0m\u001b[0m\n",
      "... last 1 frames repeated, from the frame below ...\n",
      "\u001b[0;32m<ipython-input-28-97f70694cdb7>\u001b[0m in \u001b[0;36m__set__\u001b[0;34m(self, instance, value)\u001b[0m\n\u001b[1;32m     14\u001b[0m                              \u001b[0;34mf'at least {self.min_length} characters.'\u001b[0m\u001b[0;34m\u001b[0m\u001b[0;34m\u001b[0m\u001b[0m\n\u001b[1;32m     15\u001b[0m                             )\n\u001b[0;32m---> 16\u001b[0;31m         \u001b[0msetattr\u001b[0m\u001b[0;34m(\u001b[0m\u001b[0minstance\u001b[0m\u001b[0;34m,\u001b[0m \u001b[0mself\u001b[0m\u001b[0;34m.\u001b[0m\u001b[0mprop_name\u001b[0m\u001b[0;34m,\u001b[0m \u001b[0mvalue\u001b[0m\u001b[0;34m)\u001b[0m\u001b[0;34m\u001b[0m\u001b[0;34m\u001b[0m\u001b[0m\n\u001b[0m\u001b[1;32m     17\u001b[0m \u001b[0;34m\u001b[0m\u001b[0m\n\u001b[1;32m     18\u001b[0m     \u001b[0;32mdef\u001b[0m \u001b[0m__get__\u001b[0m\u001b[0;34m(\u001b[0m\u001b[0mself\u001b[0m\u001b[0;34m,\u001b[0m \u001b[0minstance\u001b[0m\u001b[0;34m,\u001b[0m \u001b[0mowner_class\u001b[0m\u001b[0;34m)\u001b[0m\u001b[0;34m:\u001b[0m\u001b[0;34m\u001b[0m\u001b[0;34m\u001b[0m\u001b[0m\n",
      "\u001b[0;31mRecursionError\u001b[0m: maximum recursion depth exceeded in comparison"
     ]
    }
   ],
   "source": [
    "p.name = 'Alex'"
   ]
  },
  {
   "cell_type": "code",
   "execution_count": null,
   "metadata": {},
   "outputs": [],
   "source": []
  }
 ],
 "metadata": {
  "kernelspec": {
   "display_name": "Python 3",
   "language": "python",
   "name": "python3"
  },
  "language_info": {
   "codemirror_mode": {
    "name": "ipython",
    "version": 3
   },
   "file_extension": ".py",
   "mimetype": "text/x-python",
   "name": "python",
   "nbconvert_exporter": "python",
   "pygments_lexer": "ipython3",
   "version": "3.6.7"
  }
 },
 "nbformat": 4,
 "nbformat_minor": 2
}
