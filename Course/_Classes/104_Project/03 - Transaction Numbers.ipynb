{
 "cells": [
  {
   "cell_type": "markdown",
   "metadata": {},
   "source": [
    "### Project 1: Transaction Numbers"
   ]
  },
  {
   "cell_type": "markdown",
   "metadata": {},
   "source": [
    "Далее мне нужно что-то для логики идентификатора транзакции.\n",
    "\n",
    "По сути, нам просто нужен инициализированный счетчик, который возвращает следующее значение каждый раз, когда он вызывается.\n",
    "\n",
    "У нас есть разные способы сделать это — поскольку это курс ООП, у вас может возникнуть соблазн сразу перейти к реализации класса для этого.\n",
    "\n",
    "Мы могли бы сделать это следующим образом:"
   ]
  },
  {
   "cell_type": "code",
   "execution_count": 1,
   "metadata": {},
   "outputs": [],
   "source": [
    "class TransactionID:\n",
    "    def __init__(self, start_id):\n",
    "        self._start_id = start_id\n",
    "\n",
    "    def next(self):\n",
    "        self._start_id += 1\n",
    "        return self._start_id"
   ]
  },
  {
   "cell_type": "markdown",
   "metadata": {},
   "source": [
    "Затем мы могли бы использовать экземпляр этого класса в качестве атрибута класса для `Account` следующим образом:"
   ]
  },
  {
   "cell_type": "code",
   "execution_count": 2,
   "metadata": {},
   "outputs": [],
   "source": [
    "class Account:\n",
    "    transaction_counter = TransactionID(100)\n",
    "\n",
    "    def make_transaction(self):\n",
    "        new_trans_id = Account.transaction_counter.next()\n",
    "        return new_trans_id"
   ]
  },
  {
   "cell_type": "code",
   "execution_count": 3,
   "metadata": {},
   "outputs": [
    {
     "name": "stdout",
     "output_type": "stream",
     "text": [
      "101\n",
      "102\n",
      "103\n"
     ]
    }
   ],
   "source": [
    "a1 = Account()\n",
    "a2 = Account()\n",
    "\n",
    "print(a1.make_transaction())\n",
    "print(a2.make_transaction())\n",
    "print(a1.make_transaction())"
   ]
  },
  {
   "cell_type": "markdown",
   "metadata": {},
   "source": [
    "Итак, это работает просто отлично, но если мы подумаем об этом немного больше, то увидим, что нам действительно не нужен класс для решения этой конкретной проблемы. Мы могли бы даже реализовать протокол итератора для этого класса (реализовав `__iter__` и `__next__`), но простой бесконечный генератор будет работать так же хорошо.\n",
    "\n",
    "Так что мораль этой истории такова: не бросайтесь решать каждую проблему с помощью классов — это не Java, нам не нужен класс для всего!"
   ]
  },
  {
   "cell_type": "markdown",
   "metadata": {},
   "source": [
    "Вместо этого я собираюсь реализовать это следующим образом:"
   ]
  },
  {
   "cell_type": "code",
   "execution_count": 4,
   "metadata": {},
   "outputs": [],
   "source": [
    "def transaction_ids(start_id):\n",
    "    while True:\n",
    "        start_id += 1\n",
    "        yield start_id"
   ]
  },
  {
   "cell_type": "markdown",
   "metadata": {},
   "source": [
    "Итак, мы можем использовать это следующим образом:"
   ]
  },
  {
   "cell_type": "code",
   "execution_count": 5,
   "metadata": {},
   "outputs": [],
   "source": [
    "class Account:\n",
    "    transaction_counter = transaction_ids(100)\n",
    "\n",
    "    def make_transaction(self):\n",
    "        new_trans_id = next(Account.transaction_counter)\n",
    "        return new_trans_id"
   ]
  },
  {
   "cell_type": "code",
   "execution_count": 6,
   "metadata": {},
   "outputs": [
    {
     "name": "stdout",
     "output_type": "stream",
     "text": [
      "101\n",
      "102\n",
      "103\n"
     ]
    }
   ],
   "source": [
    "a1 = Account()\n",
    "a2 = Account()\n",
    "\n",
    "print(a1.make_transaction())\n",
    "print(a2.make_transaction())\n",
    "print(a1.make_transaction())"
   ]
  },
  {
   "cell_type": "markdown",
   "metadata": {},
   "source": [
    "Итак, это работает одинаково хорошо, но если мы вспомним метод `counter` в модуле `itertools`, мы можем упростить это еще больше:"
   ]
  },
  {
   "cell_type": "code",
   "execution_count": 7,
   "metadata": {},
   "outputs": [],
   "source": [
    "import itertools\n",
    "\n",
    "class Account:\n",
    "    transaction_counter = itertools.count(100)\n",
    "\n",
    "    def make_transaction(self):\n",
    "        new_trans_id = next(Account.transaction_counter)\n",
    "        return new_trans_id"
   ]
  },
  {
   "cell_type": "code",
   "execution_count": 8,
   "metadata": {},
   "outputs": [
    {
     "name": "stdout",
     "output_type": "stream",
     "text": [
      "100\n",
      "101\n",
      "102\n"
     ]
    }
   ],
   "source": [
    "a1 = Account()\n",
    "a2 = Account()\n",
    "\n",
    "print(a1.make_transaction())\n",
    "print(a2.make_transaction())\n",
    "print(a1.make_transaction())"
   ]
  }
 ],
 "metadata": {
  "kernelspec": {
   "display_name": "Python 3",
   "language": "python",
   "name": "python3"
  },
  "language_info": {
   "codemirror_mode": {
    "name": "ipython",
    "version": 3
   },
   "file_extension": ".py",
   "mimetype": "text/x-python",
   "name": "python",
   "nbconvert_exporter": "python",
   "pygments_lexer": "ipython3",
   "version": "3.6.7"
  }
 },
 "nbformat": 4,
 "nbformat_minor": 2
}
