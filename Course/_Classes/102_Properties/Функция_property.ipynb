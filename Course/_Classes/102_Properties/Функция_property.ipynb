{
 "cells": [
  {
   "cell_type": "markdown",
   "metadata": {},
   "source": [
    "## propery"
   ]
  },
  {
   "cell_type": "markdown",
   "metadata": {},
   "source": [
    "Функция property() в Python используется для создания управляемых **атрибутов** в классах. Она позволяет определить методы для **получения**, **установки** и **удаления** значения атрибута, а также для **добавления документации к атрибуту**. Это полезно, когда нужно добавить дополнительную логику при работе с атрибутами, например, валидацию или вычисление значения на лету.\n",
    "\n",
    "Основные компоненты property\n",
    "Функция property() принимает до четырех аргументов:\n",
    "\n",
    "**fget** — функция для получения значения атрибута.\n",
    "\n",
    "**fset** — функция для установки значения атрибута.\n",
    "\n",
    "**fdel** — функция для удаления атрибута.\n",
    "\n",
    "**doc** — строка документации для атрибута.\n",
    "\n",
    "Если какой-то из аргументов не указан, соответствующая операция (получение, установка или удаление) будет запрещена.\n",
    "\n",
    "Пример использования:"
   ]
  },
  {
   "cell_type": "code",
   "execution_count": null,
   "metadata": {},
   "outputs": [],
   "source": [
    "class Circle:\n",
    "    def __init__(self, radius):\n",
    "        self._radius = radius\n",
    "\n",
    "    def get_radius(self):\n",
    "        print(\"Getting radius\")\n",
    "        return self._radius\n",
    "\n",
    "    def set_radius(self, value):\n",
    "        print(\"Setting radius\")\n",
    "        if value < 0:\n",
    "            raise ValueError(\"Radius cannot be negative\")\n",
    "        self._radius = value\n",
    "\n",
    "    def del_radius(self):\n",
    "        print(\"Deleting radius\")\n",
    "        del self._radius\n",
    "\n",
    "    # Создаем свойство radius\n",
    "    radius = property(get_radius, set_radius, del_radius, \"Radius of the circle\")\n",
    "\n",
    "# Использование\n",
    "c = Circle(5)\n",
    "print(c.radius)  # Вызов get_radius\n",
    "c.radius = 10    # Вызов set_radius\n",
    "del c.radius     # Вызов del_radius"
   ]
  },
  {
   "cell_type": "markdown",
   "metadata": {},
   "source": [
    "## Декораторы для property\n",
    "\n",
    "Чаще всего property используется с декораторами для упрощения синтаксиса:\n",
    "\n",
    "**@property** — определяет метод для получения значения.\n",
    "\n",
    "**@<property_name>.setter** — определяет метод для установки значения.\n",
    "\n",
    "**@<property_name>.deleter** — определяет метод для удаления атрибута.\n",
    "\n",
    "Пример с декораторами:"
   ]
  },
  {
   "cell_type": "code",
   "execution_count": null,
   "metadata": {},
   "outputs": [],
   "source": [
    "class Circle:\n",
    "    def __init__(self, radius):\n",
    "        self._radius = radius\n",
    "\n",
    "    @property\n",
    "    def radius(self):\n",
    "        \"\"\"Getter for radius\"\"\"\n",
    "        print(\"Getting radius\")\n",
    "        return self._radius\n",
    "\n",
    "    @radius.setter\n",
    "    def radius(self, value):\n",
    "        \"\"\"Setter for radius\"\"\"\n",
    "        print(\"Setting radius\")\n",
    "        if value < 0:\n",
    "            raise ValueError(\"Radius cannot be negative\")\n",
    "        self._radius = value\n",
    "\n",
    "    @radius.deleter\n",
    "    def radius(self):\n",
    "        \"\"\"Deleter for radius\"\"\"\n",
    "        print(\"Deleting radius\")\n",
    "        del self._radius\n",
    "\n",
    "# Использование\n",
    "c = Circle(5)\n",
    "print(c.radius)  # Вызов getter\n",
    "c.radius = 10    # Вызов setter\n",
    "del c.radius     # Вызов deleter"
   ]
  },
  {
   "cell_type": "markdown",
   "metadata": {},
   "source": [
    "## Преимущества использования property\n",
    "\n",
    "**Инкапсуляция**: Позволяет скрыть внутреннюю реализацию атрибута.\n",
    "\n",
    "**Гибкость**: Можно добавлять логику при доступе к атрибуту.\n",
    "\n",
    "**Обратная совместимость**: Можно изменить реализацию атрибута, не меняя интерфейс класса."
   ]
  }
 ],
 "metadata": {
  "language_info": {
   "name": "python"
  }
 },
 "nbformat": 4,
 "nbformat_minor": 2
}
