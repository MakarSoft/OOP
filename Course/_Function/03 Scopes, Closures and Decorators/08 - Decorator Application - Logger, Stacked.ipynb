{
 "cells": [
  {
   "cell_type": "markdown",
   "metadata": {},
   "source": [
    "### Decorators Application (Logger, Stacked Decorators)"
   ]
  },
  {
   "cell_type": "markdown",
   "metadata": {},
   "source": [
    "В этом примере мы создадим декоратор утилиты, который будет регистрировать вызовы функций (в консоли, но на практике вы бы записывали свои журналы в файл (например, используя встроенный регистратор Python) или в базу данных и т. д."
   ]
  },
  {
   "cell_type": "code",
   "execution_count": 1,
   "metadata": {
    "collapsed": true
   },
   "outputs": [],
   "source": [
    "def logged(fn):\n",
    "    from functools import wraps\n",
    "    from datetime import datetime, timezone\n",
    "\n",
    "    @wraps(fn)\n",
    "    def inner(*args, **kwargs):\n",
    "        run_dt = datetime.now(timezone.utc)\n",
    "        result = fn(*args, **kwargs)\n",
    "        print('{0}: called {1}'.format(fn.__name__, run_dt))\n",
    "        return result\n",
    "\n",
    "    return inner"
   ]
  },
  {
   "cell_type": "code",
   "execution_count": 2,
   "metadata": {
    "collapsed": true
   },
   "outputs": [],
   "source": [
    "@logged\n",
    "def func_1():\n",
    "    pass"
   ]
  },
  {
   "cell_type": "code",
   "execution_count": 3,
   "metadata": {
    "collapsed": true
   },
   "outputs": [],
   "source": [
    "@logged\n",
    "def func_2():\n",
    "    pass"
   ]
  },
  {
   "cell_type": "code",
   "execution_count": 4,
   "metadata": {},
   "outputs": [
    {
     "name": "stdout",
     "output_type": "stream",
     "text": [
      "func_1: called 2017-12-10 00:09:19.443657+00:00\n"
     ]
    }
   ],
   "source": [
    "func_1()"
   ]
  },
  {
   "cell_type": "code",
   "execution_count": 5,
   "metadata": {},
   "outputs": [
    {
     "name": "stdout",
     "output_type": "stream",
     "text": [
      "func_2: called 2017-12-10 00:09:19.460691+00:00\n"
     ]
    }
   ],
   "source": [
    "func_2()"
   ]
  },
  {
   "cell_type": "markdown",
   "metadata": {},
   "source": [
    "Теперь мы можем дополнительно также захотеть засекать время функции. Мы, конечно, можем включить код для этого в наш `logged` декоратор, но мы также могли бы просто использовать декоратор `@timed`, который мы уже написали, **складывая** наши декораторы."
   ]
  },
  {
   "cell_type": "code",
   "execution_count": 6,
   "metadata": {
    "collapsed": true
   },
   "outputs": [],
   "source": [
    "def timed(fn):\n",
    "    from functools import wraps\n",
    "    from time import perf_counter\n",
    "\n",
    "    @wraps(fn)\n",
    "    def inner(*args, **kwargs):\n",
    "        start = perf_counter()\n",
    "        result = fn(*args, **kwargs)\n",
    "        end = perf_counter()\n",
    "        print('{0} ran for {1:.6f}s'.format(fn.__name__, end-start))\n",
    "        return result\n",
    "\n",
    "    return inner"
   ]
  },
  {
   "cell_type": "code",
   "execution_count": 7,
   "metadata": {
    "collapsed": true
   },
   "outputs": [],
   "source": [
    "@timed\n",
    "@logged\n",
    "def factorial(n):\n",
    "    from operator import mul\n",
    "    from functools import reduce\n",
    "\n",
    "    return reduce(mul, range(1, n+1))"
   ]
  },
  {
   "cell_type": "code",
   "execution_count": 8,
   "metadata": {},
   "outputs": [
    {
     "name": "stdout",
     "output_type": "stream",
     "text": [
      "factorial: called 2017-12-10 00:09:19.496762+00:00\n",
      "factorial ran for 0.000130s\n"
     ]
    },
    {
     "data": {
      "text/plain": [
       "3628800"
      ]
     },
     "execution_count": 8,
     "metadata": {},
     "output_type": "execute_result"
    }
   ],
   "source": [
    "factorial(10)"
   ]
  },
  {
   "cell_type": "markdown",
   "metadata": {},
   "source": [
    "Обратите внимание, что порядок, в котором мы размещаем декораторы, может иметь значение!"
   ]
  },
  {
   "cell_type": "markdown",
   "metadata": {},
   "source": [
    "Помните, что это произошло потому, что наши многоярусные декораторы по сути представляли собой:"
   ]
  },
  {
   "cell_type": "code",
   "execution_count": 9,
   "metadata": {
    "collapsed": true
   },
   "outputs": [],
   "source": [
    "def factorial(n):\n",
    "    from operator import mul\n",
    "    from functools import reduce\n",
    "\n",
    "    return reduce(mul, range(1, n+1))\n",
    "\n",
    "factorial = timed(logged(factorial))"
   ]
  },
  {
   "cell_type": "markdown",
   "metadata": {},
   "source": [
    "Поэтому в этом случае сначала будет вызван декоратор `timed`, а затем декоратор `logged`.\n",
    "\n",
    "Вы можете удивиться, почему выводимые данные выглядят перевернутыми. Посмотрите, как были определены декораторы — сначала они запускали переданную функцию, а затем **затем** выводили результат.\n",
    "\n",
    "Итак, в приведенном выше примере упрощенный взгляд на то, что происходит в каждом декораторе:\n",
    "\n",
    "* `timed(fn)(*args, **kwargs)`:\n",
    "\n",
    "1. вызывает `fn(*args, **kwargs)`\n",
    "2. выводит время\n",
    "\n",
    "* `logged(fn)(*args, **kwargs)`:\n",
    "\n",
    "1. вызывает `fn(*args, **kwargs)`\n",
    "2. выводит информацию журнала\n",
    "\n",
    "Итак, вызов\n",
    "`factorial = timed(logged(factorial))`\n",
    "\n",
    "эквивалентно:\n",
    "\n",
    "<pre>\n",
    "fn = logged(factorial)\n",
    "factorial = timed(fn)\n",
    "\n",
    "factorial(n) --> вызывает timed(fn)(n)\n",
    "--> вызывает fn(n), затем выводит время\n",
    "--> вызывает logged(original_factorial)(n), затем выводит время\n",
    "--> вызывает original_factorial(n), затем регистрирует, затем выводит синхронизация\n",
    "</pre>\n",
    "\n",
    "Итак, как вы видите, сначала запустился декоратор `timed`, но сначала он вызвал декорированную функцию logged, а затем вывел результат — поэтому вывод на печать выглядит перевернутым."
   ]
  },
  {
   "cell_type": "code",
   "execution_count": 10,
   "metadata": {},
   "outputs": [
    {
     "name": "stdout",
     "output_type": "stream",
     "text": [
      "factorial: called 2017-12-10 00:09:19.525820+00:00\n",
      "factorial ran for 0.000147s\n"
     ]
    },
    {
     "data": {
      "text/plain": [
       "3628800"
      ]
     },
     "execution_count": 10,
     "metadata": {},
     "output_type": "execute_result"
    }
   ],
   "source": [
    "factorial(10)"
   ]
  },
  {
   "cell_type": "markdown",
   "metadata": {},
   "source": [
    "Но в следующем случае сначала будет запущен декоратор `logged`, а затем декоратор `timed`:"
   ]
  },
  {
   "cell_type": "code",
   "execution_count": 11,
   "metadata": {
    "collapsed": true
   },
   "outputs": [],
   "source": [
    "def factorial(n):\n",
    "    from operator import mul\n",
    "    from functools import reduce\n",
    "\n",
    "    return reduce(mul, range(1, n+1))\n",
    "\n",
    "factorial = logged(timed(factorial))"
   ]
  },
  {
   "cell_type": "code",
   "execution_count": 12,
   "metadata": {},
   "outputs": [
    {
     "name": "stdout",
     "output_type": "stream",
     "text": [
      "factorial ran for 0.000015s\n",
      "factorial: called 2017-12-10 00:09:19.547866+00:00\n"
     ]
    },
    {
     "data": {
      "text/plain": [
       "3628800"
      ]
     },
     "execution_count": 12,
     "metadata": {},
     "output_type": "execute_result"
    }
   ],
   "source": [
    "factorial(10)"
   ]
  },
  {
   "cell_type": "markdown",
   "metadata": {},
   "source": [
    "Или, используя обозначение **@**:"
   ]
  },
  {
   "cell_type": "code",
   "execution_count": 13,
   "metadata": {
    "collapsed": true
   },
   "outputs": [],
   "source": [
    "@logged\n",
    "@timed\n",
    "def factorial(n):\n",
    "    from operator import mul\n",
    "    from functools import reduce\n",
    "\n",
    "    return reduce(mul, range(1, n+1))"
   ]
  },
  {
   "cell_type": "code",
   "execution_count": 14,
   "metadata": {},
   "outputs": [
    {
     "name": "stdout",
     "output_type": "stream",
     "text": [
      "factorial ran for 0.000016s\n",
      "factorial: called 2017-12-10 00:09:19.572914+00:00\n"
     ]
    },
    {
     "data": {
      "text/plain": [
       "3628800"
      ]
     },
     "execution_count": 14,
     "metadata": {},
     "output_type": "execute_result"
    }
   ],
   "source": [
    "factorial(10)"
   ]
  },
  {
   "cell_type": "code",
   "execution_count": 15,
   "metadata": {
    "collapsed": true
   },
   "outputs": [],
   "source": [
    "@timed\n",
    "@logged\n",
    "def factorial(n):\n",
    "    from operator import mul\n",
    "    from functools import reduce\n",
    "\n",
    "    return reduce(mul, range(1, n+1))"
   ]
  },
  {
   "cell_type": "code",
   "execution_count": 16,
   "metadata": {},
   "outputs": [
    {
     "name": "stdout",
     "output_type": "stream",
     "text": [
      "factorial: called 2017-12-10 00:09:19.608237+00:00\n",
      "factorial ran for 0.000153s\n"
     ]
    },
    {
     "data": {
      "text/plain": [
       "3628800"
      ]
     },
     "execution_count": 16,
     "metadata": {},
     "output_type": "execute_result"
    }
   ],
   "source": [
    "factorial(10)"
   ]
  },
  {
   "cell_type": "markdown",
   "metadata": {},
   "source": [
    "Чтобы прояснить ситуацию, давайте напишем два очень простых декоратора следующим образом:"
   ]
  },
  {
   "cell_type": "code",
   "execution_count": 17,
   "metadata": {
    "collapsed": true
   },
   "outputs": [],
   "source": [
    "def dec_1(fn):\n",
    "    def inner():\n",
    "        print('running dec_1')\n",
    "        return fn()\n",
    "    return inner"
   ]
  },
  {
   "cell_type": "code",
   "execution_count": 18,
   "metadata": {
    "collapsed": true
   },
   "outputs": [],
   "source": [
    "def dec_2(fn):\n",
    "    def inner():\n",
    "        print('running dec_2')\n",
    "        return fn()\n",
    "    return inner"
   ]
  },
  {
   "cell_type": "code",
   "execution_count": 19,
   "metadata": {
    "collapsed": true
   },
   "outputs": [],
   "source": [
    "@dec_1\n",
    "@dec_2\n",
    "def my_func():\n",
    "    print('running my_func')"
   ]
  },
  {
   "cell_type": "code",
   "execution_count": 20,
   "metadata": {},
   "outputs": [
    {
     "name": "stdout",
     "output_type": "stream",
     "text": [
      "running dec_1\n",
      "running dec_2\n",
      "running my_func\n"
     ]
    }
   ],
   "source": [
    "my_func()"
   ]
  },
  {
   "cell_type": "markdown",
   "metadata": {},
   "source": [
    "Но если мы изменим порядок декораторов:"
   ]
  },
  {
   "cell_type": "code",
   "execution_count": 21,
   "metadata": {
    "collapsed": true
   },
   "outputs": [],
   "source": [
    "@dec_2\n",
    "@dec_1\n",
    "def my_func():\n",
    "    print('running my_func')"
   ]
  },
  {
   "cell_type": "code",
   "execution_count": 22,
   "metadata": {},
   "outputs": [
    {
     "name": "stdout",
     "output_type": "stream",
     "text": [
      "running dec_2\n",
      "running dec_1\n",
      "running my_func\n"
     ]
    }
   ],
   "source": [
    "my_func()"
   ]
  },
  {
   "cell_type": "markdown",
   "metadata": {},
   "source": [
    "Вы можете задаться вопросом, имеет ли это значение на практике. И да, имеет.\n",
    "\n",
    "Рассмотрим API, содержащий различные функции, которые могут быть вызваны. Однако конечные точки защищены и могут быть запущены только аутентифицированными пользователями, имеющими некоторые определенные роли. Если у них нет роли, вы хотите вернуть несанкционированную ошибку. Но если она есть, то вы хотите зарегистрировать, что они вызвали конечную точку.\n",
    "\n",
    "В этом случае у вас может быть один декоратор, который используется для проверки аутентификации и разрешений (и немедленно возвращает несанкционированную ошибку из API, если применимо), а другой — для регистрации вызова.\n",
    "\n",
    "Если вы декорируете его следующим образом:\n",
    "\n",
    "<pre>\n",
    "@log\n",
    "@authorize\n",
    "def my_endpoint():\n",
    "    pass\n",
    "</pre>\n",
    "\n",
    "тогда вызов всегда будет зарегистрирован.\n",
    "\n",
    "Но в этом случае:\n",
    "\n",
    "<pre>\n",
    "@authorize\n",
    "@log\n",
    "def my_endpoint():\n",
    "    pass\n",
    "</pre>\n",
    "\n",
    "ваша конечная точка будет зарегистрирована только в том случае, если пользователь прошел тест `authorize`."
   ]
  }
 ],
 "metadata": {
  "kernelspec": {
   "display_name": "Python 3",
   "language": "python",
   "name": "python3"
  },
  "language_info": {
   "codemirror_mode": {
    "name": "ipython",
    "version": 3
   },
   "file_extension": ".py",
   "mimetype": "text/x-python",
   "name": "python",
   "nbconvert_exporter": "python",
   "pygments_lexer": "ipython3",
   "version": "3.6.2"
  }
 },
 "nbformat": 4,
 "nbformat_minor": 2
}
