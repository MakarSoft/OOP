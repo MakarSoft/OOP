{
 "cells": [
  {
   "cell_type": "markdown",
   "metadata": {},
   "source": [
    "### Decorator Application: Single Dispatch Generic Functions"
   ]
  },
  {
   "cell_type": "markdown",
   "metadata": {},
   "source": [
    "Рассмотрим приложение, в котором мы хотим предоставить похожую функциональность, но которая немного отличается в зависимости от типов переданных аргументов.\n",
    "\n",
    "В этом наборе примеров мы рассматриваем эту проблему, в которой функциональность отличается в зависимости от типа одного аргумента (следовательно, одиночная диспетчеризация) вместо типа нескольких аргументов (что было бы множественной диспетчеризацией)"
   ]
  },
  {
   "cell_type": "markdown",
   "metadata": {},
   "source": [
    "Если у вас есть опыт работы с другими объектно-ориентированными языками, такими как Java или C#, вы знаете, что мы можем легко сделать что-то вроде этого, просто **перегружая** функции: используя другой тип данных для параметра функции, тем самым изменяя сигнатуру функции. Тогда, хотя имя функции одинаковое, вызов `do_something(100)` и `do_something('java')` вызовет другую функцию, первая вызовет функцию `do_something(int)`, а вторая вызовет функцию `do_something(String)`.\n",
    "\n",
    "Конечно, Python не является статически типизированным, поэтому даже если бы в Python была встроена перегрузка функций, мы бы не смогли провести такое различие в сигнатурах наших функций, поскольку нет ничего, что говорило бы о том, что параметр должен иметь определенный тип, поэтому в лучшем случае нам пришлось бы «различать» функции с одинаковым именем только по количеству принимаемых ими параметров. И тогда нам придется как-то иметь дело с переменным числом позиционных и ключевых аргументов... Ууух!\n",
    "В любом случае, одиночная отправка никогда не сработает.\n",
    "\n",
    "Вместо этого нам придется придумать другое решение."
   ]
  },
  {
   "cell_type": "markdown",
   "metadata": {},
   "source": [
    "Допустим, мы хотим отобразить различные типы данных в формате HTML с различными представлениями для целых чисел (нам нужны как десятичное, так и шестнадцатеричное значения), чисел с плавающей точкой (мы всегда хотим округлять их до двух десятичных знаков), строк (мы хотим, чтобы строка была экранирована HTML, а все символы новой строки заменены на `<br/>`), списки и кортежи должны быть реализованы с использованием маркированных списков, и то же самое со словарями, за исключением того, что мы хотим, чтобы пара имя/значение отображалась в маркированном списке."
   ]
  },
  {
   "cell_type": "markdown",
   "metadata": {
    "collapsed": true
   },
   "source": [
    "Для начала давайте просто реализуем отдельные функции для выполнения каждой из этих задач.\n",
    "\n",
    "Я собираюсь сделать функции максимально простыми, но на практике вам придется обрабатывать такие ситуации, как объекты None, пустые списки и словари, возможная передача функции неправильного типа и т. д."
   ]
  },
  {
   "cell_type": "code",
   "execution_count": 1,
   "metadata": {
    "collapsed": true
   },
   "outputs": [],
   "source": [
    "from html import escape\n",
    "\n",
    "def html_escape(arg):\n",
    "    return escape(str(arg))\n",
    "\n",
    "def html_int(a):\n",
    "    return '{0}(<i>{1}</i)'.format(a, str(hex(a)))\n",
    "\n",
    "def html_real(a):\n",
    "    return '{0:.2f}'.format(round(a, 2))\n",
    "\n",
    "def html_str(s):\n",
    "    return html_escape(s).replace('\\n', '<br/>\\n')\n",
    "\n",
    "def html_list(l):\n",
    "    items = ('<li>{0}</li>'.format(html_escape(item))\n",
    "             for item in l)\n",
    "    return '<ul>\\n' + '\\n'.join(items) + '\\n</ul>'\n",
    "\n",
    "def html_dict(d):\n",
    "    items = ('<li>{0}={1}</li>'.format(html_escape(k), html_escape(v))\n",
    "             for k, v in d.items())\n",
    "    return '<ul>\\n' + '\\n'.join(items) + '\\n</ul>'"
   ]
  },
  {
   "cell_type": "code",
   "execution_count": 2,
   "metadata": {},
   "outputs": [
    {
     "name": "stdout",
     "output_type": "stream",
     "text": [
      "this is <br/>\n",
      "a multi line string<br/>\n",
      "with special characters: 10 &lt; 100\n"
     ]
    }
   ],
   "source": [
    "print(html_str(\"\"\"this is\n",
    "a multi line string\n",
    "with special characters: 10 < 100\"\"\"))"
   ]
  },
  {
   "cell_type": "code",
   "execution_count": 3,
   "metadata": {},
   "outputs": [
    {
     "name": "stdout",
     "output_type": "stream",
     "text": [
      "255(<i>0xff</i)\n"
     ]
    }
   ],
   "source": [
    "print(html_int(255))"
   ]
  },
  {
   "cell_type": "code",
   "execution_count": 4,
   "metadata": {},
   "outputs": [
    {
     "name": "stdout",
     "output_type": "stream",
     "text": [
      "(3+10j)\n"
     ]
    }
   ],
   "source": [
    "print(html_escape(3+10j))"
   ]
  },
  {
   "cell_type": "markdown",
   "metadata": {},
   "source": [
    "For starters, let's just implement individual functions to do each of those things.\n",
    "\n",
    "I am going to keep the functions very simple, but in practice you should handle situations like None objects, empty lists and dictionaries, possibly the wrong type being passed to the function, etc."
   ]
  },
  {
   "cell_type": "markdown",
   "metadata": {},
   "source": [
    "Мы могли бы попробовать сделать это следующим образом:"
   ]
  },
  {
   "cell_type": "code",
   "execution_count": 5,
   "metadata": {
    "collapsed": true
   },
   "outputs": [],
   "source": [
    "from decimal import Decimal\n",
    "\n",
    "def htmlize(arg):\n",
    "    if isinstance(arg, int):\n",
    "        return html_int(arg)\n",
    "    elif isinstance(arg, float) or isinstance(arg, Decimal):\n",
    "        return html_real(arg)\n",
    "    elif isinstance(arg, str):\n",
    "        return html_str(arg)\n",
    "    elif isinstance(arg, list) or isinstance(arg, tuple):\n",
    "        return html_list(arg)\n",
    "    elif isinstance(arg, dict):\n",
    "        return html_dict(arg)\n",
    "    else:\n",
    "        # default behavior - just html escape string representation\n",
    "        return html_escape(str(arg))"
   ]
  },
  {
   "cell_type": "markdown",
   "metadata": {},
   "source": [
    "Теперь мы можем по сути использовать один и тот же вызов функции для обработки различных типов — функция `htmlize` является диспетчером — она направляет запрос другой функции в зависимости от типа аргумента. (Есть гораздо лучший способ сделать часть этого, но для этого нам придется подождать, пока мы не рассмотрим абстрактные базовые классы)."
   ]
  },
  {
   "cell_type": "code",
   "execution_count": 6,
   "metadata": {},
   "outputs": [
    {
     "name": "stdout",
     "output_type": "stream",
     "text": [
      "<ul>\n",
      "<li>1</li>\n",
      "<li>2</li>\n",
      "<li>3</li>\n",
      "</ul>\n"
     ]
    }
   ],
   "source": [
    "print(htmlize([1, 2, 3]))"
   ]
  },
  {
   "cell_type": "code",
   "execution_count": 7,
   "metadata": {},
   "outputs": [
    {
     "name": "stdout",
     "output_type": "stream",
     "text": [
      "<ul>\n",
      "<li>key1=1</li>\n",
      "<li>key2=2</li>\n",
      "</ul>\n"
     ]
    }
   ],
   "source": [
    "print(htmlize(dict(key1=1, key2=2)))"
   ]
  },
  {
   "cell_type": "code",
   "execution_count": 8,
   "metadata": {},
   "outputs": [
    {
     "name": "stdout",
     "output_type": "stream",
     "text": [
      "255(<i>0xff</i)\n"
     ]
    }
   ],
   "source": [
    "print(htmlize(255))"
   ]
  },
  {
   "cell_type": "markdown",
   "metadata": {},
   "source": [
    "Но здесь есть ряд недостатков:"
   ]
  },
  {
   "cell_type": "code",
   "execution_count": 9,
   "metadata": {},
   "outputs": [
    {
     "name": "stdout",
     "output_type": "stream",
     "text": [
      "<ul>\n",
      "<li>first element is \n",
      "a multi-line string</li>\n",
      "<li>(1, 2, 3)</li>\n",
      "</ul>\n"
     ]
    }
   ],
   "source": [
    "print(htmlize([\"\"\"first element is\n",
    "a multi-line string\"\"\", (1, 2, 3)]))"
   ]
  },
  {
   "cell_type": "markdown",
   "metadata": {},
   "source": [
    "Как вы можете видеть, в многострочной строке не были заменены символы новой строки, кортеж не был отображен как список html, а целые числа не имеют своего шестнадцатеричного представления.\n",
    "\n",
    "Поэтому нам просто нужно переопределить функции `html_list` и `html_dict`, чтобы использовать функцию `htmlize`:"
   ]
  },
  {
   "cell_type": "code",
   "execution_count": 10,
   "metadata": {
    "collapsed": true
   },
   "outputs": [],
   "source": [
    "def html_list(l):\n",
    "    items = ['<li>{0}</li>'.format(htmlize(item)) for item in l]\n",
    "    return '<ul>\\n' + '\\n'.join(items) + '\\n</ul>'"
   ]
  },
  {
   "cell_type": "code",
   "execution_count": 11,
   "metadata": {
    "collapsed": true
   },
   "outputs": [],
   "source": [
    "def html_dict(d):\n",
    "    items = ['<li>{0}={1}</li>'.format(html_escape(k), htmlize(v)) for k, v in d.items()]\n",
    "    return '<ul>\\n' + '\\n'.join(items) + '\\n</ul>'"
   ]
  },
  {
   "cell_type": "code",
   "execution_count": 12,
   "metadata": {},
   "outputs": [
    {
     "name": "stdout",
     "output_type": "stream",
     "text": [
      "<ul>\n",
      "<li>first element is <br/>\n",
      "a multi-line string</li>\n",
      "<li><ul>\n",
      "<li>1(<i>0x1</i)</li>\n",
      "<li>2(<i>0x2</i)</li>\n",
      "<li>3(<i>0x3</i)</li>\n",
      "</ul></li>\n",
      "</ul>\n"
     ]
    }
   ],
   "source": [
    "print(htmlize([\"\"\"first element is\n",
    "a multi-line string\"\"\", (1, 2, 3)]))"
   ]
  },
  {
   "cell_type": "markdown",
   "metadata": {},
   "source": [
    "Намного лучше, но, надеюсь, вы заметили что-то, что может показаться проблемным!\n",
    "\n",
    "Разве у нас нет циклической ссылки?\n",
    "\n",
    "Чтобы определить `html_list` и `html_dict`, нам нужно было вызвать `htmlize`, но чтобы определить `htmlize`, нам нужно было вызвать `html_list` и `html_dict`."
   ]
  },
  {
   "cell_type": "markdown",
   "metadata": {},
   "source": [
    "Помните, что в Python мы можем ссылаться на функцию **внутри** тела другой функции **до** определения функции, при условии, что к моменту **вызова** первой функции вторая функция уже определена. ТАК ЧТО это на самом деле нормально.\n",
    "\n",
    "Если вы мне не верите и хотите убедиться в этом сами, сбросьте свое ядро ​​(щелкните по пункту меню Ядро | Перезапуск) и запустите следующий код, ничего не запуская перед этим.\n",
    "\n",
    "Тело функции `htmlize` вызывает другие функции, такие как `html_escape`, `html_int` и т. д., которые на самом деле еще не определены."
   ]
  },
  {
   "cell_type": "code",
   "execution_count": 1,
   "metadata": {
    "collapsed": true
   },
   "outputs": [],
   "source": [
    "from html import escape\n",
    "from decimal import Decimal\n",
    "\n",
    "def htmlize(arg):\n",
    "    if isinstance(arg, int):\n",
    "        return html_int(arg)\n",
    "    elif isinstance(arg, float) or isinstance(arg, Decimal):\n",
    "        return html_real(arg)\n",
    "    elif isinstance(arg, str):\n",
    "        return html_str(arg)\n",
    "    elif isinstance(arg, list) or isinstance(arg, tuple) or isinstance(arg, set):\n",
    "        return html_list(arg)\n",
    "    elif isinstance(arg, dict):\n",
    "        return html_dict(arg)\n",
    "    else:\n",
    "        # default behavior - just html escape string representation\n",
    "        return html_escape(str(arg))"
   ]
  },
  {
   "cell_type": "markdown",
   "metadata": {},
   "source": [
    "Теперь мы определяем все функции, которые использует `htmlize`, прежде чем мы фактически вызовем `htmlize`, и все хорошо:"
   ]
  },
  {
   "cell_type": "code",
   "execution_count": 14,
   "metadata": {
    "collapsed": true
   },
   "outputs": [],
   "source": [
    "def html_escape(arg):\n",
    "    return escape(str(arg))\n",
    "\n",
    "def html_int(a):\n",
    "    return '{0}(<i>{1}</i)'.format(a, str(hex(a)))\n",
    "\n",
    "def html_real(a):\n",
    "    return '{0:.2f}'.format(round(a, 2))\n",
    "\n",
    "def html_str(s):\n",
    "    return html_escape(s).replace('\\n', '<br/>\\n')\n",
    "\n",
    "def html_list(l):\n",
    "    items = ['<li>{0}</li>'.format(htmlize(item)) for item in l]\n",
    "    return '<ul>\\n' + '\\n'.join(items) + '\\n</ul>'\n",
    "\n",
    "def html_dict(d):\n",
    "    items = ['<li>{0}={1}</li>'.format(html_escape(k), htmlize(v)) for k, v in d.items()]\n",
    "    return '<ul>\\n' + '\\n'.join(items) + '\\n</ul>'"
   ]
  },
  {
   "cell_type": "code",
   "execution_count": 15,
   "metadata": {},
   "outputs": [
    {
     "name": "stdout",
     "output_type": "stream",
     "text": [
      "<ul>\n",
      "<li>first element is <br/>\n",
      "a multi-line string</li>\n",
      "<li><ul>\n",
      "<li>1(<i>0x1</i)</li>\n",
      "<li>2(<i>0x2</i)</li>\n",
      "<li>3(<i>0x3</i)</li>\n",
      "</ul></li>\n",
      "</ul>\n"
     ]
    }
   ],
   "source": [
    "print(htmlize([\"\"\"first element is\n",
    "a multi-line string\"\"\", (1, 2, 3)]))"
   ]
  },
  {
   "cell_type": "markdown",
   "metadata": {},
   "source": [
    "Как видите, это работает просто отлично.\n",
    "\n",
    "Но у нас все еще есть кое-что нежелательное. Вы заметите, что диспетчерская функция `htmlize` должна иметь этот большой оператор `if...elif...else`, который будет продолжать расти, поскольку нам нужно обрабатывать все больше и больше типов (включая потенциально пользовательские типы).\n",
    "\n",
    "Это просто станет громоздким и не очень гибким (каждый раз, когда кто-то создает новый тип, который должен иметь специальное представление html, ему нужно будет перейти в функцию `htmlize` и изменить ее."
   ]
  },
  {
   "cell_type": "markdown",
   "metadata": {},
   "source": [
    "Поэтому вместо этого мы попробуем более гибкий подход с использованием декораторов."
   ]
  },
  {
   "cell_type": "markdown",
   "metadata": {},
   "source": [
    "Мы собираемся подойти к этому вопросу следующим образом: создадим функцию-диспетчер, а затем отдельно «зарегистрируем» каждую типоспецифическую функцию в диспетчере."
   ]
  },
  {
   "cell_type": "markdown",
   "metadata": {},
   "source": [
    "Сначала мы создадим декоратор, который будет делать что-то, что может показаться немного глупым — он возьмет декорированную функцию и сохранит ее в словаре, используя ключ, состоящий из **type** `object`.\n",
    "\n",
    "Затем, когда будет вызвано возвращенное замыкание, замыкание вызовет функцию, сохраненную в этом словаре."
   ]
  },
  {
   "cell_type": "code",
   "execution_count": 16,
   "metadata": {
    "collapsed": true
   },
   "outputs": [],
   "source": [
    "def singledispatch(fn):\n",
    "    registry = dict()\n",
    "    registry[object] = fn\n",
    "\n",
    "    def inner(arg):\n",
    "        return registry[object](arg)\n",
    "\n",
    "    return inner"
   ]
  },
  {
   "cell_type": "code",
   "execution_count": 17,
   "metadata": {
    "collapsed": true
   },
   "outputs": [],
   "source": [
    "@singledispatch\n",
    "def htmlizer(arg):\n",
    "    return escape(str(arg))"
   ]
  },
  {
   "cell_type": "code",
   "execution_count": 18,
   "metadata": {},
   "outputs": [
    {
     "data": {
      "text/plain": [
       "'a &lt; 10'"
      ]
     },
     "execution_count": 18,
     "metadata": {},
     "output_type": "execute_result"
    }
   ],
   "source": [
    "htmlizer('a < 10')"
   ]
  },
  {
   "cell_type": "markdown",
   "metadata": {},
   "source": [
    "Далее мы добавим несколько функций в этот словарь `registry` и изменим нашу внутреннюю функцию, чтобы выбрать правильную функцию из реестра или выбрать функцию по умолчанию на основе типа аргумента:"
   ]
  },
  {
   "cell_type": "code",
   "execution_count": 19,
   "metadata": {
    "collapsed": true
   },
   "outputs": [],
   "source": [
    "def singledispatch(fn):\n",
    "    registry = dict()\n",
    "\n",
    "    registry[object] = fn\n",
    "    registry[int] = lambda arg: '{0}(<i>{1}</i)'.format(arg, str(hex(arg)))\n",
    "    registry[float] = lambda arg: '{0:.2f}'.format(round(arg, 2))\n",
    "\n",
    "    def inner(arg):\n",
    "        fn = registry.get(type(arg), registry[object])\n",
    "        return fn(arg)\n",
    "    return inner"
   ]
  },
  {
   "cell_type": "code",
   "execution_count": 20,
   "metadata": {
    "collapsed": true
   },
   "outputs": [],
   "source": [
    "@singledispatch\n",
    "def htmlize(a):\n",
    "    return escape(str(a))"
   ]
  },
  {
   "cell_type": "code",
   "execution_count": 21,
   "metadata": {},
   "outputs": [
    {
     "data": {
      "text/plain": [
       "'10(<i>0xa</i)'"
      ]
     },
     "execution_count": 21,
     "metadata": {},
     "output_type": "execute_result"
    }
   ],
   "source": [
    "htmlize(10)"
   ]
  },
  {
   "cell_type": "code",
   "execution_count": 22,
   "metadata": {},
   "outputs": [
    {
     "data": {
      "text/plain": [
       "'3.14'"
      ]
     },
     "execution_count": 22,
     "metadata": {},
     "output_type": "execute_result"
    }
   ],
   "source": [
    "htmlize(3.1415)"
   ]
  },
  {
   "cell_type": "markdown",
   "metadata": {},
   "source": [
    "Теперь нам нужен способ добавления специализированных функций в словарь `registry` **извне** функции `singledispatch` — для этого мы создадим параметризованный декоратор, который будет (1) принимать тип в качестве параметра и (2) возвращать замыкание, которое будет декорировать функцию, связанную с типом:"
   ]
  },
  {
   "cell_type": "code",
   "execution_count": 23,
   "metadata": {
    "collapsed": true
   },
   "outputs": [],
   "source": [
    "def singledispatch(fn):\n",
    "    registry = dict()\n",
    "\n",
    "    registry[object] = fn\n",
    "\n",
    "    def register(type_):\n",
    "        def inner(fn):\n",
    "            registry[type_] = fn\n",
    "        return inner\n",
    "\n",
    "\n",
    "    def decorator(arg):\n",
    "        fn = registry.get(type(arg), registry[object])\n",
    "        return fn(arg)\n",
    "\n",
    "    return decorator"
   ]
  },
  {
   "cell_type": "markdown",
   "metadata": {},
   "source": [
    "Но, конечно, этого недостаточно - как нам получить доступ к функции `register` извне `singledispatch`? Помните, `singledispatch` - это декоратор, который возвращает `decorated` замыкание, а не `register` замыкание."
   ]
  },
  {
   "cell_type": "markdown",
   "metadata": {},
   "source": [
    "Мы можем сделать это, добавив функцию `register` как **атрибут** функции `decorated` перед тем, как мы ее вернем.\n",
    "\n",
    "Пока мы этим занимаемся, мы также собираемся:\n",
    "\n",
    "* добавить словарь `registry` как атрибут, чтобы мы могли заглянуть в него и увидеть, что он содержит.\n",
    "\n",
    "* добавить еще одну функцию, которая при заданном типе будет возвращать функцию, связанную с этим типом (или функцию по умолчанию, если тип не найден в словаре)"
   ]
  },
  {
   "cell_type": "code",
   "execution_count": 24,
   "metadata": {
    "collapsed": true
   },
   "outputs": [],
   "source": [
    "def singledispatch(fn):\n",
    "    registry = dict()\n",
    "\n",
    "    registry[object] = fn\n",
    "\n",
    "    def register(type_):\n",
    "        def inner(fn):\n",
    "            registry[type_] = fn\n",
    "            return fn  # we do this so we can stack register decorators!\n",
    "        return inner\n",
    "\n",
    "    def decorator(arg):\n",
    "        fn = registry.get(type(arg), registry[object])\n",
    "        return fn(arg)\n",
    "\n",
    "    def dispatch(type_):\n",
    "        return registry.get(type_, registry[object])\n",
    "\n",
    "    decorator.register = register\n",
    "    decorator.registry = registry.keys()\n",
    "    decorator.dispatch = dispatch\n",
    "    return decorator"
   ]
  },
  {
   "cell_type": "code",
   "execution_count": 25,
   "metadata": {
    "collapsed": true
   },
   "outputs": [],
   "source": [
    "@singledispatch\n",
    "def htmlize(arg):\n",
    "    return escape(str(arg))"
   ]
  },
  {
   "cell_type": "markdown",
   "metadata": {},
   "source": [
    "И мы видим, что функция `htmlize` (которая вернула `inner`) имеет атрибут, называемый `register`:"
   ]
  },
  {
   "cell_type": "code",
   "execution_count": 26,
   "metadata": {},
   "outputs": [
    {
     "data": {
      "text/plain": [
       "<function __main__.singledispatch.<locals>.register>"
      ]
     },
     "execution_count": 26,
     "metadata": {},
     "output_type": "execute_result"
    }
   ],
   "source": [
    "htmlize.register"
   ]
  },
  {
   "cell_type": "markdown",
   "metadata": {},
   "source": [
    "а также атрибут `registry`, который мы ввели только для того, чтобы увидеть, какие ключи находятся в словаре `registry`:"
   ]
  },
  {
   "cell_type": "code",
   "execution_count": 27,
   "metadata": {},
   "outputs": [
    {
     "data": {
      "text/plain": [
       "dict_keys([<class 'object'>])"
      ]
     },
     "execution_count": 27,
     "metadata": {},
     "output_type": "execute_result"
    }
   ],
   "source": [
    "htmlize.registry"
   ]
  },
  {
   "cell_type": "markdown",
   "metadata": {},
   "source": [
    "Мы также можем спросить его, какую функцию он собирается использовать для любого конкретного типа (в настоящее время у нас зарегистрирована только одна функция, используемая по умолчанию, для самого общего типа `object`):"
   ]
  },
  {
   "cell_type": "code",
   "execution_count": 28,
   "metadata": {},
   "outputs": [
    {
     "data": {
      "text/plain": [
       "object"
      ]
     },
     "execution_count": 28,
     "metadata": {},
     "output_type": "execute_result"
    }
   ],
   "source": [
    "htmlize.dispatch(str)"
   ]
  },
  {
   "cell_type": "markdown",
   "metadata": {},
   "source": [
    "And you'll note that the extended scope of `register` and `dispatch` is the same as the extended scope of `htmlize`."
   ]
  },
  {
   "cell_type": "markdown",
   "metadata": {},
   "source": [
    "И вы заметите, что расширенная область действия `register` и `dispatch` такая же, как расширенная область действия `htmlize`."
   ]
  },
  {
   "cell_type": "code",
   "execution_count": 29,
   "metadata": {
    "collapsed": true
   },
   "outputs": [],
   "source": [
    "@htmlize.register(int)\n",
    "def html_int(a):\n",
    "    return '{0}(<i>{1}</i)'.format(a, str(hex(a)))"
   ]
  },
  {
   "cell_type": "markdown",
   "metadata": {},
   "source": [
    "Мы можем заглянуть в зарегистрированные типы:"
   ]
  },
  {
   "cell_type": "code",
   "execution_count": 30,
   "metadata": {},
   "outputs": [
    {
     "data": {
      "text/plain": [
       "dict_keys([<class 'object'>, <class 'int'>])"
      ]
     },
     "execution_count": 30,
     "metadata": {},
     "output_type": "execute_result"
    }
   ],
   "source": [
    "htmlize.registry"
   ]
  },
  {
   "cell_type": "markdown",
   "metadata": {},
   "source": [
    "and we can ask the decorated `htmlize` function what function it is going to use for the `int` type:"
   ]
  },
  {
   "cell_type": "code",
   "execution_count": 31,
   "metadata": {},
   "outputs": [
    {
     "data": {
      "text/plain": [
       "<function __main__.html_int>"
      ]
     },
     "execution_count": 31,
     "metadata": {},
     "output_type": "execute_result"
    }
   ],
   "source": [
    "htmlize.dispatch(int)"
   ]
  },
  {
   "cell_type": "markdown",
   "metadata": {},
   "source": [
    "и мы на самом деле можем назвать это так:"
   ]
  },
  {
   "cell_type": "code",
   "execution_count": 32,
   "metadata": {},
   "outputs": [
    {
     "data": {
      "text/plain": [
       "'100(<i>0x64</i)'"
      ]
     },
     "execution_count": 32,
     "metadata": {},
     "output_type": "execute_result"
    }
   ],
   "source": [
    "htmlize(100)"
   ]
  },
  {
   "cell_type": "markdown",
   "metadata": {},
   "source": [
    "Огромным преимуществом теперь является то, что мы можем продолжать регистрировать новые обработчики из любой точки нашего модуля или даже из-за его пределов!"
   ]
  },
  {
   "cell_type": "code",
   "execution_count": 33,
   "metadata": {
    "collapsed": true
   },
   "outputs": [],
   "source": [
    "@htmlize.register(float)\n",
    "def html_real(a):\n",
    "    return '{0:.2f}'.format(round(a, 2))\n",
    "\n",
    "@htmlize.register(str)\n",
    "def html_str(s):\n",
    "    return escape(s).replace('\\n', '<br/>\\n')\n",
    "\n",
    "@htmlize.register(tuple)\n",
    "@htmlize.register(list)\n",
    "def html_list(l):\n",
    "    items = ['<li>{0}</li>'.format(htmlize(item)) for item in l]\n",
    "    return '<ul>\\n' + '\\n'.join(items) + '\\n</ul>'\n",
    "\n",
    "@htmlize.register(dict)\n",
    "def html_dict(d):\n",
    "    items = ['<li>{0}={1}</li>'.format(htmlize(k), htmlize(v)) for k, v in d.items()]\n",
    "    return '<ul>\\n' + '\\n'.join(items) + '\\n</ul>'"
   ]
  },
  {
   "cell_type": "code",
   "execution_count": 34,
   "metadata": {},
   "outputs": [
    {
     "data": {
      "text/plain": [
       "dict_keys([<class 'object'>, <class 'int'>, <class 'float'>, <class 'str'>, <class 'list'>, <class 'tuple'>, <class 'dict'>])"
      ]
     },
     "execution_count": 34,
     "metadata": {},
     "output_type": "execute_result"
    }
   ],
   "source": [
    "htmlize.registry"
   ]
  },
  {
   "cell_type": "code",
   "execution_count": 35,
   "metadata": {},
   "outputs": [
    {
     "name": "stdout",
     "output_type": "stream",
     "text": [
      "<ul>\n",
      "<li>1(<i>0x1</i)</li>\n",
      "<li>2(<i>0x2</i)</li>\n",
      "<li>3(<i>0x3</i)</li>\n",
      "</ul>\n"
     ]
    }
   ],
   "source": [
    "print(htmlize([1, 2, 3]))"
   ]
  },
  {
   "cell_type": "code",
   "execution_count": 36,
   "metadata": {},
   "outputs": [
    {
     "name": "stdout",
     "output_type": "stream",
     "text": [
      "<ul>\n",
      "<li>1(<i>0x1</i)</li>\n",
      "<li>2(<i>0x2</i)</li>\n",
      "<li>3(<i>0x3</i)</li>\n",
      "</ul>\n"
     ]
    }
   ],
   "source": [
    "print(htmlize((1, 2, 3)))"
   ]
  },
  {
   "cell_type": "code",
   "execution_count": 37,
   "metadata": {},
   "outputs": [
    {
     "name": "stdout",
     "output_type": "stream",
     "text": [
      "this<br/>\n",
      "is a multi line string with<br/>\n",
      "a &lt; 10\n"
     ]
    }
   ],
   "source": [
    "print(htmlize(\"\"\"this\n",
    "is a multi line string with\n",
    "a < 10\"\"\"))"
   ]
  },
  {
   "cell_type": "markdown",
   "metadata": {},
   "source": [
    "Наш декоратор с одной отправкой работает довольно хорошо, но у него есть некоторые ограничения. Например, он не может обрабатывать функции, которые принимают более одного аргумента (в этом случае отправка будет основана на типе **первого** аргумента), и мы также не допускаем типы, основанные на родительских классах, например, целые числа и логические значения являются целыми числами, т. е. они оба наследуются от базового класса Integral. Аналогично списки и кортежи являются более общими типами Sequence. Мы рассмотрим это более подробно, когда перейдем к теме абстрактных базовых классов (ABC)."
   ]
  },
  {
   "cell_type": "code",
   "execution_count": 38,
   "metadata": {
    "collapsed": true
   },
   "outputs": [],
   "source": [
    "from numbers import Integral"
   ]
  },
  {
   "cell_type": "code",
   "execution_count": 39,
   "metadata": {},
   "outputs": [
    {
     "data": {
      "text/plain": [
       "True"
      ]
     },
     "execution_count": 39,
     "metadata": {},
     "output_type": "execute_result"
    }
   ],
   "source": [
    "isinstance(100, Integral)"
   ]
  },
  {
   "cell_type": "code",
   "execution_count": 40,
   "metadata": {},
   "outputs": [
    {
     "data": {
      "text/plain": [
       "True"
      ]
     },
     "execution_count": 40,
     "metadata": {},
     "output_type": "execute_result"
    }
   ],
   "source": [
    "isinstance(True, Integral)"
   ]
  },
  {
   "cell_type": "code",
   "execution_count": 41,
   "metadata": {},
   "outputs": [
    {
     "data": {
      "text/plain": [
       "False"
      ]
     },
     "execution_count": 41,
     "metadata": {},
     "output_type": "execute_result"
    }
   ],
   "source": [
    "isinstance(100.5, Integral)"
   ]
  },
  {
   "cell_type": "code",
   "execution_count": 42,
   "metadata": {},
   "outputs": [
    {
     "data": {
      "text/plain": [
       "False"
      ]
     },
     "execution_count": 42,
     "metadata": {},
     "output_type": "execute_result"
    }
   ],
   "source": [
    "type(100) is Integral"
   ]
  },
  {
   "cell_type": "code",
   "execution_count": 43,
   "metadata": {},
   "outputs": [
    {
     "data": {
      "text/plain": [
       "False"
      ]
     },
     "execution_count": 43,
     "metadata": {},
     "output_type": "execute_result"
    }
   ],
   "source": [
    "type(True) is Integral"
   ]
  },
  {
   "cell_type": "code",
   "execution_count": 44,
   "metadata": {},
   "outputs": [
    {
     "data": {
      "text/plain": [
       "int"
      ]
     },
     "execution_count": 44,
     "metadata": {},
     "output_type": "execute_result"
    }
   ],
   "source": [
    "(100).__class__"
   ]
  },
  {
   "cell_type": "code",
   "execution_count": 45,
   "metadata": {},
   "outputs": [
    {
     "data": {
      "text/plain": [
       "bool"
      ]
     },
     "execution_count": 45,
     "metadata": {},
     "output_type": "execute_result"
    }
   ],
   "source": [
    "(True).__class__"
   ]
  },
  {
   "cell_type": "markdown",
   "metadata": {},
   "source": [
    "Способ, которым мы реализовали наш декоратор, заключается в том, что если мы регистрируем обобщенную функцию Integral, она не будет принимать ни целые числа, ни булевы значения.\n",
    "\n",
    "Мы, конечно, можем исправить этот недостаток самостоятельно, но, конечно...\n",
    "\n",
    "Мы можем использовать встроенную в Python поддержку одиночной диспетчеризации, в ...\n",
    "\n",
    "вы угадали!\n",
    "\n",
    "модуле `functools`."
   ]
  },
  {
   "cell_type": "code",
   "execution_count": 46,
   "metadata": {
    "collapsed": true
   },
   "outputs": [],
   "source": [
    "from functools import singledispatch\n",
    "from numbers import Integral\n",
    "from collections.abc import Sequence"
   ]
  },
  {
   "cell_type": "code",
   "execution_count": 47,
   "metadata": {
    "collapsed": true
   },
   "outputs": [],
   "source": [
    "@singledispatch\n",
    "def htmlize(a):\n",
    "    return escape(str(a))"
   ]
  },
  {
   "cell_type": "markdown",
   "metadata": {},
   "source": [
    "Возвращаемое замыкание `singledispatch` имеет несколько атрибутов, которые мы можем использовать:\n",
    "1. Декоратор `register` (как у нас)\n",
    "2. Свойство `registry`, которое является словарем реестра\n",
    "3. Функция `dispatch`, которая может использоваться для определения того, какой раздел реестра (зарегистрированный тип) будет использоваться для указанного типа."
   ]
  },
  {
   "cell_type": "code",
   "execution_count": 48,
   "metadata": {
    "collapsed": true
   },
   "outputs": [],
   "source": [
    "@htmlize.register(Integral)\n",
    "def htmlize_int(a):\n",
    "    return '{0}(<i>{1}</i)'.format(a, str(hex(a)))"
   ]
  },
  {
   "cell_type": "code",
   "execution_count": 49,
   "metadata": {},
   "outputs": [
    {
     "data": {
      "text/plain": [
       "<function __main__.htmlize_int>"
      ]
     },
     "execution_count": 49,
     "metadata": {},
     "output_type": "execute_result"
    }
   ],
   "source": [
    "htmlize.dispatch(int)"
   ]
  },
  {
   "cell_type": "code",
   "execution_count": 50,
   "metadata": {},
   "outputs": [
    {
     "data": {
      "text/plain": [
       "<function __main__.htmlize_int>"
      ]
     },
     "execution_count": 50,
     "metadata": {},
     "output_type": "execute_result"
    }
   ],
   "source": [
    "htmlize.dispatch(bool)"
   ]
  },
  {
   "cell_type": "code",
   "execution_count": 51,
   "metadata": {},
   "outputs": [
    {
     "data": {
      "text/plain": [
       "'100(<i>0x64</i)'"
      ]
     },
     "execution_count": 51,
     "metadata": {},
     "output_type": "execute_result"
    }
   ],
   "source": [
    "htmlize(100)"
   ]
  },
  {
   "cell_type": "code",
   "execution_count": 52,
   "metadata": {},
   "outputs": [
    {
     "data": {
      "text/plain": [
       "'True(<i>0x1</i)'"
      ]
     },
     "execution_count": 52,
     "metadata": {},
     "output_type": "execute_result"
    }
   ],
   "source": [
    "htmlize(True)"
   ]
  },
  {
   "cell_type": "code",
   "execution_count": 53,
   "metadata": {
    "collapsed": true
   },
   "outputs": [],
   "source": [
    "@htmlize.register(Sequence)\n",
    "def html_sequence(l):\n",
    "    items = ['<li>{0}</li>'.format(htmlize(item)) for item in l]\n",
    "    return '<ul>\\n' + '\\n'.join(items) + '\\n</ul>'"
   ]
  },
  {
   "cell_type": "code",
   "execution_count": 54,
   "metadata": {},
   "outputs": [
    {
     "data": {
      "text/plain": [
       "<function __main__.html_sequence>"
      ]
     },
     "execution_count": 54,
     "metadata": {},
     "output_type": "execute_result"
    }
   ],
   "source": [
    "htmlize.dispatch(list)"
   ]
  },
  {
   "cell_type": "code",
   "execution_count": 55,
   "metadata": {},
   "outputs": [
    {
     "data": {
      "text/plain": [
       "<function __main__.html_sequence>"
      ]
     },
     "execution_count": 55,
     "metadata": {},
     "output_type": "execute_result"
    }
   ],
   "source": [
    "htmlize.dispatch(tuple)"
   ]
  },
  {
   "cell_type": "code",
   "execution_count": 56,
   "metadata": {},
   "outputs": [
    {
     "data": {
      "text/plain": [
       "<function __main__.html_sequence>"
      ]
     },
     "execution_count": 56,
     "metadata": {},
     "output_type": "execute_result"
    }
   ],
   "source": [
    "htmlize.dispatch(str)"
   ]
  },
  {
   "cell_type": "markdown",
   "metadata": {},
   "source": [
    "Вы заметите, что строка также является типом последовательности, поэтому наш диспетчер вызовет функцию `html_sequence` для строки."
   ]
  },
  {
   "cell_type": "markdown",
   "metadata": {},
   "source": [
    "На самом деле, в этот момент все даже не будет работать должным образом.\n",
    "\n",
    "Если бы мы вызвали\n",
    "\n",
    "`htmlize('abc')`\n",
    "\n",
    "мы бы получили бесконечную рекурсию!\n",
    "\n",
    "Вызов `htmlize` строки `abc` обработал бы ее как последовательность, что вызвало бы `htmlize` символ за символом. Но каждый символ сам по себе является просто строкой длиной 1, поэтому он вызовет `htmlize` для этого одного символа, что обработает его как последовательность, что снова вызовет `htmlize` для этого одного символа, и так далее, в бесконечном цикле."
   ]
  },
  {
   "cell_type": "code",
   "execution_count": 57,
   "metadata": {},
   "outputs": [
    {
     "ename": "RecursionError",
     "evalue": "maximum recursion depth exceeded",
     "output_type": "error",
     "traceback": [
      "\u001b[1;31m---------------------------------------------------------------------------\u001b[0m",
      "\u001b[1;31mRecursionError\u001b[0m                            Traceback (most recent call last)",
      "\u001b[1;32m<ipython-input-57-d6479a8af936>\u001b[0m in \u001b[0;36m<module>\u001b[1;34m()\u001b[0m\n\u001b[1;32m----> 1\u001b[1;33m \u001b[0mhtmlize\u001b[0m\u001b[1;33m(\u001b[0m\u001b[1;34m'abc'\u001b[0m\u001b[1;33m)\u001b[0m\u001b[1;33m\u001b[0m\u001b[0m\n\u001b[0m",
      "\u001b[1;32mD:\\Users\\fbapt\\Anaconda3\\envs\\deepdive\\lib\\functools.py\u001b[0m in \u001b[0;36mwrapper\u001b[1;34m(*args, **kw)\u001b[0m\n\u001b[0;32m    801\u001b[0m \u001b[1;33m\u001b[0m\u001b[0m\n\u001b[0;32m    802\u001b[0m     \u001b[1;32mdef\u001b[0m \u001b[0mwrapper\u001b[0m\u001b[1;33m(\u001b[0m\u001b[1;33m*\u001b[0m\u001b[0margs\u001b[0m\u001b[1;33m,\u001b[0m \u001b[1;33m**\u001b[0m\u001b[0mkw\u001b[0m\u001b[1;33m)\u001b[0m\u001b[1;33m:\u001b[0m\u001b[1;33m\u001b[0m\u001b[0m\n\u001b[1;32m--> 803\u001b[1;33m         \u001b[1;32mreturn\u001b[0m \u001b[0mdispatch\u001b[0m\u001b[1;33m(\u001b[0m\u001b[0margs\u001b[0m\u001b[1;33m[\u001b[0m\u001b[1;36m0\u001b[0m\u001b[1;33m]\u001b[0m\u001b[1;33m.\u001b[0m\u001b[0m__class__\u001b[0m\u001b[1;33m)\u001b[0m\u001b[1;33m(\u001b[0m\u001b[1;33m*\u001b[0m\u001b[0margs\u001b[0m\u001b[1;33m,\u001b[0m \u001b[1;33m**\u001b[0m\u001b[0mkw\u001b[0m\u001b[1;33m)\u001b[0m\u001b[1;33m\u001b[0m\u001b[0m\n\u001b[0m\u001b[0;32m    804\u001b[0m \u001b[1;33m\u001b[0m\u001b[0m\n\u001b[0;32m    805\u001b[0m     \u001b[0mregistry\u001b[0m\u001b[1;33m[\u001b[0m\u001b[0mobject\u001b[0m\u001b[1;33m]\u001b[0m \u001b[1;33m=\u001b[0m \u001b[0mfunc\u001b[0m\u001b[1;33m\u001b[0m\u001b[0m\n",
      "\u001b[1;32m<ipython-input-53-50c13b0d81b3>\u001b[0m in \u001b[0;36mhtml_sequence\u001b[1;34m(l)\u001b[0m\n\u001b[0;32m      1\u001b[0m \u001b[1;33m@\u001b[0m\u001b[0mhtmlize\u001b[0m\u001b[1;33m.\u001b[0m\u001b[0mregister\u001b[0m\u001b[1;33m(\u001b[0m\u001b[0mSequence\u001b[0m\u001b[1;33m)\u001b[0m\u001b[1;33m\u001b[0m\u001b[0m\n\u001b[0;32m      2\u001b[0m \u001b[1;32mdef\u001b[0m \u001b[0mhtml_sequence\u001b[0m\u001b[1;33m(\u001b[0m\u001b[0ml\u001b[0m\u001b[1;33m)\u001b[0m\u001b[1;33m:\u001b[0m\u001b[1;33m\u001b[0m\u001b[0m\n\u001b[1;32m----> 3\u001b[1;33m     \u001b[0mitems\u001b[0m \u001b[1;33m=\u001b[0m \u001b[1;33m[\u001b[0m\u001b[1;34m'<li>{0}</li>'\u001b[0m\u001b[1;33m.\u001b[0m\u001b[0mformat\u001b[0m\u001b[1;33m(\u001b[0m\u001b[0mhtmlize\u001b[0m\u001b[1;33m(\u001b[0m\u001b[0mitem\u001b[0m\u001b[1;33m)\u001b[0m\u001b[1;33m)\u001b[0m \u001b[1;32mfor\u001b[0m \u001b[0mitem\u001b[0m \u001b[1;32min\u001b[0m \u001b[0ml\u001b[0m\u001b[1;33m]\u001b[0m\u001b[1;33m\u001b[0m\u001b[0m\n\u001b[0m\u001b[0;32m      4\u001b[0m     \u001b[1;32mreturn\u001b[0m \u001b[1;34m'<ul>\\n'\u001b[0m \u001b[1;33m+\u001b[0m \u001b[1;34m'\\n'\u001b[0m\u001b[1;33m.\u001b[0m\u001b[0mjoin\u001b[0m\u001b[1;33m(\u001b[0m\u001b[0mitems\u001b[0m\u001b[1;33m)\u001b[0m \u001b[1;33m+\u001b[0m \u001b[1;34m'\\n</ul>'\u001b[0m\u001b[1;33m\u001b[0m\u001b[0m\n",
      "\u001b[1;32m<ipython-input-53-50c13b0d81b3>\u001b[0m in \u001b[0;36m<listcomp>\u001b[1;34m(.0)\u001b[0m\n\u001b[0;32m      1\u001b[0m \u001b[1;33m@\u001b[0m\u001b[0mhtmlize\u001b[0m\u001b[1;33m.\u001b[0m\u001b[0mregister\u001b[0m\u001b[1;33m(\u001b[0m\u001b[0mSequence\u001b[0m\u001b[1;33m)\u001b[0m\u001b[1;33m\u001b[0m\u001b[0m\n\u001b[0;32m      2\u001b[0m \u001b[1;32mdef\u001b[0m \u001b[0mhtml_sequence\u001b[0m\u001b[1;33m(\u001b[0m\u001b[0ml\u001b[0m\u001b[1;33m)\u001b[0m\u001b[1;33m:\u001b[0m\u001b[1;33m\u001b[0m\u001b[0m\n\u001b[1;32m----> 3\u001b[1;33m     \u001b[0mitems\u001b[0m \u001b[1;33m=\u001b[0m \u001b[1;33m[\u001b[0m\u001b[1;34m'<li>{0}</li>'\u001b[0m\u001b[1;33m.\u001b[0m\u001b[0mformat\u001b[0m\u001b[1;33m(\u001b[0m\u001b[0mhtmlize\u001b[0m\u001b[1;33m(\u001b[0m\u001b[0mitem\u001b[0m\u001b[1;33m)\u001b[0m\u001b[1;33m)\u001b[0m \u001b[1;32mfor\u001b[0m \u001b[0mitem\u001b[0m \u001b[1;32min\u001b[0m \u001b[0ml\u001b[0m\u001b[1;33m]\u001b[0m\u001b[1;33m\u001b[0m\u001b[0m\n\u001b[0m\u001b[0;32m      4\u001b[0m     \u001b[1;32mreturn\u001b[0m \u001b[1;34m'<ul>\\n'\u001b[0m \u001b[1;33m+\u001b[0m \u001b[1;34m'\\n'\u001b[0m\u001b[1;33m.\u001b[0m\u001b[0mjoin\u001b[0m\u001b[1;33m(\u001b[0m\u001b[0mitems\u001b[0m\u001b[1;33m)\u001b[0m \u001b[1;33m+\u001b[0m \u001b[1;34m'\\n</ul>'\u001b[0m\u001b[1;33m\u001b[0m\u001b[0m\n",
      "... last 3 frames repeated, from the frame below ...\n",
      "\u001b[1;32mD:\\Users\\fbapt\\Anaconda3\\envs\\deepdive\\lib\\functools.py\u001b[0m in \u001b[0;36mwrapper\u001b[1;34m(*args, **kw)\u001b[0m\n\u001b[0;32m    801\u001b[0m \u001b[1;33m\u001b[0m\u001b[0m\n\u001b[0;32m    802\u001b[0m     \u001b[1;32mdef\u001b[0m \u001b[0mwrapper\u001b[0m\u001b[1;33m(\u001b[0m\u001b[1;33m*\u001b[0m\u001b[0margs\u001b[0m\u001b[1;33m,\u001b[0m \u001b[1;33m**\u001b[0m\u001b[0mkw\u001b[0m\u001b[1;33m)\u001b[0m\u001b[1;33m:\u001b[0m\u001b[1;33m\u001b[0m\u001b[0m\n\u001b[1;32m--> 803\u001b[1;33m         \u001b[1;32mreturn\u001b[0m \u001b[0mdispatch\u001b[0m\u001b[1;33m(\u001b[0m\u001b[0margs\u001b[0m\u001b[1;33m[\u001b[0m\u001b[1;36m0\u001b[0m\u001b[1;33m]\u001b[0m\u001b[1;33m.\u001b[0m\u001b[0m__class__\u001b[0m\u001b[1;33m)\u001b[0m\u001b[1;33m(\u001b[0m\u001b[1;33m*\u001b[0m\u001b[0margs\u001b[0m\u001b[1;33m,\u001b[0m \u001b[1;33m**\u001b[0m\u001b[0mkw\u001b[0m\u001b[1;33m)\u001b[0m\u001b[1;33m\u001b[0m\u001b[0m\n\u001b[0m\u001b[0;32m    804\u001b[0m \u001b[1;33m\u001b[0m\u001b[0m\n\u001b[0;32m    805\u001b[0m     \u001b[0mregistry\u001b[0m\u001b[1;33m[\u001b[0m\u001b[0mobject\u001b[0m\u001b[1;33m]\u001b[0m \u001b[1;33m=\u001b[0m \u001b[0mfunc\u001b[0m\u001b[1;33m\u001b[0m\u001b[0m\n",
      "\u001b[1;31mRecursionError\u001b[0m: maximum recursion depth exceeded"
     ]
    }
   ],
   "source": [
    "htmlize('abc')"
   ]
  },
  {
   "cell_type": "markdown",
   "metadata": {},
   "source": [
    "Вместо этого мы зарегистрируем обработчик строк специально — таким образом мы полностью избежим этой проблемы:"
   ]
  },
  {
   "cell_type": "code",
   "execution_count": 58,
   "metadata": {
    "collapsed": true
   },
   "outputs": [],
   "source": [
    "@htmlize.register(str)\n",
    "def html_str(s):\n",
    "    return escape(s).replace('\\n', '<br/>\\n')"
   ]
  },
  {
   "cell_type": "code",
   "execution_count": 59,
   "metadata": {},
   "outputs": [
    {
     "data": {
      "text/plain": [
       "<function __main__.html_str>"
      ]
     },
     "execution_count": 59,
     "metadata": {},
     "output_type": "execute_result"
    }
   ],
   "source": [
    "htmlize.dispatch(str)"
   ]
  },
  {
   "cell_type": "markdown",
   "metadata": {},
   "source": [
    "Таким образом, даже если строка является как экземпляром `str`, так и в целом типом последовательности, диспетчер выберет «ближайший» тип (опять же, чего не сделала наша собственная реализация).\n",
    "\n",
    "Это означает, что у нас есть что-то для общих последовательностей, но что-то конкретное для более специализированных строк."
   ]
  },
  {
   "cell_type": "code",
   "execution_count": 60,
   "metadata": {},
   "outputs": [
    {
     "data": {
      "text/plain": [
       "'abc'"
      ]
     },
     "execution_count": 60,
     "metadata": {},
     "output_type": "execute_result"
    }
   ],
   "source": [
    "htmlize('abc')"
   ]
  },
  {
   "cell_type": "markdown",
   "metadata": {},
   "source": [
    "То же самое мы можем сделать с последовательностями — сейчас `html_sequence` будет использоваться как для списков, так и для кортежей."
   ]
  },
  {
   "cell_type": "markdown",
   "metadata": {},
   "source": [
    "Но предположим, что нам нужна немного иная обработка кортежей:"
   ]
  },
  {
   "cell_type": "code",
   "execution_count": 61,
   "metadata": {
    "collapsed": true
   },
   "outputs": [],
   "source": [
    "@htmlize.register(tuple)\n",
    "def html_tuple(t):\n",
    "    items = [escape(str(item)) for item in t]\n",
    "    return '({0})'.format(', '.join(items))"
   ]
  },
  {
   "cell_type": "code",
   "execution_count": 62,
   "metadata": {},
   "outputs": [
    {
     "data": {
      "text/plain": [
       "<function __main__.html_sequence>"
      ]
     },
     "execution_count": 62,
     "metadata": {},
     "output_type": "execute_result"
    }
   ],
   "source": [
    "htmlize.dispatch(list)"
   ]
  },
  {
   "cell_type": "code",
   "execution_count": 63,
   "metadata": {},
   "outputs": [
    {
     "data": {
      "text/plain": [
       "<function __main__.html_tuple>"
      ]
     },
     "execution_count": 63,
     "metadata": {},
     "output_type": "execute_result"
    }
   ],
   "source": [
    "htmlize.dispatch(tuple)"
   ]
  },
  {
   "cell_type": "code",
   "execution_count": 64,
   "metadata": {},
   "outputs": [
    {
     "name": "stdout",
     "output_type": "stream",
     "text": [
      "<ul>\n",
      "<li>a</li>\n",
      "<li>100(<i>0x64</i)</li>\n",
      "<li>3.14</li>\n",
      "</ul>\n"
     ]
    }
   ],
   "source": [
    "print(htmlize(['a', 100, 3.14]))"
   ]
  },
  {
   "cell_type": "code",
   "execution_count": 65,
   "metadata": {
    "scrolled": true
   },
   "outputs": [
    {
     "name": "stdout",
     "output_type": "stream",
     "text": [
      "(a, 100, 3.14)\n"
     ]
    }
   ],
   "source": [
    "print(htmlize(('a', 100, 3.14)))"
   ]
  },
  {
   "cell_type": "markdown",
   "metadata": {},
   "source": [
    "Стоит отметить, что мы начали наше оформление с декоратора `@singledispatch` — вы заметите, что здесь не указан конкретный тип — и на самом деле это означает, что диспетчер будет использовать общий тип `object`."
   ]
  },
  {
   "cell_type": "markdown",
   "metadata": {},
   "source": [
    "Это означает, что любой тип объекта, специально не обрабатываемый нашим диспетчером, будет возвращаться к этому ключу `object`, поэтому его можно рассматривать как значение по умолчанию для диспетчера."
   ]
  },
  {
   "cell_type": "code",
   "execution_count": 66,
   "metadata": {},
   "outputs": [
    {
     "data": {
      "text/plain": [
       "NoneType"
      ]
     },
     "execution_count": 66,
     "metadata": {},
     "output_type": "execute_result"
    }
   ],
   "source": [
    "type(None)"
   ]
  },
  {
   "cell_type": "code",
   "execution_count": 67,
   "metadata": {},
   "outputs": [
    {
     "data": {
      "text/plain": [
       "<function __main__.htmlize>"
      ]
     },
     "execution_count": 67,
     "metadata": {},
     "output_type": "execute_result"
    }
   ],
   "source": [
    "htmlize.dispatch(type(None))"
   ]
  },
  {
   "cell_type": "code",
   "execution_count": 68,
   "metadata": {},
   "outputs": [
    {
     "data": {
      "text/plain": [
       "complex"
      ]
     },
     "execution_count": 68,
     "metadata": {},
     "output_type": "execute_result"
    }
   ],
   "source": [
    "type(1+1j)"
   ]
  },
  {
   "cell_type": "code",
   "execution_count": 69,
   "metadata": {},
   "outputs": [
    {
     "data": {
      "text/plain": [
       "<function __main__.htmlize>"
      ]
     },
     "execution_count": 69,
     "metadata": {},
     "output_type": "execute_result"
    }
   ],
   "source": [
    "htmlize.dispatch(complex)"
   ]
  },
  {
   "cell_type": "code",
   "execution_count": 70,
   "metadata": {},
   "outputs": [
    {
     "data": {
      "text/plain": [
       "int"
      ]
     },
     "execution_count": 70,
     "metadata": {},
     "output_type": "execute_result"
    }
   ],
   "source": [
    "type(3)"
   ]
  },
  {
   "cell_type": "code",
   "execution_count": 71,
   "metadata": {},
   "outputs": [
    {
     "data": {
      "text/plain": [
       "<function __main__.htmlize_int>"
      ]
     },
     "execution_count": 71,
     "metadata": {},
     "output_type": "execute_result"
    }
   ],
   "source": [
    "htmlize.dispatch(int)"
   ]
  },
  {
   "cell_type": "markdown",
   "metadata": {},
   "source": [
    "Наконец, поскольку имя отдельной специализированной функции не имеет для нас особого значения (диспетчер выберет соответствующую функцию), для имени функции довольно часто используется символ подчеркивания ( \\_ ) — адрес памяти каждой специализированной функции будет сохранен в словаре `registry`, а имя функции не имеет значения — на самом деле мы даже можем добавлять лямбда-выражения в реестр."
   ]
  },
  {
   "cell_type": "code",
   "execution_count": 72,
   "metadata": {
    "collapsed": true
   },
   "outputs": [],
   "source": [
    "@singledispatch\n",
    "def htmlize(a):\n",
    "    return escape(str(a))"
   ]
  },
  {
   "cell_type": "code",
   "execution_count": 73,
   "metadata": {
    "collapsed": true
   },
   "outputs": [],
   "source": [
    "@htmlize.register(int)\n",
    "def _(a):\n",
    "    return '{0}({1})'.format(a, str(hex(a)))"
   ]
  },
  {
   "cell_type": "code",
   "execution_count": 74,
   "metadata": {
    "collapsed": true
   },
   "outputs": [],
   "source": [
    "@htmlize.register(str)\n",
    "def _(s):\n",
    "    return escape(s).replace('\\n', '<br/>\\n')"
   ]
  },
  {
   "cell_type": "code",
   "execution_count": 75,
   "metadata": {},
   "outputs": [
    {
     "data": {
      "text/plain": [
       "<function __main__.<lambda>>"
      ]
     },
     "execution_count": 75,
     "metadata": {},
     "output_type": "execute_result"
    }
   ],
   "source": [
    "htmlize.register(float)(lambda f: '{0:.2f}'.format(f))"
   ]
  },
  {
   "cell_type": "code",
   "execution_count": 76,
   "metadata": {},
   "outputs": [
    {
     "data": {
      "text/plain": [
       "mappingproxy({object: <function __main__.htmlize>,\n",
       "              int: <function __main__._>,\n",
       "              str: <function __main__._>,\n",
       "              float: <function __main__.<lambda>>})"
      ]
     },
     "execution_count": 76,
     "metadata": {},
     "output_type": "execute_result"
    }
   ],
   "source": [
    "htmlize.registry"
   ]
  },
  {
   "cell_type": "markdown",
   "metadata": {},
   "source": [
    "Но обратите внимание, что функция `__main__._` для `int` и `str` — это не одни и те же функции (даже если у них одинаковые имена):"
   ]
  },
  {
   "cell_type": "code",
   "execution_count": 77,
   "metadata": {},
   "outputs": [
    {
     "data": {
      "text/plain": [
       "3104966916432"
      ]
     },
     "execution_count": 77,
     "metadata": {},
     "output_type": "execute_result"
    }
   ],
   "source": [
    "id(htmlize.registry[str])"
   ]
  },
  {
   "cell_type": "code",
   "execution_count": 78,
   "metadata": {},
   "outputs": [
    {
     "data": {
      "text/plain": [
       "3104967451784"
      ]
     },
     "execution_count": 78,
     "metadata": {},
     "output_type": "execute_result"
    }
   ],
   "source": [
    "id(htmlize.registry[int])"
   ]
  },
  {
   "cell_type": "markdown",
   "metadata": {},
   "source": [
    "And everything works as expected:"
   ]
  },
  {
   "cell_type": "code",
   "execution_count": 79,
   "metadata": {},
   "outputs": [
    {
     "data": {
      "text/plain": [
       "'100(0x64)'"
      ]
     },
     "execution_count": 79,
     "metadata": {},
     "output_type": "execute_result"
    }
   ],
   "source": [
    "htmlize(100)"
   ]
  },
  {
   "cell_type": "code",
   "execution_count": 80,
   "metadata": {},
   "outputs": [
    {
     "data": {
      "text/plain": [
       "'3.14'"
      ]
     },
     "execution_count": 80,
     "metadata": {},
     "output_type": "execute_result"
    }
   ],
   "source": [
    "htmlize(3.1415)"
   ]
  },
  {
   "cell_type": "code",
   "execution_count": 81,
   "metadata": {
    "scrolled": true
   },
   "outputs": [
    {
     "name": "stdout",
     "output_type": "stream",
     "text": [
      "this<br/>\n",
      "is a multi-line string<br/>\n",
      "a &lt; 10\n"
     ]
    }
   ],
   "source": [
    "print(htmlize(\"\"\"this\n",
    "is a multi-line string\n",
    "a < 10\"\"\"))"
   ]
  },
  {
   "cell_type": "markdown",
   "metadata": {},
   "source": [
    "Если вас смущает одно и то же название, но разные функции, посмотрите на это так:"
   ]
  },
  {
   "cell_type": "code",
   "execution_count": 82,
   "metadata": {
    "collapsed": true
   },
   "outputs": [],
   "source": [
    "def my_func():\n",
    "    print('my_func initial')"
   ]
  },
  {
   "cell_type": "code",
   "execution_count": 83,
   "metadata": {},
   "outputs": [
    {
     "data": {
      "text/plain": [
       "3104966916296"
      ]
     },
     "execution_count": 83,
     "metadata": {},
     "output_type": "execute_result"
    }
   ],
   "source": [
    "id(my_func)"
   ]
  },
  {
   "cell_type": "code",
   "execution_count": 84,
   "metadata": {
    "collapsed": true
   },
   "outputs": [],
   "source": [
    "f = my_func"
   ]
  },
  {
   "cell_type": "code",
   "execution_count": 85,
   "metadata": {},
   "outputs": [
    {
     "data": {
      "text/plain": [
       "3104966916296"
      ]
     },
     "execution_count": 85,
     "metadata": {},
     "output_type": "execute_result"
    }
   ],
   "source": [
    "id(f)"
   ]
  },
  {
   "cell_type": "markdown",
   "metadata": {},
   "source": [
    "Итак, `f` и `my_func` указывают на одну и ту же функцию в памяти.\n",
    "\n",
    "Давайте продолжим и «переопределим» функцию `my_func`:"
   ]
  },
  {
   "cell_type": "code",
   "execution_count": 86,
   "metadata": {
    "collapsed": true
   },
   "outputs": [],
   "source": [
    "def my_func():\n",
    "    print('second my_func')"
   ]
  },
  {
   "cell_type": "markdown",
   "metadata": {},
   "source": [
    "На самом деле, мы не «переопределяли» предыдущую `my_func`, она все еще существует в памяти (и `f` все еще указывает на нее). Вместо этого мы переназначили функцию, на которую указывает `my_func`:"
   ]
  },
  {
   "cell_type": "code",
   "execution_count": 87,
   "metadata": {},
   "outputs": [
    {
     "data": {
      "text/plain": [
       "3104966914800"
      ]
     },
     "execution_count": 87,
     "metadata": {},
     "output_type": "execute_result"
    }
   ],
   "source": [
    "id(my_func)"
   ]
  },
  {
   "cell_type": "markdown",
   "metadata": {},
   "source": [
    "Но исходный `my_func` все еще существует, и `f' все еще имеет ссылку на него:"
   ]
  },
  {
   "cell_type": "code",
   "execution_count": 88,
   "metadata": {},
   "outputs": [
    {
     "data": {
      "text/plain": [
       "3104966916296"
      ]
     },
     "execution_count": 88,
     "metadata": {},
     "output_type": "execute_result"
    }
   ],
   "source": [
    "id(f)"
   ]
  },
  {
   "cell_type": "markdown",
   "metadata": {},
   "source": [
    "Итак, мы можем назвать каждый из них:"
   ]
  },
  {
   "cell_type": "code",
   "execution_count": 89,
   "metadata": {},
   "outputs": [
    {
     "name": "stdout",
     "output_type": "stream",
     "text": [
      "my_func initial\n"
     ]
    }
   ],
   "source": [
    "f()"
   ]
  },
  {
   "cell_type": "code",
   "execution_count": 90,
   "metadata": {},
   "outputs": [
    {
     "name": "stdout",
     "output_type": "stream",
     "text": [
      "second my_func\n"
     ]
    }
   ],
   "source": [
    "my_func()"
   ]
  },
  {
   "cell_type": "markdown",
   "metadata": {},
   "source": [
    "Но функция `__name__` имеет то же значение:"
   ]
  },
  {
   "cell_type": "code",
   "execution_count": 91,
   "metadata": {},
   "outputs": [
    {
     "data": {
      "text/plain": [
       "'my_func'"
      ]
     },
     "execution_count": 91,
     "metadata": {},
     "output_type": "execute_result"
    }
   ],
   "source": [
    "f.__name__"
   ]
  },
  {
   "cell_type": "code",
   "execution_count": 92,
   "metadata": {},
   "outputs": [
    {
     "data": {
      "text/plain": [
       "'my_func'"
      ]
     },
     "execution_count": 92,
     "metadata": {},
     "output_type": "execute_result"
    }
   ],
   "source": [
    "my_func.__name__"
   ]
  },
  {
   "cell_type": "markdown",
   "metadata": {},
   "source": [
    "Просто всегда помните, что метки указывают на что-то в памяти, а не сам объект. Так что в этом случае у нас есть два отдельных объекта (функции), которые имеют одинаковое имя, но являются двумя совершенно разными объектами - `f` указывает на первый, который мы создали, а `my_func` указывает на второй."
   ]
  }
 ],
 "metadata": {
  "kernelspec": {
   "display_name": "Python 3",
   "language": "python",
   "name": "python3"
  },
  "language_info": {
   "codemirror_mode": {
    "name": "ipython",
    "version": 3
   },
   "file_extension": ".py",
   "mimetype": "text/x-python",
   "name": "python",
   "nbconvert_exporter": "python",
   "pygments_lexer": "ipython3",
   "version": "3.12.5"
  }
 },
 "nbformat": 4,
 "nbformat_minor": 2
}
