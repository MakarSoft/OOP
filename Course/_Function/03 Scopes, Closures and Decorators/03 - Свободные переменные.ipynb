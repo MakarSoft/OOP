{
 "cells": [
  {
   "cell_type": "markdown",
   "metadata": {},
   "source": [
    "## Свободная переменная"
   ]
  },
  {
   "cell_type": "markdown",
   "metadata": {},
   "source": [
    "В Python свободная переменная — это переменная, которая используется в функции, но не определяется внутри этой функции и не передается ей в качестве аргумента. Свободные переменные могут быть определены в окружающем контексте.\n",
    "Например, если функция определена внутри другой функции, переменные, определенные в объемлющей функции, становятся свободными переменными для вложенной функции. Это позволяет вложенной функции использовать значения, определенные в ее объемлющей функции.\n",
    "\n"
   ]
  },
  {
   "cell_type": "markdown",
   "metadata": {},
   "source": [
    "### Пример свободной переменной"
   ]
  },
  {
   "cell_type": "code",
   "execution_count": 2,
   "metadata": {},
   "outputs": [
    {
     "name": "stdout",
     "output_type": "stream",
     "text": [
      "10\n",
      "()\n"
     ]
    }
   ],
   "source": [
    "x = 10\n",
    "\n",
    "def my_function():\n",
    "    print(x)  # здесь x является свободной переменной\n",
    "\n",
    "my_function()  # Вывод: 10\n",
    "print(my_function.__code__.co_freevars)\n"
   ]
  },
  {
   "cell_type": "code",
   "execution_count": null,
   "metadata": {},
   "outputs": [],
   "source": [
    "def outer_function():\n",
    "    y = 5\n",
    "\n",
    "    def inner_function():\n",
    "        print(y)  # y является свободной переменной для inner_function\n",
    "\n",
    "    inner_function()  # Вывод: 5\n",
    "\n",
    "outer_function()"
   ]
  },
  {
   "cell_type": "markdown",
   "metadata": {},
   "source": [
    "---"
   ]
  },
  {
   "cell_type": "code",
   "execution_count": null,
   "metadata": {},
   "outputs": [],
   "source": [
    "def make_multiplier(factor):\n",
    "    def multiplier(x):\n",
    "        return x * factor  # 'factor' — свободная переменная\n",
    "    return multiplier\n",
    "\n",
    "double = make_multiplier(2)  # 'factor' будет равен 2\n",
    "result = double(5)  # result будет равен 10\n"
   ]
  },
  {
   "cell_type": "markdown",
   "metadata": {},
   "source": [
    "В этом примере:\n",
    "\n",
    "`factor` — это свободная переменная для функции `multiplier`, так как она не определена внутри `multiplier` и не передается ей в качестве аргумента.\n",
    "\n",
    "Когда вы вызываете `make_multiplier(2)`, **создается замыкание, которое связывает factor со значением 2**. Таким образом, когда вы вызываете double(5), функция multiplier использует значение factor, равное 2."
   ]
  },
  {
   "cell_type": "markdown",
   "metadata": {},
   "source": [
    "### Замыкания"
   ]
  },
  {
   "cell_type": "markdown",
   "metadata": {},
   "source": [
    "Свободные переменные часто используются в замыканиях, которые позволяют функции \"запоминать\" значения из своей внешней области видимости даже после того, как эта область видимости была закрыта.\n",
    "\n",
    "Это может быть полезно для создания функций с предустановленными параметрами или для реализации различных паттернов программирования."
   ]
  },
  {
   "cell_type": "markdown",
   "metadata": {},
   "source": [
    "Пример с замыканием\n",
    "Вот еще один пример, который демонстрирует использование свободных переменных и замыканий:"
   ]
  },
  {
   "cell_type": "code",
   "execution_count": 2,
   "metadata": {},
   "outputs": [
    {
     "name": "stdout",
     "output_type": "stream",
     "text": [
      "1\n",
      "2\n",
      "3\n"
     ]
    }
   ],
   "source": [
    "def counter():\n",
    "    count = 0  # 'count' — это локальная переменная для функции 'counter'\n",
    "\n",
    "    def increment():\n",
    "        nonlocal count  # 'count' — свободная переменная для функции 'increment'\n",
    "        count += 1\n",
    "        return count\n",
    "\n",
    "    return increment\n",
    "\n",
    "\n",
    "my_counter = counter()\n",
    "\n",
    "print(my_counter())  # 1\n",
    "print(my_counter())  # 2\n",
    "print(my_counter())  # 3\n"
   ]
  },
  {
   "cell_type": "markdown",
   "metadata": {},
   "source": [
    "`count` — это локальная переменная для функции `counter`, но она становится свободной переменной для функции `increment`.\n",
    "Ключевое слово `nonlocal` позволяет функции `increment` изменять значение `count`, которое находится в области видимости `counter`.\n",
    "Таким образом, свободные переменные играют важную роль в создании замыканий и управлении состоянием в функциях."
   ]
  },
  {
   "cell_type": "markdown",
   "metadata": {},
   "source": [
    "Замыкания в Python — это мощный инструмент, который позволяет сохранять состояние между вызовами функций. "
   ]
  },
  {
   "cell_type": "markdown",
   "metadata": {},
   "source": [
    "---"
   ]
  },
  {
   "cell_type": "markdown",
   "metadata": {},
   "source": [
    "### Несколько примеров, которые демонстрируют различные способы использования замыканий."
   ]
  },
  {
   "cell_type": "markdown",
   "metadata": {},
   "source": [
    "---"
   ]
  },
  {
   "cell_type": "markdown",
   "metadata": {},
   "source": [
    "#### Генератор последовательности"
   ]
  },
  {
   "cell_type": "code",
   "execution_count": 1,
   "metadata": {},
   "outputs": [
    {
     "name": "stdout",
     "output_type": "stream",
     "text": [
      "1\n",
      "2\n",
      "3\n"
     ]
    }
   ],
   "source": [
    "def make_counter():\n",
    "    count = 0  # Локальная переменная для хранения состояния\n",
    "\n",
    "    def counter():\n",
    "        nonlocal count  # Указываем, что мы хотим использовать переменную из внешней области\n",
    "        count += 1\n",
    "        return count\n",
    "\n",
    "    return counter\n",
    "\n",
    "my_counter = make_counter()\n",
    "\n",
    "print(my_counter())  # 1\n",
    "print(my_counter())  # 2\n",
    "print(my_counter())  # 3\n"
   ]
  },
  {
   "cell_type": "markdown",
   "metadata": {},
   "source": [
    "#### Функция с предустановленным значением"
   ]
  },
  {
   "cell_type": "code",
   "execution_count": 3,
   "metadata": {},
   "outputs": [
    {
     "name": "stdout",
     "output_type": "stream",
     "text": [
      "16\n",
      "8\n"
     ]
    }
   ],
   "source": [
    "def power_of(n):\n",
    "    def power(x):\n",
    "        return x ** n  # n — свободная переменная\n",
    "    return power\n",
    "\n",
    "square = power_of(2)  # Создаем функцию для возведения в квадрат\n",
    "cube = power_of(3)    # Создаем функцию для возведения в куб\n",
    "\n",
    "print(square(4))  # 16\n",
    "print(cube(2))    # 8\n"
   ]
  },
  {
   "cell_type": "markdown",
   "metadata": {},
   "source": [
    "#### Создание функций с различными параметрами"
   ]
  },
  {
   "cell_type": "code",
   "execution_count": null,
   "metadata": {},
   "outputs": [],
   "source": [
    "def create_adder(x):\n",
    "    def adder(y):\n",
    "        return x + y  # 'x' — свободная переменная\n",
    "    return adder\n",
    "\n",
    "add_five = create_adder(5)\n",
    "add_ten = create_adder(10)\n",
    "\n",
    "print(add_five(3))  # 8\n",
    "print(add_ten(3))   # 13\n"
   ]
  },
  {
   "cell_type": "markdown",
   "metadata": {},
   "source": [
    "#### Кэширование результатов"
   ]
  },
  {
   "cell_type": "code",
   "execution_count": 4,
   "metadata": {},
   "outputs": [
    {
     "name": "stdout",
     "output_type": "stream",
     "text": [
      "55\n"
     ]
    }
   ],
   "source": [
    "def memoize(func):\n",
    "    cache = {}  # Словарь для хранения кэша\n",
    "\n",
    "    def memoized_func(x):\n",
    "        if x not in cache:\n",
    "            cache[x] = func(x)  # Вычисляем и сохраняем в кэш\n",
    "        return cache[x]\n",
    "\n",
    "    return memoized_func\n",
    "\n",
    "@memoize\n",
    "def fibonacci(n):\n",
    "    if n <= 1:\n",
    "        return n\n",
    "    return fibonacci(n - 1) + fibonacci(n - 2)\n",
    "\n",
    "print(fibonacci(10))  # 55\n"
   ]
  },
  {
   "cell_type": "code",
   "execution_count": null,
   "metadata": {},
   "outputs": [],
   "source": [
    "def create_adder(x):\n",
    "    def adder(y):\n",
    "        return x + y  # 'x' — свободная переменная\n",
    "    return adder\n",
    "\n",
    "add_five = create_adder(5)\n",
    "add_ten = create_adder(10)\n",
    "\n",
    "print(add_five(3))  # 8\n",
    "print(add_ten(3))   # 13\n"
   ]
  },
  {
   "cell_type": "markdown",
   "metadata": {},
   "source": [
    "#### Функции обратного вызова"
   ]
  },
  {
   "cell_type": "code",
   "execution_count": null,
   "metadata": {},
   "outputs": [],
   "source": [
    "def make_button(label):\n",
    "    def on_click():\n",
    "        print(f\"Button '{label}' clicked!\")  # 'label' — свободная переменная\n",
    "    return on_click\n",
    "\n",
    "button1 = make_button(\"Submit\")\n",
    "button2 = make_button(\"Cancel\")\n",
    "\n",
    "button1()  # Button 'Submit' clicked!\n",
    "button2()  # Button 'Cancel' clicked!\n"
   ]
  },
  {
   "cell_type": "markdown",
   "metadata": {},
   "source": [
    "---"
   ]
  },
  {
   "cell_type": "markdown",
   "metadata": {},
   "source": [
    "Замыкание (closure) в Python — это функция, которая \"запоминает\" свое окружение, даже когда она вызывается вне той области видимости в которой была определена.\n",
    "\n",
    "Это означает, что замыкание может использовать переменные, которые были определены в окружающей функции, даже после того, как эта функция завершила выполнение.\n",
    "\n",
    "Основные компоненты замыкания\n",
    "- Вложенная функция: Это функция, которая определена внутри другой функции.\n",
    "- Свободные переменные: Это переменные, которые используются во вложенной функции, но не определены внутри нее. Они определены в окружающей функции.\n",
    "- Возврат вложенной функции: Внешняя функция возвращает вложенную функцию, что позволяет сохранить доступ к свободным переменным.\n",
    "Пример реализации замыкания"
   ]
  },
  {
   "cell_type": "code",
   "execution_count": null,
   "metadata": {},
   "outputs": [],
   "source": [
    "def outer_function(x):\n",
    "    # Внешняя функция, которая принимает аргумент x\n",
    "    def inner_function(y):\n",
    "        # Вложенная функция, которая использует x\n",
    "        #   для нее x - является свободной переменной\n",
    "        return x + y  # x — свободная переменная\n",
    "    return inner_function  # Возвращаем вложенную функцию\n",
    "\n",
    "# Создаем замыкание\n",
    "closure = outer_function(10)\n",
    "\n",
    "# Теперь closure — это функция, которая \"запомнила\" значение x = 10\n",
    "result1 = closure(5)  # Вызываем замыкание с y = 5\n",
    "result2 = closure(20)  # Вызываем замыкание с y = 20\n",
    "\n",
    "print(result1)  # Вывод: 15 (10 + 5)\n",
    "print(result2)  # Вывод: 30 (10 + 20)\n"
   ]
  },
  {
   "cell_type": "markdown",
   "metadata": {},
   "source": [
    "Как это работает\n",
    "\n",
    "1. Вызов outer_function(10): Когда мы вызываем `outer_function` с аргументом 10, создается локальная переменная x, которая равна 10.\n",
    "\n",
    "2. Определение inner_function(y): Внутри outer_function мы определяем `inner_function`, которая принимает аргумент y и возвращает сумму x и y.\n",
    "\n",
    "3. Возврат inner_function: **outer_function возвращает `inner_function`**, но при этом **сохраняет контекст**, в котором была создана inner_function, включая значение x.\n",
    "\n",
    "4. Создание замыкания: Когда мы присваиваем результат вызова outer_function(10) переменной `closure`, мы фактически создаем замыкание, которое \"запоминает\" значение x = 10.\n",
    "\n",
    "5. Вызов замыкания: При вызове closure(5) и closure(20) мы передаем разные значения y, но x остается равным 10, что позволяет нам получать разные результаты.\n"
   ]
  },
  {
   "cell_type": "markdown",
   "metadata": {},
   "source": [
    "Замыкания также могут использоваться для сохранения состояния между вызовами:"
   ]
  },
  {
   "cell_type": "code",
   "execution_count": null,
   "metadata": {},
   "outputs": [],
   "source": [
    "def make_counter():\n",
    "    count = 0  # Локальная переменная для хранения состояния\n",
    "\n",
    "    def counter():\n",
    "        nonlocal count  # Указываем, что мы хотим использовать переменную из внешней области\n",
    "        count += 1\n",
    "        return count\n",
    "\n",
    "    return counter\n",
    "\n",
    "my_counter = make_counter()\n",
    "\n",
    "print(my_counter())  # Вывод: 1\n",
    "print(my_counter())  # Вывод: 2\n",
    "print(my_counter())  # Вывод: 3\n"
   ]
  },
  {
   "cell_type": "markdown",
   "metadata": {},
   "source": [
    "Как это работает\n",
    "\n",
    "1. Создание make_counter: Когда мы вызываем `make_counter`, создается локальная переменная `count`, и определяем вложенную функцию `counter`.\n",
    "\n",
    "2. Использование nonlocal: Ключевое слово `nonlocal` позволяет функции `counter` изменять значение `count`, которое находится в области видимости `make_counter`.\n",
    "\n",
    "3. Возврат counter: `make_counter` возвращает `counter`, создавая замыкание, которое сохраняет доступ к переменной `count`.\n",
    "\n",
    "4. Изменение состояния: Каждый раз, когда мы вызываем my_counter(), значение count увеличивается на 1, и это **значение сохраняется между вызовами**."
   ]
  },
  {
   "cell_type": "markdown",
   "metadata": {},
   "source": [
    "---\n"
   ]
  },
  {
   "cell_type": "markdown",
   "metadata": {},
   "source": [
    "\n",
    "### 1. Атрибут `__closure__`\n",
    "   \n",
    "Атрибут `__closure__` — это кортеж, который содержит ячейки (`cell objects`), в которых хранятся **значения свободных переменных**, используемых в замыкании. Если функция не имеет замыканий, этот атрибут будет равен None.\n",
    "\n",
    "Пример использования `__closure__`"
   ]
  },
  {
   "cell_type": "code",
   "execution_count": 1,
   "metadata": {},
   "outputs": [
    {
     "name": "stdout",
     "output_type": "stream",
     "text": [
      "(<cell at 0x7f21667b2dd0: int object at 0x7f217abbbce8>,)\n"
     ]
    }
   ],
   "source": [
    "def outer_function(x):\n",
    "    def inner_function(y):\n",
    "        return x + y\n",
    "    return inner_function\n",
    "\n",
    "closure = outer_function(10)\n",
    "\n",
    "# Проверяем атрибут __closure__\n",
    "print(closure.__closure__)  # (<cell at 0x...: int object at ...>,)\n"
   ]
  },
  {
   "cell_type": "markdown",
   "metadata": {},
   "source": [
    "В этом примере:\n",
    "\n",
    "`closure` — это функция `inner_function`, которая замыкает переменную x.\n",
    "Атрибут `__closure__` содержит одну ячейку, которая хранит значение x, равное 10.\n"
   ]
  },
  {
   "cell_type": "markdown",
   "metadata": {},
   "source": [
    "### 2. Атрибут `__code__.co_freevars`\n",
    "   \n",
    "Атрибут `__code__.co_freevars` — это кортеж, который содержит имена свободных переменных, используемых в функции. Этот атрибут доступен через атрибут `__code__` функции."
   ]
  },
  {
   "cell_type": "code",
   "execution_count": 5,
   "metadata": {},
   "outputs": [
    {
     "name": "stdout",
     "output_type": "stream",
     "text": [
      "('x',)\n"
     ]
    }
   ],
   "source": [
    "def outer_function(x):\n",
    "    def inner_function(y):\n",
    "        return x + y\n",
    "    return inner_function\n",
    "\n",
    "closure = outer_function(10)\n",
    "\n",
    "# Проверяем атрибут __code__.co_freevars\n",
    "print(closure.__code__.co_freevars)  # ('x',)\n"
   ]
  },
  {
   "cell_type": "markdown",
   "metadata": {},
   "source": [
    "В этом примере:\n",
    "\n",
    "`closure.__code__.co_freevars` возвращает кортеж, содержащий имя свободной переменной `x`, которая используется во вложенной функции `inner_function`."
   ]
  },
  {
   "cell_type": "markdown",
   "metadata": {},
   "source": [
    "\n",
    "\n",
    "---\n",
    "\n",
    "Оба атрибута `__closure__` и `__code__.co_freevars` работают вместе, чтобы предоставить информацию о замыканиях:\n",
    "\n",
    "`__closure__` содержит значения свободных переменных, которые были захвачены замыканием.\n",
    "`__code__.co_freevars` содержит имена этих свободных переменных.\n",
    "\n",
    "Пример с обоими атрибутами"
   ]
  },
  {
   "cell_type": "code",
   "execution_count": 6,
   "metadata": {},
   "outputs": [
    {
     "name": "stdout",
     "output_type": "stream",
     "text": [
      "(<cell at 0x7f44dc1d94b0: int object at 0x7f44e1bbbc08>,)\n",
      "('factor',)\n",
      "3\n"
     ]
    }
   ],
   "source": [
    "def make_multiplier(factor):\n",
    "    def multiplier(x):\n",
    "        return x * factor  # 'factor' — свободная переменная (множитель)\n",
    "    return multiplier\n",
    "\n",
    "closure = make_multiplier(3)\n",
    "\n",
    "# Проверяем атрибуты\n",
    "print(closure.__closure__)  # (<cell at 0x...: int object at ...>,)\n",
    "print(closure.__code__.co_freevars)  # ('factor',)\n",
    "\n",
    "# Получаем значение свободной переменной\n",
    "print(closure.__closure__[0].cell_contents)  # 3\n"
   ]
  },
  {
   "cell_type": "markdown",
   "metadata": {},
   "source": [
    "В Python класс cell представляет собой объект, который используется для хранения значений свободных переменных в замыканиях. Когда вы создаете замыкание, Python создает объекты cell для каждой свободной переменной, чтобы сохранить их значения."
   ]
  },
  {
   "cell_type": "markdown",
   "metadata": {},
   "source": [
    "Атрибуты и методы класса `cell`\n",
    "\n",
    "Объекты cell имеют следующие атрибуты и методы:\n",
    "\n",
    "1. Атрибут `cell_contents`:\n",
    "- Это атрибут, который содержит значение, хранящееся в ячейке. Вы можете получить доступ к этому значению, используя `cell.cell_contents`.\n"
   ]
  },
  {
   "cell_type": "code",
   "execution_count": 7,
   "metadata": {},
   "outputs": [
    {
     "name": "stdout",
     "output_type": "stream",
     "text": [
      "10\n"
     ]
    }
   ],
   "source": [
    "def outer_function(x):\n",
    "    def inner_function(y):\n",
    "        return x + y\n",
    "    return inner_function\n",
    "\n",
    "closure = outer_function(10)\n",
    "print(closure.__closure__[0].cell_contents)  # 10\n"
   ]
  },
  {
   "cell_type": "markdown",
   "metadata": {},
   "source": [
    "2. Методы:\n",
    "- У класса cell нет специальных методов, которые вы могли бы вызывать, как у других объектов. Он в основном используется для хранения значений и не имеет дополнительных методов, доступных для вызова."
   ]
  },
  {
   "cell_type": "code",
   "execution_count": 8,
   "metadata": {},
   "outputs": [
    {
     "name": "stdout",
     "output_type": "stream",
     "text": [
      "3\n"
     ]
    }
   ],
   "source": [
    "def make_multiplier(factor):\n",
    "    def multiplier(x):\n",
    "        return x * factor  # 'factor' — свободная переменная\n",
    "    return multiplier\n",
    "\n",
    "closure = make_multiplier(3)\n",
    "\n",
    "# Получаем доступ к ячейке, которая хранит значение 'factor'\n",
    "cell = closure.__closure__[0]\n",
    "\n",
    "# Проверяем атрибуты\n",
    "print(cell.cell_contents)  # 3\n"
   ]
  }
 ],
 "metadata": {
  "kernelspec": {
   "display_name": ".venv",
   "language": "python",
   "name": "python3"
  },
  "language_info": {
   "codemirror_mode": {
    "name": "ipython",
    "version": 3
   },
   "file_extension": ".py",
   "mimetype": "text/x-python",
   "name": "python",
   "nbconvert_exporter": "python",
   "pygments_lexer": "ipython3",
   "version": "3.12.5"
  }
 },
 "nbformat": 4,
 "nbformat_minor": 2
}
