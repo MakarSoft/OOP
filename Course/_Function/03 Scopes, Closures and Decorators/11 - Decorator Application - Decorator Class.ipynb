{
 "cells": [
  {
   "cell_type": "markdown",
   "metadata": {},
   "source": [
    "### Decorator Application (Decorator Class)"
   ]
  },
  {
   "cell_type": "markdown",
   "metadata": {},
   "source": [
    "Если вы помните, как мы писали параметризованный декоратор, нам пришлось написать фабрику декораторов, которая принимала аргументы для нашего декоратора, а затем возвращала декоратор (который мог ссылаться на аргументы как на свободные переменные).\n",
    "\n",
    "Очень просто:"
   ]
  },
  {
   "cell_type": "code",
   "execution_count": 1,
   "metadata": {
    "collapsed": true
   },
   "outputs": [],
   "source": [
    "def my_dec(a, b):\n",
    "    def dec(fn):\n",
    "        def inner(*args, **kwargs):\n",
    "            print('decorated function called: a={0}, b={1}'.format(a, b))\n",
    "            return fn(*args, **kwargs)\n",
    "        return inner\n",
    "    return dec"
   ]
  },
  {
   "cell_type": "code",
   "execution_count": 2,
   "metadata": {
    "collapsed": true
   },
   "outputs": [],
   "source": [
    "@my_dec(10, 20)\n",
    "def my_func(s):\n",
    "    print('hello {0}'.format(s))"
   ]
  },
  {
   "cell_type": "code",
   "execution_count": 3,
   "metadata": {},
   "outputs": [
    {
     "name": "stdout",
     "output_type": "stream",
     "text": [
      "decorated function called: a=10, b=20\n",
      "hello world\n"
     ]
    }
   ],
   "source": [
    "my_func('world')"
   ]
  },
  {
   "cell_type": "markdown",
   "metadata": {},
   "source": [
    "Итак, нашей фабрике декораторов были переданы некоторые аргументы, и она вернула вызываемый объект, который принимал один единственный параметр — декорируемую функцию, но также имел доступ к аргументам, переданным фабрике."
   ]
  },
  {
   "cell_type": "markdown",
   "metadata": {},
   "source": [
    "Теперь вспомним, что мы можем сделать наши экземпляры класса вызываемыми, просто реализовав метод `__call__`.\n",
    "\n",
    "Вот простой пример:"
   ]
  },
  {
   "cell_type": "code",
   "execution_count": 4,
   "metadata": {
    "collapsed": true
   },
   "outputs": [],
   "source": [
    "class MyClass:\n",
    "    def __init__(self, a, b):\n",
    "        self.a = a\n",
    "        self.b = b\n",
    "\n",
    "    def __call__(self):\n",
    "        print('MyClass instance called: a={0}, b={1}'.format(self.a, self.b))"
   ]
  },
  {
   "cell_type": "code",
   "execution_count": 5,
   "metadata": {
    "collapsed": true
   },
   "outputs": [],
   "source": [
    "my_class = MyClass(10, 20)"
   ]
  },
  {
   "cell_type": "code",
   "execution_count": 6,
   "metadata": {},
   "outputs": [
    {
     "name": "stdout",
     "output_type": "stream",
     "text": [
      "MyClass instance called: a=10, b=20\n"
     ]
    }
   ],
   "source": [
    "my_class()"
   ]
  },
  {
   "cell_type": "markdown",
   "metadata": {},
   "source": [
    "Давайте немного изменим это и сделаем метод `__call__` нашим декоратором!"
   ]
  },
  {
   "cell_type": "code",
   "execution_count": 7,
   "metadata": {
    "collapsed": true
   },
   "outputs": [],
   "source": [
    "class MyClass:\n",
    "    def __init__(self, a, b):\n",
    "        self.a = a\n",
    "        self.b = b\n",
    "\n",
    "    def __call__(self, fn):\n",
    "        def inner(*args, **kwargs):\n",
    "            print('MyClass instance called: a={0}, b={1}'.format(self.a, self.b))\n",
    "            return fn(*args, **kwargs)\n",
    "        return inner"
   ]
  },
  {
   "cell_type": "markdown",
   "metadata": {},
   "source": [
    "Итак, мы можем декорировать наши функции следующим образом:"
   ]
  },
  {
   "cell_type": "code",
   "execution_count": 8,
   "metadata": {
    "collapsed": true
   },
   "outputs": [],
   "source": [
    "@MyClass(10, 20)\n",
    "def my_func(s):\n",
    "    print('Hello {0}!'.format(s))"
   ]
  },
  {
   "cell_type": "markdown",
   "metadata": {},
   "source": [
    "Помните, что `@MyClass(10, 20)` возвращает объект типа `MyClass`. Но этот объект сам по себе является вызываемым, поэтому мы могли бы сделать что-то вроде:\n",
    "\n",
    "``\n",
    "my_func = MyClass(10, 20)(my_func)\n",
    "``\n",
    "\n",
    "или, проще говоря\n",
    "\n",
    "``\n",
    "@MyClass(10, 20)\n",
    "def my_func(s):\n",
    "print(s)\n",
    "``"
   ]
  },
  {
   "cell_type": "code",
   "execution_count": 9,
   "metadata": {},
   "outputs": [
    {
     "name": "stdout",
     "output_type": "stream",
     "text": [
      "MyClass instance called: a=10, b=20\n",
      "Hello Python!\n"
     ]
    }
   ],
   "source": [
    "my_func('Python')"
   ]
  },
  {
   "cell_type": "markdown",
   "metadata": {},
   "source": [
    "Как видите, мы также можем использовать вызываемые классы для декорирования функций!"
   ]
  },
  {
   "cell_type": "markdown",
   "metadata": {},
   "source": [
    "---"
   ]
  }
 ],
 "metadata": {
  "kernelspec": {
   "display_name": "Python 3",
   "language": "python",
   "name": "python3"
  },
  "language_info": {
   "codemirror_mode": {
    "name": "ipython",
    "version": 3
   },
   "file_extension": ".py",
   "mimetype": "text/x-python",
   "name": "python",
   "nbconvert_exporter": "python",
   "pygments_lexer": "ipython3",
   "version": "3.6.2"
  }
 },
 "nbformat": 4,
 "nbformat_minor": 2
}
