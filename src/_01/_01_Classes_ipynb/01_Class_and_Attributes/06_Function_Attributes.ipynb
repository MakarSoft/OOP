{
 "cells": [
  {
   "cell_type": "markdown",
   "metadata": {},
   "source": [
    "# Function Attributes"
   ]
  },
  {
   "cell_type": "markdown",
   "metadata": {},
   "source": [
    "До сих пор мы имели дело с невызываемыми атрибутами. Когда атрибуты на самом деле являются функциями - они ведет себя по-другому."
   ]
  },
  {
   "cell_type": "code",
   "execution_count": 1,
   "metadata": {},
   "outputs": [],
   "source": [
    "class Person:\n",
    "    def say_hello():\n",
    "        print('Hello!')"
   ]
  },
  {
   "cell_type": "code",
   "execution_count": 2,
   "metadata": {},
   "outputs": [
    {
     "data": {
      "text/plain": [
       "<function __main__.Person.say_hello()>"
      ]
     },
     "execution_count": 2,
     "metadata": {},
     "output_type": "execute_result"
    }
   ],
   "source": [
    "Person.say_hello"
   ]
  },
  {
   "cell_type": "code",
   "execution_count": 3,
   "metadata": {},
   "outputs": [
    {
     "data": {
      "text/plain": [
       "function"
      ]
     },
     "execution_count": 3,
     "metadata": {},
     "output_type": "execute_result"
    }
   ],
   "source": [
    "type(Person.say_hello)"
   ]
  },
  {
   "cell_type": "markdown",
   "metadata": {},
   "source": [
    "Как мы видим, это просто простая функция, которая вызывается как обычно:"
   ]
  },
  {
   "cell_type": "code",
   "execution_count": 4,
   "metadata": {},
   "outputs": [
    {
     "name": "stdout",
     "output_type": "stream",
     "text": [
      "Hello!\n"
     ]
    }
   ],
   "source": [
    "Person.say_hello()"
   ]
  },
  {
   "cell_type": "markdown",
   "metadata": {},
   "source": [
    "Теперь давайте создадим экземпляр класса `Person` и посмотрим на атрибут `say_hello` с точки зрения этого экземпляра."
   ]
  },
  {
   "cell_type": "code",
   "execution_count": 5,
   "metadata": {},
   "outputs": [],
   "source": [
    "p = Person()"
   ]
  },
  {
   "cell_type": "code",
   "execution_count": 6,
   "metadata": {},
   "outputs": [
    {
     "data": {
      "text/plain": [
       "'0x7f88a06937b8'"
      ]
     },
     "execution_count": 6,
     "metadata": {},
     "output_type": "execute_result"
    }
   ],
   "source": [
    "hex(id(p))"
   ]
  },
  {
   "cell_type": "markdown",
   "metadata": {},
   "source": [
    "Мы знаем, что можем **получить доступ к атрибутам класса через экземпляр**, поэтому мы также должны иметь возможность получить доступ к атрибуту функции таким же образом:"
   ]
  },
  {
   "cell_type": "code",
   "execution_count": 7,
   "metadata": {},
   "outputs": [
    {
     "data": {
      "text/plain": [
       "<bound method Person.say_hello of <__main__.Person object at 0x7f88a06937b8>>"
      ]
     },
     "execution_count": 7,
     "metadata": {},
     "output_type": "execute_result"
    }
   ],
   "source": [
    "p.say_hello"
   ]
  },
  {
   "cell_type": "code",
   "execution_count": 8,
   "metadata": {},
   "outputs": [
    {
     "data": {
      "text/plain": [
       "method"
      ]
     },
     "execution_count": 8,
     "metadata": {},
     "output_type": "execute_result"
    }
   ],
   "source": [
    "type(p.say_hello)"
   ]
  },
  {
   "cell_type": "markdown",
   "metadata": {},
   "source": [
    "Хм, тип изменился с `function` на `method`, а представление функции гласит, что это **связанный метод** **конкретного объекта** `p`, который мы создали (обратите внимание на адрес памяти)."
   ]
  },
  {
   "cell_type": "markdown",
   "metadata": {},
   "source": [
    "А если мы попытаемся вызвать функцию из экземпляра, вот что произойдет:"
   ]
  },
  {
   "cell_type": "code",
   "execution_count": 9,
   "metadata": {},
   "outputs": [
    {
     "name": "stdout",
     "output_type": "stream",
     "text": [
      "TypeError say_hello() takes 0 positional arguments but 1 was given\n"
     ]
    }
   ],
   "source": [
    "try:\n",
    "    p.say_hello()\n",
    "except Exception as ex:\n",
    "    print(type(ex).__name__, ex)"
   ]
  },
  {
   "cell_type": "markdown",
   "metadata": {},
   "source": [
    "`method` является фактическим типом в Python. Как и в случаи функции, экземпляр этого класса являются вызываемым, но у него есть одна отличительная черта. Его необходимо привязать к объекту, и эта ссылка на этот объект передается базовой функции в качестве первого позиционного аргумента.\n",
    "\n",
    "Часто, когда мы определяем функции в классе и вызываем их из экземпляра, нам нужно знать, какой **конкретный** экземпляр использовался для вызова функции. Это позволяет нам взаимодействовать с переменными экземпляра.\n",
    "\n",
    "Для этого Python автоматически преобразует обычную функцию, определенную в классе, в метод, когда она вызывается из экземпляра класса.\n",
    "\n",
    "Кроме того, он «привязывает» метод к экземпляру, то есть экземпляр будет передан как **первый** аргумент вызываемой функции.\n",
    "\n",
    "Он делает это с помощью **дескрипторов**, к которым мы вернемся подробно позже.\n",
    "\n",
    "А пока давайте просто рассмотрим это немного подробнее:"
   ]
  },
  {
   "cell_type": "code",
   "execution_count": 19,
   "metadata": {},
   "outputs": [],
   "source": [
    "class Person:\n",
    "    def say_hello(*args):\n",
    "        print('say_hello args:', args)"
   ]
  },
  {
   "cell_type": "code",
   "execution_count": 2,
   "metadata": {},
   "outputs": [
    {
     "name": "stdout",
     "output_type": "stream",
     "text": [
      "say_hello args: ()\n"
     ]
    }
   ],
   "source": [
    "Person.say_hello()"
   ]
  },
  {
   "cell_type": "markdown",
   "metadata": {},
   "source": [
    "Как мы видим, вызов `say_hello` из **класса** просто вызывает функцию (это просто функция).\n",
    "\n",
    "Но когда мы вызываем ее из экземпляра:"
   ]
  },
  {
   "cell_type": "code",
   "execution_count": 3,
   "metadata": {},
   "outputs": [
    {
     "data": {
      "text/plain": [
       "'0x7f24d50f5610'"
      ]
     },
     "execution_count": 3,
     "metadata": {},
     "output_type": "execute_result"
    }
   ],
   "source": [
    "p = Person()    # создим экземпляр класса\n",
    "hex(id(p))      # м посмотрим его идентификатор"
   ]
  },
  {
   "cell_type": "code",
   "execution_count": 8,
   "metadata": {},
   "outputs": [
    {
     "name": "stdout",
     "output_type": "stream",
     "text": [
      "say_hello args: (<__main__.Person object at 0x7f24d50f5610>,)\n"
     ]
    }
   ],
   "source": [
    "p.say_hello()   # обратимся к атрибут-функции класса через созданный экземпляр"
   ]
  },
  {
   "cell_type": "markdown",
   "metadata": {},
   "source": [
    "Вы можете видеть, что объект `p` был передан как аргумент функции класса `say_hello`.\n"
   ]
  },
  {
   "cell_type": "code",
   "execution_count": 21,
   "metadata": {},
   "outputs": [
    {
     "data": {
      "text/plain": [
       "mappingproxy({'__module__': '__main__',\n",
       "              'say_hello': <function __main__.Person.say_hello(*args)>,\n",
       "              '__dict__': <attribute '__dict__' of 'Person' objects>,\n",
       "              '__weakref__': <attribute '__weakref__' of 'Person' objects>,\n",
       "              '__doc__': None})"
      ]
     },
     "execution_count": 21,
     "metadata": {},
     "output_type": "execute_result"
    }
   ],
   "source": [
    "Person.__dict__"
   ]
  },
  {
   "cell_type": "code",
   "execution_count": 22,
   "metadata": {},
   "outputs": [
    {
     "data": {
      "text/plain": [
       "<bound method Person.say_hello of <__main__.Person object at 0x7f24cc43eff0>>"
      ]
     },
     "execution_count": 22,
     "metadata": {},
     "output_type": "execute_result"
    }
   ],
   "source": [
    "p.say_hello"
   ]
  },
  {
   "cell_type": "markdown",
   "metadata": {},
   "source": [
    "---"
   ]
  },
  {
   "cell_type": "markdown",
   "metadata": {},
   "source": [
    "\n",
    "Очевидным преимуществом преобразования функции класса в метод экземпляра класса и соответственно передачи ссылки на экземпляр в качестве первого аргумента при обращенн к методу, является то, что теперь мы можем легко взаимодействовать с атрибутами экземпляра:"
   ]
  },
  {
   "cell_type": "markdown",
   "metadata": {},
   "source": [
    "В примере ниже - мы используем метод для инициализации атрибута экземпляра (установки значения)"
   ]
  },
  {
   "cell_type": "code",
   "execution_count": 14,
   "metadata": {},
   "outputs": [],
   "source": [
    "class Person:\n",
    "    def set_name(instance_obj, new_name):\n",
    "        instance_obj.name = new_name  # or setattr(instance_obj, 'name', new_name)\n"
   ]
  },
  {
   "cell_type": "code",
   "execution_count": 15,
   "metadata": {},
   "outputs": [],
   "source": [
    "p = Person()"
   ]
  },
  {
   "cell_type": "code",
   "execution_count": 16,
   "metadata": {},
   "outputs": [],
   "source": [
    "p.set_name('Alex')"
   ]
  },
  {
   "cell_type": "code",
   "execution_count": 17,
   "metadata": {},
   "outputs": [
    {
     "data": {
      "text/plain": [
       "{'name': 'Alex'}"
      ]
     },
     "execution_count": 17,
     "metadata": {},
     "output_type": "execute_result"
    }
   ],
   "source": [
    "\n",
    "p.__dict__"
   ]
  },
  {
   "cell_type": "markdown",
   "metadata": {},
   "source": [
    "По сути, это имеет тот же эффект, что и следующее:"
   ]
  },
  {
   "cell_type": "code",
   "execution_count": 18,
   "metadata": {},
   "outputs": [],
   "source": [
    "Person.set_name(p, 'John')"
   ]
  },
  {
   "cell_type": "code",
   "execution_count": 19,
   "metadata": {},
   "outputs": [
    {
     "data": {
      "text/plain": [
       "{'name': 'John'}"
      ]
     },
     "execution_count": 19,
     "metadata": {},
     "output_type": "execute_result"
    }
   ],
   "source": [
    "p.__dict__"
   ]
  },
  {
   "cell_type": "markdown",
   "metadata": {},
   "source": [
    ">По соглашению первый аргумент обычно называется `self`, но, как вы только что видели, мы можем назвать его как угодно."
   ]
  },
  {
   "cell_type": "markdown",
   "metadata": {},
   "source": [
    "---"
   ]
  },
  {
   "cell_type": "markdown",
   "metadata": {},
   "source": [
    "Короче говоря, функции, определенные в классе, преобразуются в методы при вызове из экземпляров класса. Поэтому, конечно, нам нужно учитывать этот дополнительный аргумент, который передается методу."
   ]
  },
  {
   "cell_type": "markdown",
   "metadata": {},
   "source": [
    "---"
   ]
  },
  {
   "cell_type": "markdown",
   "metadata": {},
   "source": [
    "**Метод** — это тип, экземпляр которого создаваемые Python при вызове функций класса из экземпляра этого класс.\n",
    "\n",
    "У методов есть свои собственные уникальные атрибуты:"
   ]
  },
  {
   "cell_type": "code",
   "execution_count": 11,
   "metadata": {},
   "outputs": [],
   "source": [
    "class Person:\n",
    "    def say_hello(self):\n",
    "        print(f'{self} says hello')"
   ]
  },
  {
   "cell_type": "code",
   "execution_count": 12,
   "metadata": {},
   "outputs": [],
   "source": [
    "p = Person()"
   ]
  },
  {
   "cell_type": "code",
   "execution_count": 13,
   "metadata": {},
   "outputs": [
    {
     "data": {
      "text/plain": [
       "<bound method Person.say_hello of <__main__.Person object at 0x7f24cc43eff0>>"
      ]
     },
     "execution_count": 13,
     "metadata": {},
     "output_type": "execute_result"
    }
   ],
   "source": [
    "p.say_hello"
   ]
  },
  {
   "cell_type": "markdown",
   "metadata": {},
   "source": [
    "Посмотрим атрибуты метода"
   ]
  },
  {
   "cell_type": "code",
   "execution_count": 14,
   "metadata": {},
   "outputs": [],
   "source": [
    "m_hello = p.say_hello"
   ]
  },
  {
   "cell_type": "code",
   "execution_count": 15,
   "metadata": {},
   "outputs": [
    {
     "data": {
      "text/plain": [
       "method"
      ]
     },
     "execution_count": 15,
     "metadata": {},
     "output_type": "execute_result"
    }
   ],
   "source": [
    "type(m_hello)"
   ]
  },
  {
   "cell_type": "markdown",
   "metadata": {},
   "source": [
    "Например, у него есть атрибут `__func__`:"
   ]
  },
  {
   "cell_type": "code",
   "execution_count": 16,
   "metadata": {},
   "outputs": [
    {
     "data": {
      "text/plain": [
       "<function __main__.Person.say_hello(self)>"
      ]
     },
     "execution_count": 16,
     "metadata": {},
     "output_type": "execute_result"
    }
   ],
   "source": [
    "m_hello.__func__"
   ]
  },
  {
   "cell_type": "markdown",
   "metadata": {},
   "source": [
    "которая является функцией класса, используемой для создания метода (базовой функции)."
   ]
  },
  {
   "cell_type": "code",
   "execution_count": 17,
   "metadata": {},
   "outputs": [
    {
     "data": {
      "text/plain": [
       "True"
      ]
     },
     "execution_count": 17,
     "metadata": {},
     "output_type": "execute_result"
    }
   ],
   "source": [
    "m_hello.__func__ is Person.say_hello"
   ]
  },
  {
   "cell_type": "markdown",
   "metadata": {},
   "source": [
    "У функции класса и метода экземпляра отличается состав атрибутов"
   ]
  },
  {
   "cell_type": "code",
   "execution_count": 9,
   "metadata": {},
   "outputs": [
    {
     "data": {
      "text/plain": [
       "['__call__',\n",
       " '__class__',\n",
       " '__delattr__',\n",
       " '__dir__',\n",
       " '__doc__',\n",
       " '__eq__',\n",
       " '__format__',\n",
       " '__func__',\n",
       " '__ge__',\n",
       " '__getattribute__',\n",
       " '__getstate__',\n",
       " '__gt__',\n",
       " '__hash__',\n",
       " '__init__',\n",
       " '__init_subclass__',\n",
       " '__le__',\n",
       " '__lt__',\n",
       " '__ne__',\n",
       " '__new__',\n",
       " '__reduce__',\n",
       " '__reduce_ex__',\n",
       " '__repr__',\n",
       " '__self__',\n",
       " '__setattr__',\n",
       " '__sizeof__',\n",
       " '__str__',\n",
       " '__subclasshook__']"
      ]
     },
     "execution_count": 9,
     "metadata": {},
     "output_type": "execute_result"
    }
   ],
   "source": [
    "dir(p.say_hello)"
   ]
  },
  {
   "cell_type": "code",
   "execution_count": 10,
   "metadata": {},
   "outputs": [
    {
     "data": {
      "text/plain": [
       "['__annotations__',\n",
       " '__builtins__',\n",
       " '__call__',\n",
       " '__class__',\n",
       " '__closure__',\n",
       " '__code__',\n",
       " '__defaults__',\n",
       " '__delattr__',\n",
       " '__dict__',\n",
       " '__dir__',\n",
       " '__doc__',\n",
       " '__eq__',\n",
       " '__format__',\n",
       " '__ge__',\n",
       " '__get__',\n",
       " '__getattribute__',\n",
       " '__getstate__',\n",
       " '__globals__',\n",
       " '__gt__',\n",
       " '__hash__',\n",
       " '__init__',\n",
       " '__init_subclass__',\n",
       " '__kwdefaults__',\n",
       " '__le__',\n",
       " '__lt__',\n",
       " '__module__',\n",
       " '__name__',\n",
       " '__ne__',\n",
       " '__new__',\n",
       " '__qualname__',\n",
       " '__reduce__',\n",
       " '__reduce_ex__',\n",
       " '__repr__',\n",
       " '__setattr__',\n",
       " '__sizeof__',\n",
       " '__str__',\n",
       " '__subclasshook__',\n",
       " '__type_params__']"
      ]
     },
     "execution_count": 10,
     "metadata": {},
     "output_type": "execute_result"
    }
   ],
   "source": [
    "dir(Person.say_hello)"
   ]
  },
  {
   "cell_type": "markdown",
   "metadata": {},
   "source": [
    "Но помните, что метод привязан к экземпляру. В этом случае мы получили метод из объекта `p`:"
   ]
  },
  {
   "cell_type": "code",
   "execution_count": 26,
   "metadata": {},
   "outputs": [
    {
     "data": {
      "text/plain": [
       "'0x7f88d0428c18'"
      ]
     },
     "execution_count": 26,
     "metadata": {},
     "output_type": "execute_result"
    }
   ],
   "source": [
    "hex(id(p))"
   ]
  },
  {
   "cell_type": "code",
   "execution_count": 27,
   "metadata": {},
   "outputs": [
    {
     "data": {
      "text/plain": [
       "<__main__.Person at 0x7f88d0428c18>"
      ]
     },
     "execution_count": 27,
     "metadata": {},
     "output_type": "execute_result"
    }
   ],
   "source": [
    "m_hello.__self__"
   ]
  },
  {
   "cell_type": "markdown",
   "metadata": {},
   "source": [
    "Как вы можете видеть, метод также имеет ссылку на объект, к которому он **привязан**."
   ]
  },
  {
   "cell_type": "markdown",
   "metadata": {},
   "source": [
    "Поэтому думайте о методах как о функциях, которые были привязаны к определенному объекту, и этот объект передается в качестве первого аргумента вызова функции. Остальные аргументы затем передаются после этого."
   ]
  },
  {
   "cell_type": "markdown",
   "metadata": {},
   "source": [
    "Методы экземпляра создаются автоматически для нас, когда мы определяем функции внутри определений наших классов."
   ]
  },
  {
   "cell_type": "markdown",
   "metadata": {},
   "source": [
    "На этапе описания класса say_hello - это еще не метод - это функция, которая учитывает, что ее будут вызывать из экземпляра класса. Методом эта функция становится когда будет создан экземпляр класса и эта функция будет с этим экземпляром связана (т.е. получит ссылку на экземпляр класса)\n",
    "\n",
    "Пространство имен класса и пространство имен экземпляра класса полностью изолированы друг от друга. Когда мы описываем функцию в классе, мы должны учитывать, что функции не нужны сами по себе (чаще всего), а нужны для обработки тех состояний , которые сохранены в экземпляре класса. Но класс не имеет доступ к пространству имен своего экземпляра. Единственный способ получить доступ к  сохраненному состоянию - это получить ссылку на сам экземпляр. Именно поэтому Python делает неявную передачу экземпляра класса в функции класса (методы) в первом позиционном параметре `self` - чтобы получить доступ к пространству имен экземпляра класса из самих классов."
   ]
  },
  {
   "cell_type": "markdown",
   "metadata": {},
   "source": [
    "---"
   ]
  },
  {
   "cell_type": "markdown",
   "metadata": {},
   "source": [
    "Это все справедливо даже если мы применяем `Monkey paching` к нашим классам во время выполнения (Примечание ниже):"
   ]
  },
  {
   "cell_type": "code",
   "execution_count": 23,
   "metadata": {},
   "outputs": [],
   "source": [
    "class Person:\n",
    "    def say_hello(self):\n",
    "        print(f'instance method called from {self}')"
   ]
  },
  {
   "cell_type": "code",
   "execution_count": 24,
   "metadata": {},
   "outputs": [
    {
     "data": {
      "text/plain": [
       "'0x7f24cc46c5f0'"
      ]
     },
     "execution_count": 24,
     "metadata": {},
     "output_type": "execute_result"
    }
   ],
   "source": [
    "p = Person()\n",
    "hex(id(p))"
   ]
  },
  {
   "cell_type": "code",
   "execution_count": 25,
   "metadata": {},
   "outputs": [
    {
     "name": "stdout",
     "output_type": "stream",
     "text": [
      "instance method called from <__main__.Person object at 0x7f24cc46c5f0>\n"
     ]
    }
   ],
   "source": [
    "p.say_hello()"
   ]
  },
  {
   "cell_type": "code",
   "execution_count": 26,
   "metadata": {},
   "outputs": [],
   "source": [
    "Person.do_work = lambda self: f\"do_work called from {self}\""
   ]
  },
  {
   "cell_type": "code",
   "execution_count": 27,
   "metadata": {},
   "outputs": [
    {
     "data": {
      "text/plain": [
       "mappingproxy({'__module__': '__main__',\n",
       "              'say_hello': <function __main__.Person.say_hello(self)>,\n",
       "              '__dict__': <attribute '__dict__' of 'Person' objects>,\n",
       "              '__weakref__': <attribute '__weakref__' of 'Person' objects>,\n",
       "              '__doc__': None,\n",
       "              'do_work': <function __main__.<lambda>(self)>})"
      ]
     },
     "execution_count": 27,
     "metadata": {},
     "output_type": "execute_result"
    }
   ],
   "source": [
    "Person.__dict__"
   ]
  },
  {
   "cell_type": "markdown",
   "metadata": {},
   "source": [
    "Хорошо, обе функции находятся в словаре (пространстве имен) `__dict__`.\n",
    "\n",
    "давайте создадим экземпляр и посмотрим, что произойдет:"
   ]
  },
  {
   "cell_type": "code",
   "execution_count": 28,
   "metadata": {},
   "outputs": [
    {
     "data": {
      "text/plain": [
       "<bound method Person.say_hello of <__main__.Person object at 0x7f24cc46c5f0>>"
      ]
     },
     "execution_count": 28,
     "metadata": {},
     "output_type": "execute_result"
    }
   ],
   "source": [
    "p.say_hello"
   ]
  },
  {
   "cell_type": "code",
   "execution_count": 29,
   "metadata": {},
   "outputs": [
    {
     "data": {
      "text/plain": [
       "<bound method <lambda> of <__main__.Person object at 0x7f24cc46c5f0>>"
      ]
     },
     "execution_count": 29,
     "metadata": {},
     "output_type": "execute_result"
    }
   ],
   "source": [
    "p.do_work"
   ]
  },
  {
   "cell_type": "code",
   "execution_count": 35,
   "metadata": {},
   "outputs": [
    {
     "data": {
      "text/plain": [
       "'do_work called from <__main__.Person object at 0x7f88d0435f28>'"
      ]
     },
     "execution_count": 35,
     "metadata": {},
     "output_type": "execute_result"
    }
   ],
   "source": [
    "p.do_work()"
   ]
  },
  {
   "cell_type": "markdown",
   "metadata": {},
   "source": [
    "Но будьте осторожны, если мы добавим функцию к **экземпляру** напрямую, это будет работать не так — мы создадим функцию в экземпляре, поэтому она не будет считаться методом (так как она не была определена в классе):"
   ]
  },
  {
   "cell_type": "code",
   "execution_count": 36,
   "metadata": {},
   "outputs": [],
   "source": [
    "p.other_func = lambda *args: print(f'other_func called with {args}')"
   ]
  },
  {
   "cell_type": "code",
   "execution_count": 37,
   "metadata": {},
   "outputs": [
    {
     "data": {
      "text/plain": [
       "<function __main__.<lambda>(*args)>"
      ]
     },
     "execution_count": 37,
     "metadata": {},
     "output_type": "execute_result"
    }
   ],
   "source": [
    "p.other_func"
   ]
  },
  {
   "cell_type": "code",
   "execution_count": 38,
   "metadata": {},
   "outputs": [
    {
     "data": {
      "text/plain": [
       "False"
      ]
     },
     "execution_count": 38,
     "metadata": {},
     "output_type": "execute_result"
    }
   ],
   "source": [
    "'other_func' in Person.__dict__"
   ]
  },
  {
   "cell_type": "code",
   "execution_count": 39,
   "metadata": {},
   "outputs": [
    {
     "name": "stdout",
     "output_type": "stream",
     "text": [
      "other_func called with ()\n"
     ]
    }
   ],
   "source": [
    "p.other_func()"
   ]
  },
  {
   "cell_type": "markdown",
   "metadata": {},
   "source": [
    "Как видите, `other_func` является и ведет себя как обычная функция."
   ]
  },
  {
   "cell_type": "markdown",
   "metadata": {},
   "source": [
    "Короче говоря, функции, определенные в классе, преобразуются в методы при вызове из экземпляров класса. Поэтому, конечно, мы должны учитывать этот дополнительный аргумент, который передается методу."
   ]
  },
  {
   "cell_type": "markdown",
   "metadata": {},
   "source": [
    "---\n",
    "\n",
    "## Лирическое отступление\n"
   ]
  },
  {
   "cell_type": "markdown",
   "metadata": {},
   "source": [
    "### Monkey paching"
   ]
  },
  {
   "cell_type": "markdown",
   "metadata": {},
   "source": [
    "`Monkey patching` в контексте `Python` — это техника, позволяющая изменять или расширять поведение классов или модулей во время выполнения программы.\n",
    "Это достигается путем динамического изменения атрибутов, методов или функций, что позволяет вносить изменения в уже существующий код без необходимости его модификации."
   ]
  },
  {
   "cell_type": "markdown",
   "metadata": {},
   "source": [
    "### Основные аспекты monkey patching:\n",
    "\n",
    "1. **Изменение поведения**: `Monkey patching` позволяет изменять поведение существующих функций или методов. Это может быть полезно для исправления ошибок, добавления новой функциональности или изменения логики работы.\n",
    "\n",
    "2. **Динамическое изменение**: Патчинг происходит во время выполнения программы, что позволяет вносить изменения в код, который уже был загружен в память.\n",
    "\n",
    "3. **Использование**: `Monkey patching` часто используется в тестировании, когда необходимо заменить определенные методы или функции на заглушки (mock) для изоляции тестируемого кода. Также его можно использовать для исправления ошибок в сторонних библиотеках, если нет возможности изменить исходный код."
   ]
  },
  {
   "cell_type": "markdown",
   "metadata": {},
   "source": [
    "Пример monkey patching:"
   ]
  },
  {
   "cell_type": "code",
   "execution_count": null,
   "metadata": {},
   "outputs": [],
   "source": [
    "class MyClass:\n",
    "    def greet(self):\n",
    "        return \"Hello!\"\n",
    "\n",
    "# Исходное поведение\n",
    "obj = MyClass()\n",
    "print(obj.greet())  # Вывод: Hello!\n",
    "\n",
    "# Monkey patching: изменяем метод greet\n",
    "def new_greet(self):\n",
    "    return \"Hi there!\"\n",
    "\n",
    "MyClass.greet = new_greet\n",
    "\n",
    "# Теперь поведение изменилось\n",
    "print(obj.greet())  # Вывод: Hi there!"
   ]
  },
  {
   "cell_type": "markdown",
   "metadata": {},
   "source": [
    "- **Неочевидность**: `Monkey patching` может сделать код менее понятным и предсказуемым, так как изменения происходят динамически и могут быть неочевидны для других разработчиков.\n",
    "- **Проблемы с совместимостью**: Если библиотека или класс обновляются, изменения, внесенные с помощью `monkey patching`, могут перестать работать или вызвать неожиданные ошибки.\n",
    "- **Тестирование**: Хотя `monkey patching` может быть полезен в тестах, его использование должно быть ограничено, чтобы избежать сложностей в поддержке тестов."
   ]
  },
  {
   "cell_type": "markdown",
   "metadata": {},
   "source": [
    "---\n",
    "## Пример\n"
   ]
  },
  {
   "cell_type": "code",
   "execution_count": 1,
   "metadata": {},
   "outputs": [],
   "source": [
    "import sys\n",
    "\n",
    "from typing import Callable\n",
    "from types import FunctionType, MethodType\n",
    "from pprint import pprint"
   ]
  },
  {
   "cell_type": "code",
   "execution_count": 2,
   "metadata": {},
   "outputs": [],
   "source": [
    "class Person:\n",
    "    '''Супер-класс'''\n",
    "\n",
    "    def say_hello() -> None:\n",
    "        print('Hello')\n"
   ]
  },
  {
   "cell_type": "code",
   "execution_count": 3,
   "metadata": {},
   "outputs": [],
   "source": [
    "\n",
    "\n",
    "def func() -> None:\n",
    "    '''\n",
    "    Пример фунции, определенной\n",
    "    в глобальном пространстве имён\n",
    "    '''\n",
    "\n",
    "    print(\"Global Func\")"
   ]
  },
  {
   "cell_type": "code",
   "execution_count": 5,
   "metadata": {},
   "outputs": [
    {
     "name": "stdout",
     "output_type": "stream",
     "text": [
      "{'Callable': typing.Callable,\n",
      " 'FunctionType': <class 'function'>,\n",
      " 'In': ['',\n",
      "        'import sys\\n'\n",
      "        '\\n'\n",
      "        'from typing import Callable\\n'\n",
      "        'from types import FunctionType, MethodType\\n'\n",
      "        'from pprint import pprint',\n",
      "        'class Person:\\n'\n",
      "        \"    '''Супер-класс'''\\n\"\n",
      "        '\\n'\n",
      "        '    def say_hello() -> None:\\n'\n",
      "        \"        print('Hello')\",\n",
      "        'def func() -> None:\\n'\n",
      "        \"    '''\\n\"\n",
      "        '    Пример фунции, определенной\\n'\n",
      "        '    в глобальном пространстве имён\\n'\n",
      "        \"    '''\\n\"\n",
      "        '\\n'\n",
      "        '    print(\"Global Func\")',\n",
      "        '# Что находится в пространстве имен модуля\\n'\n",
      "        'current_module = sys.modules[__name__]\\n'\n",
      "        '\\n'\n",
      "        'pprint({\\n'\n",
      "        '    name: value\\n'\n",
      "        '    for name, value\\n'\n",
      "        '    in current_module.__dict__.items()\\n'\n",
      "        \"    if name != '__builtins__'\\n\"\n",
      "        '})',\n",
      "        '# Что находится в пространстве имен модуля\\n'\n",
      "        'current_module = sys.modules[__name__]\\n'\n",
      "        '\\n'\n",
      "        'pprint({\\n'\n",
      "        '    name: value\\n'\n",
      "        '    for name, value\\n'\n",
      "        '    in current_module.__dict__.items()\\n'\n",
      "        \"    if name != '__builtins__'\\n\"\n",
      "        '})'],\n",
      " 'MethodType': <class 'method'>,\n",
      " 'Out': {},\n",
      " 'Person': <class '__main__.Person'>,\n",
      " '_': '',\n",
      " '__': '',\n",
      " '___': '',\n",
      " '__builtin__': <module 'builtins' (built-in)>,\n",
      " '__doc__': 'Automatically created module for IPython interactive environment',\n",
      " '__loader__': None,\n",
      " '__name__': '__main__',\n",
      " '__package__': None,\n",
      " '__spec__': None,\n",
      " '__vsc_ipynb_file__': '/home/amk/__2025__/__OOP__/src/_01/_01_Classes_ipynb/06_Function_Attributes.ipynb',\n",
      " '_dh': [PosixPath('/home/amk/__2025__/__OOP__/src/_01/_01_Classes_ipynb')],\n",
      " '_i': '# Что находится в пространстве имен модуля\\n'\n",
      "       'current_module = sys.modules[__name__]\\n'\n",
      "       '\\n'\n",
      "       'pprint({\\n'\n",
      "       '    name: value\\n'\n",
      "       '    for name, value\\n'\n",
      "       '    in current_module.__dict__.items()\\n'\n",
      "       \"    if name != '__builtins__'\\n\"\n",
      "       '})',\n",
      " '_i1': 'import sys\\n'\n",
      "        '\\n'\n",
      "        'from typing import Callable\\n'\n",
      "        'from types import FunctionType, MethodType\\n'\n",
      "        'from pprint import pprint',\n",
      " '_i2': 'class Person:\\n'\n",
      "        \"    '''Супер-класс'''\\n\"\n",
      "        '\\n'\n",
      "        '    def say_hello() -> None:\\n'\n",
      "        \"        print('Hello')\",\n",
      " '_i3': '\\n'\n",
      "        '\\n'\n",
      "        'def func() -> None:\\n'\n",
      "        \"    '''\\n\"\n",
      "        '    Пример фунции, определенной\\n'\n",
      "        '    в глобальном пространстве имён\\n'\n",
      "        \"    '''\\n\"\n",
      "        '\\n'\n",
      "        '    print(\"Global Func\")',\n",
      " '_i4': '# Что находится в пространстве имен модуля\\n'\n",
      "        'current_module = sys.modules[__name__]\\n'\n",
      "        '\\n'\n",
      "        'pprint({\\n'\n",
      "        '    name: value\\n'\n",
      "        '    for name, value\\n'\n",
      "        '    in current_module.__dict__.items()\\n'\n",
      "        \"    if name != '__builtins__'\\n\"\n",
      "        '})',\n",
      " '_i5': '# Что находится в пространстве имен модуля\\n'\n",
      "        'current_module = sys.modules[__name__]\\n'\n",
      "        '\\n'\n",
      "        'pprint({\\n'\n",
      "        '    name: value\\n'\n",
      "        '    for name, value\\n'\n",
      "        '    in current_module.__dict__.items()\\n'\n",
      "        \"    if name != '__builtins__'\\n\"\n",
      "        '})',\n",
      " '_ih': ['',\n",
      "         'import sys\\n'\n",
      "         '\\n'\n",
      "         'from typing import Callable\\n'\n",
      "         'from types import FunctionType, MethodType\\n'\n",
      "         'from pprint import pprint',\n",
      "         'class Person:\\n'\n",
      "         \"    '''Супер-класс'''\\n\"\n",
      "         '\\n'\n",
      "         '    def say_hello() -> None:\\n'\n",
      "         \"        print('Hello')\",\n",
      "         'def func() -> None:\\n'\n",
      "         \"    '''\\n\"\n",
      "         '    Пример фунции, определенной\\n'\n",
      "         '    в глобальном пространстве имён\\n'\n",
      "         \"    '''\\n\"\n",
      "         '\\n'\n",
      "         '    print(\"Global Func\")',\n",
      "         '# Что находится в пространстве имен модуля\\n'\n",
      "         'current_module = sys.modules[__name__]\\n'\n",
      "         '\\n'\n",
      "         'pprint({\\n'\n",
      "         '    name: value\\n'\n",
      "         '    for name, value\\n'\n",
      "         '    in current_module.__dict__.items()\\n'\n",
      "         \"    if name != '__builtins__'\\n\"\n",
      "         '})',\n",
      "         '# Что находится в пространстве имен модуля\\n'\n",
      "         'current_module = sys.modules[__name__]\\n'\n",
      "         '\\n'\n",
      "         'pprint({\\n'\n",
      "         '    name: value\\n'\n",
      "         '    for name, value\\n'\n",
      "         '    in current_module.__dict__.items()\\n'\n",
      "         \"    if name != '__builtins__'\\n\"\n",
      "         '})'],\n",
      " '_ii': '\\n'\n",
      "        '\\n'\n",
      "        'def func() -> None:\\n'\n",
      "        \"    '''\\n\"\n",
      "        '    Пример фунции, определенной\\n'\n",
      "        '    в глобальном пространстве имён\\n'\n",
      "        \"    '''\\n\"\n",
      "        '\\n'\n",
      "        '    print(\"Global Func\")',\n",
      " '_iii': 'class Person:\\n'\n",
      "         \"    '''Супер-класс'''\\n\"\n",
      "         '\\n'\n",
      "         '    def say_hello() -> None:\\n'\n",
      "         \"        print('Hello')\",\n",
      " '_oh': {},\n",
      " 'current_module': <module '__main__'>,\n",
      " 'exit': <IPython.core.autocall.ZMQExitAutocall object at 0x7f36985b0e30>,\n",
      " 'func': <function func at 0x7f36985bafc0>,\n",
      " 'get_ipython': <bound method InteractiveShell.get_ipython of <ipykernel.zmqshell.ZMQInteractiveShell object at 0x7f36a13717c0>>,\n",
      " 'open': <function open at 0x7f36a20094e0>,\n",
      " 'pprint': <function pprint at 0x7f36a2a33880>,\n",
      " 'quit': <IPython.core.autocall.ZMQExitAutocall object at 0x7f36985b0e30>,\n",
      " 'sys': <module 'sys' (built-in)>}\n"
     ]
    }
   ],
   "source": [
    "# Что находится в пространстве имен модуля\n",
    "current_module = sys.modules[__name__]\n",
    "\n",
    "pprint({\n",
    "    name: value\n",
    "    for name, value\n",
    "    in current_module.__dict__.items()\n",
    "    if name != '__builtins__'\n",
    "})"
   ]
  },
  {
   "cell_type": "code",
   "execution_count": 6,
   "metadata": {},
   "outputs": [
    {
     "name": "stdout",
     "output_type": "stream",
     "text": [
      "{'Callable': typing.Callable,\n",
      " 'FunctionType': <class 'function'>,\n",
      " 'MethodType': <class 'method'>,\n",
      " 'Person': <class '__main__.Person'>,\n",
      " 'exit': <IPython.core.autocall.ZMQExitAutocall object at 0x7f36985b0e30>,\n",
      " 'func': <function func at 0x7f36985bafc0>,\n",
      " 'get_ipython': <bound method InteractiveShell.get_ipython of <ipykernel.zmqshell.ZMQInteractiveShell object at 0x7f36a13717c0>>,\n",
      " 'open': <function open at 0x7f36a20094e0>,\n",
      " 'pprint': <function pprint at 0x7f36a2a33880>,\n",
      " 'quit': <IPython.core.autocall.ZMQExitAutocall object at 0x7f36985b0e30>}\n"
     ]
    }
   ],
   "source": [
    "# Получить коллекцию callable-объектов, определенных\n",
    "# в глобальном пространстве имен\n",
    "# ... множество разнообразных объектов и типов\n",
    "pprint({\n",
    "\tname: value\n",
    "\tfor name, value\n",
    "\tin current_module.__dict__.items()\n",
    "\tif callable(value)\n",
    "})"
   ]
  },
  {
   "cell_type": "code",
   "execution_count": 7,
   "metadata": {},
   "outputs": [
    {
     "name": "stdout",
     "output_type": "stream",
     "text": [
      "{'func': <function func at 0x7f36985bafc0>,\n",
      " 'open': <function open at 0x7f36a20094e0>,\n",
      " 'pprint': <function pprint at 0x7f36a2a33880>}\n"
     ]
    }
   ],
   "source": [
    "# Получить коллекцию \"чистых\" ф-ций, определенных\n",
    "# в глобальном пространстве имен\n",
    "pprint({\n",
    "    name: value\n",
    "    for name, value\n",
    "    in current_module.__dict__.items()\n",
    "    if isinstance(value, FunctionType)\n",
    "})"
   ]
  },
  {
   "cell_type": "code",
   "execution_count": 8,
   "metadata": {},
   "outputs": [
    {
     "name": "stdout",
     "output_type": "stream",
     "text": [
      "<function func at 0x7f36985bafc0>\n"
     ]
    }
   ],
   "source": [
    "# Протестируем функцию func определенную в пространстве имен модуля\n",
    "# (глобальное пространство имен)\n",
    "# Смоделируем такую же строку ...\n",
    "print(\n",
    "    f\"<{type(func).__name__} \"\n",
    "    f\"{func.__name__} \"\n",
    "    f\"at {hex(id(func))}>\"\n",
    ")"
   ]
  },
  {
   "cell_type": "code",
   "execution_count": null,
   "metadata": {},
   "outputs": [],
   "source": [
    "# Вызов функции, объявленной в пространстве имён класс Person\n",
    "Person.say_hello()"
   ]
  },
  {
   "cell_type": "code",
   "execution_count": 9,
   "metadata": {},
   "outputs": [
    {
     "name": "stdout",
     "output_type": "stream",
     "text": [
      "{'In': ['',\n",
      "        'import sys\\n'\n",
      "        '\\n'\n",
      "        'from typing import Callable\\n'\n",
      "        'from types import FunctionType, MethodType\\n'\n",
      "        'from pprint import pprint',\n",
      "        'class Person:\\n'\n",
      "        \"    '''Супер-класс'''\\n\"\n",
      "        '\\n'\n",
      "        '    def say_hello() -> None:\\n'\n",
      "        \"        print('Hello')\",\n",
      "        'def func() -> None:\\n'\n",
      "        \"    '''\\n\"\n",
      "        '    Пример фунции, определенной\\n'\n",
      "        '    в глобальном пространстве имён\\n'\n",
      "        \"    '''\\n\"\n",
      "        '\\n'\n",
      "        '    print(\"Global Func\")',\n",
      "        '# Что находится в пространстве имен модуля\\n'\n",
      "        'current_module = sys.modules[__name__]\\n'\n",
      "        '\\n'\n",
      "        'pprint({\\n'\n",
      "        '    name: value\\n'\n",
      "        '    for name, value\\n'\n",
      "        '    in current_module.__dict__.items()\\n'\n",
      "        \"    if name != '__builtins__'\\n\"\n",
      "        '})',\n",
      "        '# Что находится в пространстве имен модуля\\n'\n",
      "        'current_module = sys.modules[__name__]\\n'\n",
      "        '\\n'\n",
      "        'pprint({\\n'\n",
      "        '    name: value\\n'\n",
      "        '    for name, value\\n'\n",
      "        '    in current_module.__dict__.items()\\n'\n",
      "        \"    if name != '__builtins__'\\n\"\n",
      "        '})',\n",
      "        '# Получить коллекцию callable-объектов, определенных\\n'\n",
      "        '# в глобальном пространстве имен\\n'\n",
      "        '# ... множество разнообразных объектов и типов\\n'\n",
      "        'pprint({\\n'\n",
      "        '\\tname: value\\n'\n",
      "        '\\tfor name, value\\n'\n",
      "        '\\tin current_module.__dict__.items()\\n'\n",
      "        '\\tif callable(value)\\n'\n",
      "        '})',\n",
      "        '# Получить коллекцию \"чистых\" ф-ций, определенных\\n'\n",
      "        '# в глобальном пространстве имен\\n'\n",
      "        'pprint({\\n'\n",
      "        '\\tname: value\\n'\n",
      "        '\\tfor name, value\\n'\n",
      "        '\\tin current_module.__dict__.items()\\n'\n",
      "        '\\tif isinstance(value, FunctionType)\\n'\n",
      "        '})',\n",
      "        '# Протестируем функцию func определенную в пространстве имен модуля\\n'\n",
      "        '# (глобальное пространство имен)\\n'\n",
      "        '# Смоделируем такую же строку ...\\n'\n",
      "        'print(\\n'\n",
      "        '    f\"<{type(func).__name__} \"\\n'\n",
      "        '    f\"{func.__name__} \"\\n'\n",
      "        '    f\"at {hex(id(func))}>\"\\n'\n",
      "        ')',\n",
      "        '# Связывание объекта-функции определенной в пространстве имен класса\\n'\n",
      "        '# с глобальной переменной\\n'\n",
      "        'f = Person.say_hello\\n'\n",
      "        'pprint({\\n'\n",
      "        '\\tname: value\\n'\n",
      "        '\\tfor name, value\\n'\n",
      "        '\\tin globals().items()\\n'\n",
      "        '\\tif not callable(value) and not name.startswith(\"__\")\\n'\n",
      "        '})'],\n",
      " 'Out': {},\n",
      " '_': '',\n",
      " '_dh': [PosixPath('/home/amk/__2025__/__OOP__/src/_01/_01_Classes_ipynb')],\n",
      " '_i': '# Протестируем функцию func определенную в пространстве имен модуля\\n'\n",
      "       '# (глобальное пространство имен)\\n'\n",
      "       '# Смоделируем такую же строку ...\\n'\n",
      "       'print(\\n'\n",
      "       '    f\"<{type(func).__name__} \"\\n'\n",
      "       '    f\"{func.__name__} \"\\n'\n",
      "       '    f\"at {hex(id(func))}>\"\\n'\n",
      "       ')',\n",
      " '_i1': 'import sys\\n'\n",
      "        '\\n'\n",
      "        'from typing import Callable\\n'\n",
      "        'from types import FunctionType, MethodType\\n'\n",
      "        'from pprint import pprint',\n",
      " '_i2': 'class Person:\\n'\n",
      "        \"    '''Супер-класс'''\\n\"\n",
      "        '\\n'\n",
      "        '    def say_hello() -> None:\\n'\n",
      "        \"        print('Hello')\",\n",
      " '_i3': '\\n'\n",
      "        '\\n'\n",
      "        'def func() -> None:\\n'\n",
      "        \"    '''\\n\"\n",
      "        '    Пример фунции, определенной\\n'\n",
      "        '    в глобальном пространстве имён\\n'\n",
      "        \"    '''\\n\"\n",
      "        '\\n'\n",
      "        '    print(\"Global Func\")',\n",
      " '_i4': '# Что находится в пространстве имен модуля\\n'\n",
      "        'current_module = sys.modules[__name__]\\n'\n",
      "        '\\n'\n",
      "        'pprint({\\n'\n",
      "        '    name: value\\n'\n",
      "        '    for name, value\\n'\n",
      "        '    in current_module.__dict__.items()\\n'\n",
      "        \"    if name != '__builtins__'\\n\"\n",
      "        '})',\n",
      " '_i5': '# Что находится в пространстве имен модуля\\n'\n",
      "        'current_module = sys.modules[__name__]\\n'\n",
      "        '\\n'\n",
      "        'pprint({\\n'\n",
      "        '    name: value\\n'\n",
      "        '    for name, value\\n'\n",
      "        '    in current_module.__dict__.items()\\n'\n",
      "        \"    if name != '__builtins__'\\n\"\n",
      "        '})',\n",
      " '_i6': '# Получить коллекцию callable-объектов, определенных\\n'\n",
      "        '# в глобальном пространстве имен\\n'\n",
      "        '# ... множество разнообразных объектов и типов\\n'\n",
      "        'pprint({\\n'\n",
      "        '\\tname: value\\n'\n",
      "        '\\tfor name, value\\n'\n",
      "        '\\tin current_module.__dict__.items()\\n'\n",
      "        '\\tif callable(value)\\n'\n",
      "        '})',\n",
      " '_i7': '# Получить коллекцию \"чистых\" ф-ций, определенных\\n'\n",
      "        '# в глобальном пространстве имен\\n'\n",
      "        'pprint({\\n'\n",
      "        '\\tname: value\\n'\n",
      "        '\\tfor name, value\\n'\n",
      "        '\\tin current_module.__dict__.items()\\n'\n",
      "        '\\tif isinstance(value, FunctionType)\\n'\n",
      "        '})',\n",
      " '_i8': '# Протестируем функцию func определенную в пространстве имен модуля\\n'\n",
      "        '# (глобальное пространство имен)\\n'\n",
      "        '# Смоделируем такую же строку ...\\n'\n",
      "        'print(\\n'\n",
      "        '    f\"<{type(func).__name__} \"\\n'\n",
      "        '    f\"{func.__name__} \"\\n'\n",
      "        '    f\"at {hex(id(func))}>\"\\n'\n",
      "        ')',\n",
      " '_i9': '# Связывание объекта-функции определенной в пространстве имен класса\\n'\n",
      "        '# с глобальной переменной\\n'\n",
      "        'f = Person.say_hello\\n'\n",
      "        'pprint({\\n'\n",
      "        '\\tname: value\\n'\n",
      "        '\\tfor name, value\\n'\n",
      "        '\\tin globals().items()\\n'\n",
      "        '\\tif not callable(value) and not name.startswith(\"__\")\\n'\n",
      "        '})',\n",
      " '_ih': ['',\n",
      "         'import sys\\n'\n",
      "         '\\n'\n",
      "         'from typing import Callable\\n'\n",
      "         'from types import FunctionType, MethodType\\n'\n",
      "         'from pprint import pprint',\n",
      "         'class Person:\\n'\n",
      "         \"    '''Супер-класс'''\\n\"\n",
      "         '\\n'\n",
      "         '    def say_hello() -> None:\\n'\n",
      "         \"        print('Hello')\",\n",
      "         'def func() -> None:\\n'\n",
      "         \"    '''\\n\"\n",
      "         '    Пример фунции, определенной\\n'\n",
      "         '    в глобальном пространстве имён\\n'\n",
      "         \"    '''\\n\"\n",
      "         '\\n'\n",
      "         '    print(\"Global Func\")',\n",
      "         '# Что находится в пространстве имен модуля\\n'\n",
      "         'current_module = sys.modules[__name__]\\n'\n",
      "         '\\n'\n",
      "         'pprint({\\n'\n",
      "         '    name: value\\n'\n",
      "         '    for name, value\\n'\n",
      "         '    in current_module.__dict__.items()\\n'\n",
      "         \"    if name != '__builtins__'\\n\"\n",
      "         '})',\n",
      "         '# Что находится в пространстве имен модуля\\n'\n",
      "         'current_module = sys.modules[__name__]\\n'\n",
      "         '\\n'\n",
      "         'pprint({\\n'\n",
      "         '    name: value\\n'\n",
      "         '    for name, value\\n'\n",
      "         '    in current_module.__dict__.items()\\n'\n",
      "         \"    if name != '__builtins__'\\n\"\n",
      "         '})',\n",
      "         '# Получить коллекцию callable-объектов, определенных\\n'\n",
      "         '# в глобальном пространстве имен\\n'\n",
      "         '# ... множество разнообразных объектов и типов\\n'\n",
      "         'pprint({\\n'\n",
      "         '\\tname: value\\n'\n",
      "         '\\tfor name, value\\n'\n",
      "         '\\tin current_module.__dict__.items()\\n'\n",
      "         '\\tif callable(value)\\n'\n",
      "         '})',\n",
      "         '# Получить коллекцию \"чистых\" ф-ций, определенных\\n'\n",
      "         '# в глобальном пространстве имен\\n'\n",
      "         'pprint({\\n'\n",
      "         '\\tname: value\\n'\n",
      "         '\\tfor name, value\\n'\n",
      "         '\\tin current_module.__dict__.items()\\n'\n",
      "         '\\tif isinstance(value, FunctionType)\\n'\n",
      "         '})',\n",
      "         '# Протестируем функцию func определенную в пространстве имен модуля\\n'\n",
      "         '# (глобальное пространство имен)\\n'\n",
      "         '# Смоделируем такую же строку ...\\n'\n",
      "         'print(\\n'\n",
      "         '    f\"<{type(func).__name__} \"\\n'\n",
      "         '    f\"{func.__name__} \"\\n'\n",
      "         '    f\"at {hex(id(func))}>\"\\n'\n",
      "         ')',\n",
      "         '# Связывание объекта-функции определенной в пространстве имен '\n",
      "         'класса\\n'\n",
      "         '# с глобальной переменной\\n'\n",
      "         'f = Person.say_hello\\n'\n",
      "         'pprint({\\n'\n",
      "         '\\tname: value\\n'\n",
      "         '\\tfor name, value\\n'\n",
      "         '\\tin globals().items()\\n'\n",
      "         '\\tif not callable(value) and not name.startswith(\"__\")\\n'\n",
      "         '})'],\n",
      " '_ii': '# Получить коллекцию \"чистых\" ф-ций, определенных\\n'\n",
      "        '# в глобальном пространстве имен\\n'\n",
      "        'pprint({\\n'\n",
      "        '\\tname: value\\n'\n",
      "        '\\tfor name, value\\n'\n",
      "        '\\tin current_module.__dict__.items()\\n'\n",
      "        '\\tif isinstance(value, FunctionType)\\n'\n",
      "        '})',\n",
      " '_iii': '# Получить коллекцию callable-объектов, определенных\\n'\n",
      "         '# в глобальном пространстве имен\\n'\n",
      "         '# ... множество разнообразных объектов и типов\\n'\n",
      "         'pprint({\\n'\n",
      "         '\\tname: value\\n'\n",
      "         '\\tfor name, value\\n'\n",
      "         '\\tin current_module.__dict__.items()\\n'\n",
      "         '\\tif callable(value)\\n'\n",
      "         '})',\n",
      " '_oh': {},\n",
      " 'current_module': <module '__main__'>,\n",
      " 'sys': <module 'sys' (built-in)>}\n"
     ]
    }
   ],
   "source": [
    "# Связывание объекта-функции определенной в пространстве имен класса\n",
    "# с глобальной переменной\n",
    "f = Person.say_hello\n",
    "pprint({\n",
    "\tname: value\n",
    "\tfor name, value\n",
    "\tin globals().items()\n",
    "\tif not callable(value) and not name.startswith(\"__\")\n",
    "})\n"
   ]
  },
  {
   "cell_type": "code",
   "execution_count": 10,
   "metadata": {},
   "outputs": [
    {
     "name": "stdout",
     "output_type": "stream",
     "text": [
      "0x7f36985bafc0\n",
      "Hello\n",
      "type(Person.say_hello) = <class 'function'>\n",
      "type(f) = <class 'function'>\n",
      "id(Person.say_hello) = 0x7f36985b9d00\n",
      "id(f) = 0x7f36985b9d00\n"
     ]
    }
   ],
   "source": [
    "print(hex(id(func)))\n",
    "f()\n",
    "print(f'type(Person.say_hello) = {type(Person.say_hello)}')\n",
    "print(f'type(f) = {type(f)}')\n",
    "print(f'id(Person.say_hello) = {hex(id(Person.say_hello))}')\n",
    "print(f'id(f) = {hex(id(f))}')"
   ]
  }
 ],
 "metadata": {
  "kernelspec": {
   "display_name": "Python 3",
   "language": "python",
   "name": "python3"
  },
  "language_info": {
   "codemirror_mode": {
    "name": "ipython",
    "version": 3
   },
   "file_extension": ".py",
   "mimetype": "text/x-python",
   "name": "python",
   "nbconvert_exporter": "python",
   "pygments_lexer": "ipython3",
   "version": "3.12.5"
  }
 },
 "nbformat": 4,
 "nbformat_minor": 2
}
