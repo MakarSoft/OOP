{
 "cells": [
  {
   "cell_type": "markdown",
   "metadata": {},
   "source": [
    "### Project 1: TimeZone class"
   ]
  },
  {
   "cell_type": "markdown",
   "metadata": {},
   "source": [
    "Давайте начнем с класса timezone. У него будет два атрибута экземпляра, `offset` и `name`.\n",
    "\n",
    "Я собираюсь создать их как свойства только для чтения.\n",
    "\n",
    "Смещения должны быть предоставлены как временной интервал (timedelta) часов и минут — мы разрешим указывать смещения часов и минут отдельно в **init**, но свойство offset объединит их как объект `timepan`."
   ]
  },
  {
   "cell_type": "code",
   "execution_count": 1,
   "metadata": {},
   "outputs": [],
   "source": [
    "import numbers\n",
    "from datetime import timedelta\n",
    "\n",
    "\n",
    "class TimeZone:\n",
    "\n",
    "    def __init__(\n",
    "        self,\n",
    "        name: str,\n",
    "        offset_hours: int,\n",
    "        offset_minutes: int) -> None:\n",
    "\n",
    "        if name is None or len(str(name).strip()) == 0:\n",
    "            raise ValueError('Timezone name cannot be empty.')\n",
    "        self._name = str(name).strip()\n",
    "\n",
    "        if not isinstance(offset_hours, numbers.Integral):\n",
    "            raise ValueError('Hour offset must be an integer.')\n",
    "\n",
    "        if not isinstance(offset_minutes, numbers.Integral):\n",
    "            raise ValueError('Minutes offset must be an integer.')\n",
    "\n",
    "        if offset_minutes < -59 or offset_minutes > 59:\n",
    "            raise ValueError('Minutes offset must between -59 and 59 (inclusive).')\n",
    "\n",
    "        # for time delta sign of minutes will be set to sign of hours\n",
    "        offset = timedelta(\n",
    "            hours=offset_hours,\n",
    "            minutes=offset_minutes\n",
    "        )\n",
    "\n",
    "        # offsets are technically bounded between -12:00 and 14:00\n",
    "        # see: https://en.wikipedia.org/wiki/List_of_UTC_time_offsets\n",
    "        if offset < timedelta(hours=-12, minutes=0) or offset > timedelta(hours=14, minutes=0):\n",
    "            raise ValueError('Offset must be between -12:00 and +14:00.')\n",
    "\n",
    "        self._offset_hours = offset_hours\n",
    "        self._offset_minutes = offset_minutes\n",
    "        self._offset = offset\n",
    "\n",
    "    @property\n",
    "    def offset(self):\n",
    "        return self._offset\n",
    "\n",
    "    @property\n",
    "    def name(self):\n",
    "        return self._name\n",
    "\n",
    "    def __eq__(self, other):\n",
    "        return (\n",
    "            isinstance(other, TimeZone) and\n",
    "            self.name == other.name and\n",
    "            self._offset_hours == other._offset_hours and\n",
    "            self._offset_minutes == other._offset_minutes\n",
    "        )\n",
    "\n",
    "    def __repr__(self):\n",
    "        return (\n",
    "            f\"TimeZone(name='{self.name}', \"\n",
    "            f\"offset_hours={self._offset_hours}, \"\n",
    "            f\"offset_minutes={self._offset_minutes})\"\n",
    "        )"
   ]
  },
  {
   "cell_type": "markdown",
   "metadata": {},
   "source": [
    "Давайте попробуем и убедимся, что это работает:"
   ]
  },
  {
   "cell_type": "code",
   "execution_count": 2,
   "metadata": {},
   "outputs": [],
   "source": [
    "tz1 = TimeZone('ABC', -2, -15)"
   ]
  },
  {
   "cell_type": "code",
   "execution_count": 3,
   "metadata": {},
   "outputs": [
    {
     "data": {
      "text/plain": [
       "'ABC'"
      ]
     },
     "execution_count": 3,
     "metadata": {},
     "output_type": "execute_result"
    }
   ],
   "source": [
    "tz1.name"
   ]
  },
  {
   "cell_type": "code",
   "execution_count": 8,
   "metadata": {},
   "outputs": [
    {
     "name": "stdout",
     "output_type": "stream",
     "text": [
      "2025-01-20 13:45:04.239271+00:00\n"
     ]
    }
   ],
   "source": [
    "import datetime\n",
    "\n",
    "dt = datetime.datetime.now(datetime.UTC)\n",
    "print(dt)"
   ]
  },
  {
   "cell_type": "code",
   "execution_count": 5,
   "metadata": {},
   "outputs": [
    {
     "name": "stdout",
     "output_type": "stream",
     "text": [
      "2019-06-02 21:12:15.937254\n"
     ]
    }
   ],
   "source": [
    "print(dt + tz1.offset)"
   ]
  },
  {
   "cell_type": "markdown",
   "metadata": {},
   "source": [
    "Как мы видим, смещение, похоже, работает (-2:15 от текущего времени)"
   ]
  },
  {
   "cell_type": "markdown",
   "metadata": {},
   "source": [
    "(Нам действительно следует писать модульные тесты по мере написания кода, но я покажу вам модульные тесты в последнем разделе этого проекта, а в следующем проекте мы сможем писать код и модульные тесты параллельно)"
   ]
  },
  {
   "cell_type": "markdown",
   "metadata": {},
   "source": [
    "---\n"
   ]
  },
  {
   "cell_type": "markdown",
   "metadata": {},
   "source": [
    "### Лирическое отступление: тип numbers.Integral\n"
   ]
  },
  {
   "cell_type": "markdown",
   "metadata": {},
   "source": [
    "В Python `numbers.Integral` — это абстрактный базовый класс, который определяет интерфейс для целочисленных типов. Он является частью модуля `numbers`, который предоставляет иерархию абстрактных базовых классов для числовых типов.\n",
    "\n",
    "Основные аспекты `numbers.Integral`"
   ]
  },
  {
   "cell_type": "markdown",
   "metadata": {},
   "source": [
    "- Целочисленные типы:\n",
    "`numbers.Integral` представляет собой интерфейс для всех целочисленных типов, таких как `int` в Python 3. Он позволяет разработчикам проверять, является ли объект целым числом, не полагаясь на конкретные реализации."
   ]
  },
  {
   "cell_type": "markdown",
   "metadata": {},
   "source": [
    "- Использование:\n",
    "Вы можете использовать `numbers.Integral` для проверки, является ли объект целым числом, с помощью функции `isinstance()`.\n",
    "\n",
    "Например:"
   ]
  },
  {
   "cell_type": "code",
   "execution_count": 9,
   "metadata": {},
   "outputs": [
    {
     "name": "stdout",
     "output_type": "stream",
     "text": [
      "True\n",
      "False\n"
     ]
    }
   ],
   "source": [
    "import numbers\n",
    "\n",
    "x = 10\n",
    "y = 3.14\n",
    "\n",
    "print(isinstance(x, numbers.Integral))  # True, так как x - целое число\n",
    "print(isinstance(y, numbers.Integral))  # False, так как y - не целое число\n"
   ]
  },
  {
   "cell_type": "markdown",
   "metadata": {},
   "source": [
    "- Преимущества:\n",
    "    - Полиморфизм: Использование numbers.Integral позволяет писать код, который может работать с любыми типами, реализующими этот интерфейс, что делает код более гибким и расширяемым.\n",
    "    - Читаемость: Проверка типов с использованием абстрактных базовых классов делает код более понятным и самодокументируемым."
   ]
  },
  {
   "cell_type": "markdown",
   "metadata": {},
   "source": [
    "- Иерархия чисел:\n",
    "Модуль numbers включает в себя несколько других абстрактных классов, таких как:\n",
    "    - numbers.Number: базовый класс для всех чисел.\n",
    "    - numbers.Rational: для рациональных чисел.\n",
    "    - numbers.Real: для вещественных чисел.\n",
    "    - numbers.Complex: для комплексных чисел."
   ]
  },
  {
   "cell_type": "markdown",
   "metadata": {},
   "source": [
    "#### Пример использования\n",
    "\n",
    "Вот пример, который демонстрирует использование `numbers.Integral` в функции, которая принимает только целые числа:"
   ]
  },
  {
   "cell_type": "code",
   "execution_count": 10,
   "metadata": {},
   "outputs": [
    {
     "name": "stdout",
     "output_type": "stream",
     "text": [
      "10\n"
     ]
    }
   ],
   "source": [
    "import numbers\n",
    "\n",
    "def process_integer(value):\n",
    "    if not isinstance(value, numbers.Integral):\n",
    "        raise TypeError(\"Ожидалось целое число\")\n",
    "    # Обработка целого числа\n",
    "    return value * 2\n",
    "\n",
    "print(process_integer(5))  # 10\n",
    "# print(process_integer(3.5))  # Это вызовет TypeError\n"
   ]
  },
  {
   "cell_type": "markdown",
   "metadata": {},
   "source": [
    "Таким образом, `numbers.Integral` предоставляет удобный способ работы с целыми числами и проверки типов в Python, что делает код более безопасным и понятным."
   ]
  },
  {
   "cell_type": "markdown",
   "metadata": {},
   "source": [
    "Основные типы, подпадающие под numbers.Integral:\n",
    "\n",
    "- int: Это основной целочисленный тип в Python 3. Он представляет целые числа произвольной длины.\n",
    "- Пользовательские классы: Вы можете создать собственные классы, которые наследуют от numbers.Integral и реализуют необходимые методы.\n",
    "- bool: В Python bool является подтипом int, и, следовательно, также считается целым числом. Значения True и False в Python соответствуют 1 и 0 соответственно.\n",
    "\n",
    "Например:"
   ]
  },
  {
   "cell_type": "code",
   "execution_count": 21,
   "metadata": {},
   "outputs": [
    {
     "name": "stdout",
     "output_type": "stream",
     "text": [
      "MyInteger(10)\n",
      "True\n",
      "MyInteger(15)\n",
      "MyInteger(7)\n"
     ]
    }
   ],
   "source": [
    "import numbers\n",
    "\n",
    "class MyInteger(numbers.Integral):\n",
    "    def __init__(self, value):\n",
    "        self._value = int(value)\n",
    "\n",
    "    def __int__(self):\n",
    "        return self._value\n",
    "\n",
    "    def __add__(self, other):\n",
    "        return MyInteger(self._value + int(other))\n",
    "\n",
    "    def __sub__(self, other):\n",
    "        return MyInteger(self._value - int(other))\n",
    "\n",
    "    def __mul__(self, other):\n",
    "        return MyInteger(self._value * int(other))\n",
    "\n",
    "    def __truediv__(self, other):\n",
    "        return MyInteger(self._value // int(other))  # Целочисленное деление\n",
    "\n",
    "    def __floordiv__(self, other):\n",
    "        return MyInteger(self._value // int(other))\n",
    "\n",
    "    def __mod__(self, other):\n",
    "        return MyInteger(self._value % int(other))\n",
    "\n",
    "    def __pow__(self, other):\n",
    "        return MyInteger(self._value ** int(other))\n",
    "\n",
    "    def __eq__(self, other):\n",
    "        return self._value == int(other)\n",
    "\n",
    "    def __lt__(self, other):\n",
    "        return self._value < int(other)\n",
    "\n",
    "    def __le__(self, other):\n",
    "        return self._value <= int(other)\n",
    "\n",
    "    def __neg__(self):\n",
    "        return MyInteger(-self._value)\n",
    "\n",
    "    def __abs__(self):\n",
    "        return MyInteger(abs(self._value))\n",
    "\n",
    "    def __invert__(self):\n",
    "        return MyInteger(~self._value)\n",
    "\n",
    "    def __and__(self, other):\n",
    "        return MyInteger(self._value & int(other))\n",
    "\n",
    "    def __or__(self, other):\n",
    "        return MyInteger(self._value | int(other))\n",
    "\n",
    "    def __xor__(self, other):\n",
    "        return MyInteger(self._value ^ int(other))\n",
    "\n",
    "    def __lshift__(self, other):\n",
    "        return MyInteger(self._value << int(other))\n",
    "\n",
    "    def __rshift__(self, other):\n",
    "        return MyInteger(self._value >> int(other))\n",
    "\n",
    "    def __ceil__(self):\n",
    "        return MyInteger(self._value)\n",
    "\n",
    "    def __floor__(self):\n",
    "        return MyInteger(self._value)\n",
    "\n",
    "    def __round__(self, n=0):\n",
    "        return MyInteger(round(self._value, n))\n",
    "\n",
    "    def __pos__(self):\n",
    "        return MyInteger(+self._value)\n",
    "\n",
    "    def __radd__(self, other):\n",
    "        return self.__add__(other)\n",
    "\n",
    "    def __rand__(self, other):\n",
    "        return MyInteger(other & self._value)\n",
    "\n",
    "    def __rfloordiv__(self, other):\n",
    "        return MyInteger(other // self._value)\n",
    "\n",
    "    def __rlshift__(self, other):\n",
    "        return MyInteger(other << self._value)\n",
    "\n",
    "    def __rmod__(self, other):\n",
    "        return MyInteger(other % self._value)\n",
    "\n",
    "    def __rmul__(self, other):\n",
    "        return MyInteger(other * self._value)\n",
    "\n",
    "    def __ror__(self, other):\n",
    "        return MyInteger(other | self._value)\n",
    "\n",
    "    def __rpow__(self, other):\n",
    "        return MyInteger(other ** self._value)\n",
    "\n",
    "    def __rrshift__(self, other):\n",
    "        return MyInteger(other >> self._value)\n",
    "\n",
    "    def __rtruediv__(self, other):\n",
    "        return MyInteger(other // self._value)\n",
    "\n",
    "    def __rxor__(self, other):\n",
    "        return MyInteger(other ^ self._value)\n",
    "\n",
    "    def __trunc__(self):\n",
    "        return MyInteger(self._value)\n",
    "\n",
    "    def __repr__(self):\n",
    "        return f\"MyInteger({self._value})\"\n",
    "\n",
    "# Пример использования\n",
    "my_int = MyInteger(10)\n",
    "print(my_int)  # MyInteger(10)\n",
    "print(isinstance(my_int, numbers.Integral))  # True\n",
    "print(my_int + 5)  # MyInteger(15)\n",
    "print(my_int - 3)  # MyInteger(7)\n"
   ]
  },
  {
   "cell_type": "markdown",
   "metadata": {},
   "source": [
    "Хотя `numbers.Integral` может быть использован для проверки пользовательских классов, важно помнить, что стандартные типы, такие как `int`, являются основными типами, которые вы будете использовать в большинстве случаев. В большинстве приложений, работающих с целыми числами, вы будете иметь дело именно с `int` и, возможно, с `bool`.\n",
    "\n",
    "Таким образом, в стандартной библиотеке `Python` `int` и `bool` — это основные типы, которые подпадают под numbers.Integral. Пользовательские классы могут быть созданы для расширения функциональности, если это необходимо."
   ]
  }
 ],
 "metadata": {
  "kernelspec": {
   "display_name": "Python 3",
   "language": "python",
   "name": "python3"
  },
  "language_info": {
   "codemirror_mode": {
    "name": "ipython",
    "version": 3
   },
   "file_extension": ".py",
   "mimetype": "text/x-python",
   "name": "python",
   "nbconvert_exporter": "python",
   "pygments_lexer": "ipython3",
   "version": "3.12.5"
  }
 },
 "nbformat": 4,
 "nbformat_minor": 2
}
