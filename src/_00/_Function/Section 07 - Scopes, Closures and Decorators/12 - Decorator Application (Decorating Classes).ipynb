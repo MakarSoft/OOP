{
 "cells": [
  {
   "cell_type": "markdown",
   "metadata": {},
   "source": [
    "### Decorator Application: Decorating Classes"
   ]
  },
  {
   "cell_type": "markdown",
   "metadata": {},
   "source": [
    "До сих пор мы работали с декорированием функций. Это значит, что мы можем декорировать функции, определенные с помощью оператора `def` (мы можем использовать синтаксис `@` или длинную форму). Поскольку методы класса являются функциями, их тоже можно декорировать. Лямбда-выражения также можно декорировать (используя длинную форму)."
   ]
  },
  {
   "cell_type": "markdown",
   "metadata": {},
   "source": [
    "Но если задуматься о том, как работают наши декораторы, то они принимают один параметр, функцию, и возвращают какую-то другую функцию — обычно замыкание, которое использует исходную функцию, переданную в качестве аргумента."
   ]
  },
  {
   "cell_type": "markdown",
   "metadata": {},
   "source": [
    "Мы могли бы использовать ту же концепцию, чтобы принять не функцию, а класс. Мы могли бы ссылаться на этот класс внутри нашего декоратора, изменять его, а затем возвращать этот измененный класс."
   ]
  },
  {
   "cell_type": "markdown",
   "metadata": {},
   "source": [
    "Сначала мы рассмотрим то, что называется **monkey patching**. Это сводится к изменению или расширению нашего кода во время выполнения**.\n",
    "\n",
    "Например, мы можем изменять или добавлять атрибуты к классам во время выполнения. Модули тоже.\n",
    "\n",
    "В Python многие из используемых нами классов могут быть изменены во время выполнения\n",
    "(встроенные классы, такие как строки, списки и т. д., не могут).\n",
    "\n",
    "Но классы, написанные на Python, такие как те, которые мы пишем, и даже библиотечные классы, если они написаны на Python, а не на C, могут. Например, `Fraction` в модуле `fractions` может быть подвергнут monkey patching.\n",
    "\n",
    "Однако то, что мы можем что-то сделать, не означает, что мы должны! Monkey patching может быть чрезвычайно полезным, но не делайте этого только потому, что можете — как всегда, должна быть реальная причина для этого, как мы увидим немного позже.\n",
    "\n",
    "Кроме того, в целом плохая идея - патчить специальные методы `__???__` (например, `__len__`), так как это часто не работает из-за того, как эти методы ищутся в Python."
   ]
  },
  {
   "cell_type": "code",
   "execution_count": 1,
   "metadata": {
    "collapsed": true
   },
   "outputs": [],
   "source": [
    "from fractions import Fraction"
   ]
  },
  {
   "cell_type": "code",
   "execution_count": 2,
   "metadata": {
    "collapsed": true
   },
   "outputs": [],
   "source": [
    "Fraction.speak = lambda self: 'This is a late parrot.'"
   ]
  },
  {
   "cell_type": "code",
   "execution_count": 3,
   "metadata": {
    "collapsed": true
   },
   "outputs": [],
   "source": [
    "f = Fraction(2, 3)"
   ]
  },
  {
   "cell_type": "code",
   "execution_count": 4,
   "metadata": {},
   "outputs": [
    {
     "data": {
      "text/plain": [
       "Fraction(2, 3)"
      ]
     },
     "execution_count": 4,
     "metadata": {},
     "output_type": "execute_result"
    }
   ],
   "source": [
    "f"
   ]
  },
  {
   "cell_type": "code",
   "execution_count": 5,
   "metadata": {},
   "outputs": [
    {
     "data": {
      "text/plain": [
       "'This is a late parrot.'"
      ]
     },
     "execution_count": 5,
     "metadata": {},
     "output_type": "execute_result"
    }
   ],
   "source": [
    "f.speak()"
   ]
  },
  {
   "cell_type": "markdown",
   "metadata": {},
   "source": [
    "Да, это, очевидно, чепуха, но вы понимаете, что можете добавлять атрибуты к классам, даже если у вас нет прямого контроля над классом или после того, как ваш класс был определен."
   ]
  },
  {
   "cell_type": "markdown",
   "metadata": {},
   "source": [
    "Если вам нужен более полезный метод, как насчет того, который сообщает нам, является ли дробь целым числом? (т. е. знаменатель равен `1`)"
   ]
  },
  {
   "cell_type": "code",
   "execution_count": 6,
   "metadata": {
    "collapsed": true
   },
   "outputs": [],
   "source": [
    "Fraction.is_integral = lambda self: self.denominator == 1"
   ]
  },
  {
   "cell_type": "code",
   "execution_count": 7,
   "metadata": {
    "collapsed": true
   },
   "outputs": [],
   "source": [
    "f1 = Fraction(1, 2)\n",
    "f2 = Fraction(10, 5)"
   ]
  },
  {
   "cell_type": "code",
   "execution_count": 8,
   "metadata": {},
   "outputs": [
    {
     "data": {
      "text/plain": [
       "False"
      ]
     },
     "execution_count": 8,
     "metadata": {},
     "output_type": "execute_result"
    }
   ],
   "source": [
    "f1.is_integral()"
   ]
  },
  {
   "cell_type": "code",
   "execution_count": 9,
   "metadata": {},
   "outputs": [
    {
     "data": {
      "text/plain": [
       "True"
      ]
     },
     "execution_count": 9,
     "metadata": {},
     "output_type": "execute_result"
    }
   ],
   "source": [
    "f2.is_integral()"
   ]
  },
  {
   "cell_type": "markdown",
   "metadata": {},
   "source": [
    "Теперь мы можем внести это изменение в класс, вызвав функцию, которая сделает это:"
   ]
  },
  {
   "cell_type": "code",
   "execution_count": 10,
   "metadata": {
    "collapsed": true
   },
   "outputs": [],
   "source": [
    "def dec_speak(cls):\n",
    "    cls.speak = lambda self: 'This is a very late parrot.'\n",
    "    return cls"
   ]
  },
  {
   "cell_type": "code",
   "execution_count": 11,
   "metadata": {
    "collapsed": true
   },
   "outputs": [],
   "source": [
    "Fraction = dec_speak(Fraction)"
   ]
  },
  {
   "cell_type": "markdown",
   "metadata": {},
   "source": [
    "_(Надеюсь, приведенный выше код напомнит вам декораторы.)_"
   ]
  },
  {
   "cell_type": "code",
   "execution_count": 12,
   "metadata": {
    "collapsed": true
   },
   "outputs": [],
   "source": [
    "f = Fraction(10, 2)"
   ]
  },
  {
   "cell_type": "code",
   "execution_count": 13,
   "metadata": {},
   "outputs": [
    {
     "data": {
      "text/plain": [
       "'This is a very late parrot.'"
      ]
     },
     "execution_count": 13,
     "metadata": {},
     "output_type": "execute_result"
    }
   ],
   "source": [
    "f.speak()"
   ]
  },
  {
   "cell_type": "markdown",
   "metadata": {},
   "source": [
    "Мы также можем использовать эту функцию для декорирования наших пользовательских классов, используя короткий синтаксис **@**."
   ]
  },
  {
   "cell_type": "code",
   "execution_count": 14,
   "metadata": {
    "collapsed": true
   },
   "outputs": [],
   "source": [
    "@dec_speak\n",
    "class Parrot:\n",
    "    def __init__(self):\n",
    "        self.state = 'late'"
   ]
  },
  {
   "cell_type": "code",
   "execution_count": 15,
   "metadata": {
    "collapsed": true
   },
   "outputs": [],
   "source": [
    "polly = Parrot()"
   ]
  },
  {
   "cell_type": "code",
   "execution_count": 16,
   "metadata": {},
   "outputs": [
    {
     "data": {
      "text/plain": [
       "'This is a very late parrot.'"
      ]
     },
     "execution_count": 16,
     "metadata": {},
     "output_type": "execute_result"
    }
   ],
   "source": [
    "polly.speak()"
   ]
  },
  {
   "cell_type": "markdown",
   "metadata": {},
   "source": [
    "Используя эту технику, мы могли бы, например, добавить полезный атрибут *reciprocal* к классу Fraction, но, конечно, поскольку это, вероятно, будет одноразовым (сколько классов Fraction, в которые вы захотите добавить обратный элемент, в конце концов), нет необходимости в декораторах. Декораторы полезны, когда их можно повторно использовать более общими способами."
   ]
  },
  {
   "cell_type": "code",
   "execution_count": 17,
   "metadata": {
    "collapsed": true
   },
   "outputs": [],
   "source": [
    "Fraction.recip = lambda self: Fraction(self.denominator, self.numerator)"
   ]
  },
  {
   "cell_type": "code",
   "execution_count": 18,
   "metadata": {
    "collapsed": true
   },
   "outputs": [],
   "source": [
    "f = Fraction(2,3)"
   ]
  },
  {
   "cell_type": "code",
   "execution_count": 19,
   "metadata": {},
   "outputs": [
    {
     "data": {
      "text/plain": [
       "Fraction(2, 3)"
      ]
     },
     "execution_count": 19,
     "metadata": {},
     "output_type": "execute_result"
    }
   ],
   "source": [
    "f"
   ]
  },
  {
   "cell_type": "code",
   "execution_count": 20,
   "metadata": {},
   "outputs": [
    {
     "data": {
      "text/plain": [
       "Fraction(3, 2)"
      ]
     },
     "execution_count": 20,
     "metadata": {},
     "output_type": "execute_result"
    }
   ],
   "source": [
    "f.recip()"
   ]
  },
  {
   "cell_type": "markdown",
   "metadata": {},
   "source": [
    "Эти примеры довольно тривиальны и не очень полезны.\n",
    "\n",
    "Так зачем же поднимать эту тему?\n",
    "\n",
    "Потому что эту же технику можно использовать для более интересных вещей."
   ]
  },
  {
   "cell_type": "markdown",
   "metadata": {},
   "source": [
    "В качестве первого примера предположим, что вы обычно хотите проверить различные свойства объекта в целях отладки, например, адрес памяти, его текущее состояние (значения свойств) и время, когда была сгенерирована отладочная информация."
   ]
  },
  {
   "cell_type": "code",
   "execution_count": 21,
   "metadata": {
    "collapsed": true
   },
   "outputs": [],
   "source": [
    "from datetime import datetime, timezone"
   ]
  },
  {
   "cell_type": "code",
   "execution_count": 22,
   "metadata": {
    "collapsed": true
   },
   "outputs": [],
   "source": [
    "def debug_info(cls):\n",
    "    def info(self):\n",
    "        results = []\n",
    "        results.append('time: {0}'.format(datetime.now(timezone.utc)))\n",
    "        results.append('class: {0}'.format(self.__class__.__name__))\n",
    "        results.append('id: {0}'.format(hex(id(self))))\n",
    "\n",
    "        if vars(self):\n",
    "            for k, v in vars(self).items():\n",
    "                results.append('{0}: {1}'.format(k, v))\n",
    "\n",
    "        # we have not covered lists, the extend method and generators,\n",
    "        # but note that a more Pythonic way to do this would be:\n",
    "        #if vars(self):\n",
    "        #    results.extend('{0}: {1}'.format(k, v)\n",
    "        #                   for k, v in vars(self).items())\n",
    "\n",
    "        return results\n",
    "\n",
    "    cls.debug = info\n",
    "\n",
    "    return cls"
   ]
  },
  {
   "cell_type": "code",
   "execution_count": 23,
   "metadata": {
    "collapsed": true
   },
   "outputs": [],
   "source": [
    "@debug_info\n",
    "class Person:\n",
    "    def __init__(self, name, birth_year):\n",
    "        self.name = name\n",
    "        self.birth_year = birth_year\n",
    "\n",
    "    def say_hi():\n",
    "        return 'Hello there!'"
   ]
  },
  {
   "cell_type": "code",
   "execution_count": 24,
   "metadata": {
    "collapsed": true
   },
   "outputs": [],
   "source": [
    "p1 = Person('John', 1939)"
   ]
  },
  {
   "cell_type": "code",
   "execution_count": 25,
   "metadata": {},
   "outputs": [
    {
     "data": {
      "text/plain": [
       "['time: 2018-02-09 04:44:02.893951+00:00',\n",
       " 'class: Person',\n",
       " 'id: 0x2dfe29a4630',\n",
       " 'name: John',\n",
       " 'birth_year: 1939']"
      ]
     },
     "execution_count": 25,
     "metadata": {},
     "output_type": "execute_result"
    }
   ],
   "source": [
    "p1.debug()"
   ]
  },
  {
   "cell_type": "markdown",
   "metadata": {},
   "source": [
    "И, конечно, мы можем декорировать таким же образом и другие классы, а не только один класс:"
   ]
  },
  {
   "cell_type": "code",
   "execution_count": 26,
   "metadata": {
    "collapsed": true
   },
   "outputs": [],
   "source": [
    "@debug_info\n",
    "class Automobile:\n",
    "    def __init__(self, make, model, year, top_speed_mph):\n",
    "        self.make = make\n",
    "        self.model = model\n",
    "        self.year = year\n",
    "        self.top_speed_mph = top_speed_mph\n",
    "        self.current_speed = 0\n",
    "\n",
    "    @property\n",
    "    def speed(self):\n",
    "        return self.current_speed\n",
    "\n",
    "    @speed.setter\n",
    "    def speed(self, new_speed):\n",
    "        self.current_speed = new_speed"
   ]
  },
  {
   "cell_type": "code",
   "execution_count": 27,
   "metadata": {
    "collapsed": true
   },
   "outputs": [],
   "source": [
    "s = Automobile('Ford', 'Model T', 1908, 45)"
   ]
  },
  {
   "cell_type": "code",
   "execution_count": 28,
   "metadata": {},
   "outputs": [
    {
     "data": {
      "text/plain": [
       "['time: 2018-02-09 04:44:03.562898+00:00',\n",
       " 'class: Automobile',\n",
       " 'id: 0x2dfe29b3a58',\n",
       " 'make: Ford',\n",
       " 'model: Model T',\n",
       " 'year: 1908',\n",
       " 'top_speed_mph: 45',\n",
       " 'current_speed: 0']"
      ]
     },
     "execution_count": 28,
     "metadata": {},
     "output_type": "execute_result"
    }
   ],
   "source": [
    "s.debug()"
   ]
  },
  {
   "cell_type": "code",
   "execution_count": 29,
   "metadata": {
    "collapsed": true
   },
   "outputs": [],
   "source": [
    "s.speed = 20"
   ]
  },
  {
   "cell_type": "code",
   "execution_count": 30,
   "metadata": {},
   "outputs": [
    {
     "data": {
      "text/plain": [
       "['time: 2018-02-09 04:44:03.898085+00:00',\n",
       " 'class: Automobile',\n",
       " 'id: 0x2dfe29b3a58',\n",
       " 'make: Ford',\n",
       " 'model: Model T',\n",
       " 'year: 1908',\n",
       " 'top_speed_mph: 45',\n",
       " 'current_speed: 20']"
      ]
     },
     "execution_count": 30,
     "metadata": {},
     "output_type": "execute_result"
    }
   ],
   "source": [
    "s.debug()"
   ]
  },
  {
   "cell_type": "raw",
   "metadata": {},
   "source": [
    "Let's look at another example where decorating an entire class could be useful."
   ]
  },
  {
   "cell_type": "code",
   "execution_count": 31,
   "metadata": {
    "collapsed": true
   },
   "outputs": [],
   "source": [
    "from math import sqrt"
   ]
  },
  {
   "cell_type": "code",
   "execution_count": 32,
   "metadata": {
    "collapsed": true
   },
   "outputs": [],
   "source": [
    "class Point:\n",
    "    def __init__(self, x, y):\n",
    "        self.x = x\n",
    "        self.y = y\n",
    "\n",
    "    def __abs__(self):\n",
    "        return sqrt(self.x**2 + self.y**2)\n",
    "\n",
    "    def __repr__(self):\n",
    "        return 'Point({0},{1})'.format(self.x, self.y)"
   ]
  },
  {
   "cell_type": "code",
   "execution_count": 33,
   "metadata": {
    "collapsed": true
   },
   "outputs": [],
   "source": [
    "p1, p2, p3 = Point(2, 3), Point(2, 3), Point(0,0)"
   ]
  },
  {
   "cell_type": "code",
   "execution_count": 34,
   "metadata": {},
   "outputs": [
    {
     "data": {
      "text/plain": [
       "3.605551275463989"
      ]
     },
     "execution_count": 34,
     "metadata": {},
     "output_type": "execute_result"
    }
   ],
   "source": [
    "abs(p1)"
   ]
  },
  {
   "cell_type": "code",
   "execution_count": 35,
   "metadata": {},
   "outputs": [
    {
     "data": {
      "text/plain": [
       "(Point(2,3), Point(2,3))"
      ]
     },
     "execution_count": 35,
     "metadata": {},
     "output_type": "execute_result"
    }
   ],
   "source": [
    "p1, p2"
   ]
  },
  {
   "cell_type": "code",
   "execution_count": 36,
   "metadata": {},
   "outputs": [
    {
     "data": {
      "text/plain": [
       "False"
      ]
     },
     "execution_count": 36,
     "metadata": {},
     "output_type": "execute_result"
    }
   ],
   "source": [
    "p1 == p2"
   ]
  },
  {
   "cell_type": "markdown",
   "metadata": {},
   "source": [
    "Хм, мы, вероятно, ожидали, что `p1` будет равен `p2`, поскольку у него те же координаты. Но по умолчанию Python будет сравнивать адреса памяти, поскольку наш класс не реализует метод `__eq__`, используемый для сравнений `==`."
   ]
  },
  {
   "cell_type": "code",
   "execution_count": 37,
   "metadata": {},
   "outputs": [
    {
     "data": {
      "text/plain": [
       "(Point(2,3), Point(0,0))"
      ]
     },
     "execution_count": 37,
     "metadata": {},
     "output_type": "execute_result"
    }
   ],
   "source": [
    "p2, p3"
   ]
  },
  {
   "cell_type": "code",
   "execution_count": 38,
   "metadata": {},
   "outputs": [
    {
     "ename": "TypeError",
     "evalue": "'>' not supported between instances of 'Point' and 'Point'",
     "output_type": "error",
     "traceback": [
      "\u001b[1;31m---------------------------------------------------------------------------\u001b[0m",
      "\u001b[1;31mTypeError\u001b[0m                                 Traceback (most recent call last)",
      "\u001b[1;32m<ipython-input-38-b46639986960>\u001b[0m in \u001b[0;36m<module>\u001b[1;34m()\u001b[0m\n\u001b[1;32m----> 1\u001b[1;33m \u001b[0mp2\u001b[0m \u001b[1;33m>\u001b[0m \u001b[0mp3\u001b[0m\u001b[1;33m\u001b[0m\u001b[0m\n\u001b[0m",
      "\u001b[1;31mTypeError\u001b[0m: '>' not supported between instances of 'Point' and 'Point'"
     ]
    }
   ],
   "source": [
    "p2 > p3"
   ]
  },
  {
   "cell_type": "markdown",
   "metadata": {},
   "source": [
    "Таким образом, этот класс не поддерживает операторы сравнения, такие как `<`, `<=` и т. д.\n",
    "\n",
    "Даже `==` не работает так, как ожидается — он будет использовать адрес памяти вместо сравнения координат `x` и `y`, как мы могли бы ожидать."
   ]
  },
  {
   "cell_type": "markdown",
   "metadata": {},
   "source": [
    "Для оператора `<` нам нужен наш класс для реализации метода `__lt__`, а для `==` нам нужен метод `__eq__`.\n",
    "\n",
    "Другие операторы сравнения поддерживаются путем реализации различных функций, таких как `__le__` (`<=`), `__gt__` (`>`), `__ge__` (`>=`).\n",
    "\n",
    "Мы собираемся добавить методы `__lt__` и `__eq__` в наш класс Point.\n",
    "\n",
    "Мы будем считать объект Point меньшим другого, если он находится ближе к началу координат (т. е. имеет меньшую величину)."
   ]
  },
  {
   "cell_type": "code",
   "execution_count": 39,
   "metadata": {
    "collapsed": true
   },
   "outputs": [],
   "source": [
    "del Point\n",
    "\n",
    "class Point:\n",
    "    def __init__(self, x, y):\n",
    "        self.x = x\n",
    "        self.y = y\n",
    "\n",
    "    def __abs__(self):\n",
    "        return sqrt(self.x**2 + self.y**2)\n",
    "\n",
    "    def __eq__(self, other):\n",
    "        if isinstance(other, Point):\n",
    "            return self.x == other.x and self.y == other.y\n",
    "        else:\n",
    "            return NotImplemented\n",
    "\n",
    "    def __lt__(self, other):\n",
    "        if isinstance(other, Point):\n",
    "            return abs(self) < abs(other)\n",
    "        else:\n",
    "            return NotImplemented\n",
    "\n",
    "    def __repr__(self):\n",
    "        return '{0}({1},{2})'.format(self.__class__.__name__, self.x, self.y)"
   ]
  },
  {
   "cell_type": "code",
   "execution_count": 40,
   "metadata": {
    "collapsed": true
   },
   "outputs": [],
   "source": [
    "p1, p2, p3 = Point(2, 3), Point(2, 3), Point(0,0)"
   ]
  },
  {
   "cell_type": "code",
   "execution_count": 41,
   "metadata": {},
   "outputs": [
    {
     "data": {
      "text/plain": [
       "(Point(2,3), Point(2,3), True)"
      ]
     },
     "execution_count": 41,
     "metadata": {},
     "output_type": "execute_result"
    }
   ],
   "source": [
    "p1, p2, p1==p2"
   ]
  },
  {
   "cell_type": "code",
   "execution_count": 42,
   "metadata": {},
   "outputs": [
    {
     "data": {
      "text/plain": [
       "(Point(2,3), Point(0,0), False)"
      ]
     },
     "execution_count": 42,
     "metadata": {},
     "output_type": "execute_result"
    }
   ],
   "source": [
    "p2, p3, p2==p3"
   ]
  },
  {
   "cell_type": "markdown",
   "metadata": {},
   "source": [
    "As we can see, `==` now works as expected"
   ]
  },
  {
   "cell_type": "code",
   "execution_count": 43,
   "metadata": {
    "collapsed": true
   },
   "outputs": [],
   "source": [
    "p4 = Point(1, 2)"
   ]
  },
  {
   "cell_type": "code",
   "execution_count": 44,
   "metadata": {},
   "outputs": [
    {
     "data": {
      "text/plain": [
       "(3.605551275463989, 2.23606797749979, False)"
      ]
     },
     "execution_count": 44,
     "metadata": {},
     "output_type": "execute_result"
    }
   ],
   "source": [
    "abs(p1), abs(p4), p1 < p4"
   ]
  },
  {
   "cell_type": "markdown",
   "metadata": {},
   "source": [
    "Отлично, теперь у нас реализованы `<` и `==`. А как насчет остальных операторов: `<=`, `>`, `>=`?"
   ]
  },
  {
   "cell_type": "code",
   "execution_count": 45,
   "metadata": {},
   "outputs": [
    {
     "data": {
      "text/plain": [
       "True"
      ]
     },
     "execution_count": 45,
     "metadata": {},
     "output_type": "execute_result"
    }
   ],
   "source": [
    "p1 > p4"
   ]
  },
  {
   "cell_type": "markdown",
   "metadata": {},
   "source": [
    "О, поскольку мы реализовали `<` и `==`, означает ли это, что Python волшебным образом реализовал оператор `>` (т. е. не < и не ==)?"
   ]
  },
  {
   "cell_type": "markdown",
   "metadata": {},
   "source": [
    "Не совсем так! Произошло следующее: поскольку `p1` и `p4` являются точками, выполнение сравнения `p1 > p4` на самом деле то же самое, что и оценка `p4 < p1` - и Python сделал это автоматически для нас.\n",
    "\n",
    "Но он не реализовал ни одно из других, например `>=` и `<=`:"
   ]
  },
  {
   "cell_type": "code",
   "execution_count": 46,
   "metadata": {},
   "outputs": [
    {
     "ename": "TypeError",
     "evalue": "'<=' not supported between instances of 'Point' and 'Point'",
     "output_type": "error",
     "traceback": [
      "\u001b[1;31m---------------------------------------------------------------------------\u001b[0m",
      "\u001b[1;31mTypeError\u001b[0m                                 Traceback (most recent call last)",
      "\u001b[1;32m<ipython-input-46-80f9ea228203>\u001b[0m in \u001b[0;36m<module>\u001b[1;34m()\u001b[0m\n\u001b[1;32m----> 1\u001b[1;33m \u001b[0mp1\u001b[0m \u001b[1;33m<=\u001b[0m \u001b[0mp4\u001b[0m\u001b[1;33m\u001b[0m\u001b[0m\n\u001b[0m",
      "\u001b[1;31mTypeError\u001b[0m: '<=' not supported between instances of 'Point' and 'Point'"
     ]
    }
   ],
   "source": [
    "p1 <= p4"
   ]
  },
  {
   "cell_type": "markdown",
   "metadata": {},
   "source": [
    "Теперь, хотя мы могли бы действовать аналогичным образом и определить `>=`, `<=` и `>`, используя ту же технику, обратите внимание, что если определены `<` и `==`, то:\n",
    "\n",
    "* `a <= b` тогда и только тогда, когда `a < b или a == b`\n",
    "* `a > b` тогда и только тогда, когда `not(a<b) and a != b`\n",
    "* `a >= b` тогда и только тогда, когда `not(a<b)`"
   ]
  },
  {
   "cell_type": "markdown",
   "metadata": {},
   "source": [
    "Итак, чтобы быть достаточно общими, мы могли бы создать декоратор, который будет реализовывать эти последние три оператора, пока определены `==` и `<`. Затем мы могли бы декорировать **любой** класс, реализующий только эти два оператора."
   ]
  },
  {
   "cell_type": "code",
   "execution_count": 47,
   "metadata": {
    "collapsed": true
   },
   "outputs": [],
   "source": [
    "def complete_ordering(cls):\n",
    "    if '__eq__' in dir(cls) and '__lt__' in dir(cls):\n",
    "        cls.__le__ = lambda self, other: self < other or self == other\n",
    "        cls.__gt__ = lambda self, other: not(self < other) and not (self == other)\n",
    "        cls.__ge__ = lambda self, other: not (self < other)\n",
    "    return cls"
   ]
  },
  {
   "cell_type": "markdown",
   "metadata": {},
   "source": [
    "На самом деле, код выше **НЕ** является хорошей реализацией вообще. Мы не проверяем совместимость типов и не возвращаем результат `NotImplemented`, если это уместно. Я также использую встроенные операторы (`<` и `==`) вместо функций dunder (`__lt__` и `__eq__`). Я просто упростил его, потому что чуть позже мы воспользуемся лучшей альтернативой."
   ]
  },
  {
   "cell_type": "markdown",
   "metadata": {},
   "source": [
    "Например, лучший способ реализовать `__ge__` будет следующим:"
   ]
  },
  {
   "cell_type": "code",
   "execution_count": 48,
   "metadata": {
    "collapsed": true
   },
   "outputs": [],
   "source": [
    "def ge_from_lt(self, other):\n",
    "    # self >= other iff not(other < self)\n",
    "    result = self.__lt__(other)\n",
    "    if result is NotImplemented:\n",
    "        return NotImplemented\n",
    "    else:\n",
    "        return not result"
   ]
  },
  {
   "cell_type": "markdown",
   "metadata": {},
   "source": [
    "Вы можете задаться вопросом, почему я использовал `__lt__` вместо того, чтобы просто использовать оператор `<`. Это потому, что я хочу фактически посмотреть на результат операции, не вызывая исключения, если операция не реализована. Способ, которым я реализовал декоратор общего порядка, может привести к бесконечному циклу, потому что когда я оцениваю `self < other`, если возникает исключение, Python отразит оценку в `other > self`, и если это также вызовет ошибку, Python попытается отразить и эту операцию, и мы попадаем в бесконечный цикл (который в конечном итоге завершается переполнением стека). На самом деле это была ошибка в стандартной библиотечной реализации Python декоратора `complete_ordering` (называемого `total_ordering`), которая была устранена в версии 3.4."
   ]
  },
  {
   "cell_type": "code",
   "execution_count": 49,
   "metadata": {
    "collapsed": true
   },
   "outputs": [],
   "source": [
    "class Point:\n",
    "    def __init__(self, x, y):\n",
    "        self.x = x\n",
    "        self.y = y\n",
    "\n",
    "    def __abs__(self):\n",
    "        return sqrt(self.x**2 + self.y**2)\n",
    "\n",
    "    def __eq__(self, other):\n",
    "        if isinstance(other, Point):\n",
    "            return self.x == other.x and self.y == other.y\n",
    "        else:\n",
    "            return NotImplemented\n",
    "\n",
    "    def __lt__(self, other):\n",
    "        if isinstance(other, Point):\n",
    "            return abs(self) < abs(other)\n",
    "        else:\n",
    "            return NotImplemented\n",
    "\n",
    "    def __repr__(self):\n",
    "        return '{0}({1},{2})'.format(self.__class__, self.x, self.y)"
   ]
  },
  {
   "cell_type": "code",
   "execution_count": 50,
   "metadata": {
    "collapsed": true
   },
   "outputs": [],
   "source": [
    "Point = complete_ordering(Point)"
   ]
  },
  {
   "cell_type": "code",
   "execution_count": 51,
   "metadata": {
    "collapsed": true
   },
   "outputs": [],
   "source": [
    "p1, p2, p3 = Point(1, 1), Point(3, 4), Point(3, 4)"
   ]
  },
  {
   "cell_type": "code",
   "execution_count": 52,
   "metadata": {},
   "outputs": [
    {
     "data": {
      "text/plain": [
       "(1.4142135623730951, 5.0, 5.0)"
      ]
     },
     "execution_count": 52,
     "metadata": {},
     "output_type": "execute_result"
    }
   ],
   "source": [
    "abs(p1), abs(p2), abs(p3)"
   ]
  },
  {
   "cell_type": "code",
   "execution_count": 53,
   "metadata": {},
   "outputs": [
    {
     "data": {
      "text/plain": [
       "(True, True, False, False, False, True)"
      ]
     },
     "execution_count": 53,
     "metadata": {},
     "output_type": "execute_result"
    }
   ],
   "source": [
    "p1 < p2, p1 <= p2, p1 > p2, p1 >= p2, p2 > p2, p2 >= p3"
   ]
  },
  {
   "cell_type": "markdown",
   "metadata": {},
   "source": [
    "Теперь декоратор `complete_ordering` можно также напрямую применить к любому классу, который определяет `__eq__` и `__lt__`."
   ]
  },
  {
   "cell_type": "code",
   "execution_count": 54,
   "metadata": {
    "collapsed": true
   },
   "outputs": [],
   "source": [
    "@complete_ordering\n",
    "class Grade:\n",
    "    def __init__(self, score, max_score):\n",
    "        self.score = score\n",
    "        self.max_score = max_score\n",
    "        self.score_percent = round(score / max_score * 100)\n",
    "\n",
    "    def __repr__(self):\n",
    "        return 'Grade({0}, {1})'.format(self.score, self.max_score)\n",
    "\n",
    "    def __eq__(self, other):\n",
    "        if isinstance(other, Grade):\n",
    "            return self.score_percent == other.score_percent\n",
    "        else:\n",
    "            return NotImplemented\n",
    "\n",
    "    def __lt__(self, other):\n",
    "        if isinstance(other, Grade):\n",
    "            return self.score_percent < other.score_percent\n",
    "        else:\n",
    "            return NotImplemented\n"
   ]
  },
  {
   "cell_type": "code",
   "execution_count": 55,
   "metadata": {
    "collapsed": true
   },
   "outputs": [],
   "source": [
    "g1 = Grade(10, 100)\n",
    "g2 = Grade(20, 30)\n",
    "g3 = Grade(5, 50)"
   ]
  },
  {
   "cell_type": "code",
   "execution_count": 56,
   "metadata": {},
   "outputs": [
    {
     "data": {
      "text/plain": [
       "(True, True, True)"
      ]
     },
     "execution_count": 56,
     "metadata": {},
     "output_type": "execute_result"
    }
   ],
   "source": [
    "g1 <= g2, g1 == g3, g2 > g3"
   ]
  },
  {
   "cell_type": "markdown",
   "metadata": {},
   "source": [
    "Часто, если задан оператор `==` и только **один** из других операторов сравнения (`<`, `<=`, `>`, `>=`), то все остальное может быть выведено.\n",
    "\n",
    "Наш декоратор настаивал на `==` и `<`. но мы могли бы сделать его лучше, настаивая на `==` и любом другом операторе. Это, конечно, усложнит наш декоратор, и на самом деле, в Python есть эта точная функциональность, встроенная в, как вы уже догадались, модуль `functools`!\n",
    "\n",
    "Это декоратор, который называется `total_ordering`.\n",
    "\n",
    "Давайте посмотрим на него в действии:"
   ]
  },
  {
   "cell_type": "code",
   "execution_count": 57,
   "metadata": {
    "collapsed": true
   },
   "outputs": [],
   "source": [
    "from functools import total_ordering"
   ]
  },
  {
   "cell_type": "code",
   "execution_count": 58,
   "metadata": {
    "collapsed": true
   },
   "outputs": [],
   "source": [
    "@total_ordering\n",
    "class Grade:\n",
    "    def __init__(self, score, max_score):\n",
    "        self.score = score\n",
    "        self.max_score = max_score\n",
    "        self.score_percent = round(score / max_score * 100)\n",
    "\n",
    "    def __repr__(self):\n",
    "        return 'Grade({0}, {1})'.format(self.score, self.max_score)\n",
    "\n",
    "    def __eq__(self, other):\n",
    "        if isinstance(other, Grade):\n",
    "            return self.score_percent == other.score_percent\n",
    "        else:\n",
    "            return NotImplemented\n",
    "\n",
    "    def __lt__(self, other):\n",
    "        if isinstance(other, Grade):\n",
    "            return self.score_percent < other.score_percent\n",
    "        else:\n",
    "            return NotImplemented"
   ]
  },
  {
   "cell_type": "code",
   "execution_count": 59,
   "metadata": {
    "collapsed": true
   },
   "outputs": [],
   "source": [
    "g1, g2 = Grade(80, 100), Grade(60, 100)"
   ]
  },
  {
   "cell_type": "code",
   "execution_count": 60,
   "metadata": {},
   "outputs": [
    {
     "data": {
      "text/plain": [
       "(True, True)"
      ]
     },
     "execution_count": 60,
     "metadata": {},
     "output_type": "execute_result"
    }
   ],
   "source": [
    "g1 >= g2, g1 > g2"
   ]
  },
  {
   "cell_type": "markdown",
   "metadata": {},
   "source": [
    "Или мы могли бы сделать это следующим образом:"
   ]
  },
  {
   "cell_type": "code",
   "execution_count": 61,
   "metadata": {
    "collapsed": true
   },
   "outputs": [],
   "source": [
    "@total_ordering\n",
    "class Grade:\n",
    "    def __init__(self, score, max_score):\n",
    "        self.score = score\n",
    "        self.max_score = max_score\n",
    "        self.score_percent = round(score / max_score * 100)\n",
    "\n",
    "    def __repr__(self):\n",
    "        return 'Grade({0}, {1})'.format(self.score, self.max_score)\n",
    "\n",
    "    def __eq__(self, other):\n",
    "        if isinstance(other, Grade):\n",
    "            return self.score_percent == other.score_percent\n",
    "        else:\n",
    "            return NotImplemented\n",
    "\n",
    "    def __gt__(self, other):\n",
    "        if isinstance(other, Grade):\n",
    "            return self.score_percent > other.score_percent\n",
    "        else:\n",
    "            return NotImplemented"
   ]
  },
  {
   "cell_type": "code",
   "execution_count": 62,
   "metadata": {
    "collapsed": true
   },
   "outputs": [],
   "source": [
    "g1, g2 = Grade(80, 100), Grade(60, 100)"
   ]
  },
  {
   "cell_type": "code",
   "execution_count": 63,
   "metadata": {},
   "outputs": [
    {
     "data": {
      "text/plain": [
       "(True, True, False, False)"
      ]
     },
     "execution_count": 63,
     "metadata": {},
     "output_type": "execute_result"
    }
   ],
   "source": [
    "g1 >= g2, g1 > g2, g1 <= g2, g1 < g2"
   ]
  },
  {
   "cell_type": "markdown",
   "metadata": {},
   "source": [
    "---"
   ]
  }
 ],
 "metadata": {
  "kernelspec": {
   "display_name": "Python 3",
   "language": "python",
   "name": "python3"
  },
  "language_info": {
   "codemirror_mode": {
    "name": "ipython",
    "version": 3
   },
   "file_extension": ".py",
   "mimetype": "text/x-python",
   "name": "python",
   "nbconvert_exporter": "python",
   "pygments_lexer": "ipython3",
   "version": "3.6.2"
  }
 },
 "nbformat": 4,
 "nbformat_minor": 2
}
