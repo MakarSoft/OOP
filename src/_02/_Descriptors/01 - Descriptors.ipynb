{
 "cells": [
  {
   "cell_type": "markdown",
   "metadata": {},
   "source": [
    "### Descriptors"
   ]
  },
  {
   "cell_type": "markdown",
   "metadata": {},
   "source": [
    "**Дескрипторы** Python — это просто объекты, реализующие **протокол дескрипторов**.\n",
    "\n",
    "Протокол состоит из следующих специальных методов — не все из них обязательны.\n",
    "\n",
    "- `__get__`: используется для извлечения значения свойства\n",
    "- `__set__`: используется для хранения значения свойства (мы увидим, где это можно сделать немного позже)\n",
    "- `__del__`: удаляет свойство из экземпляра\n",
    "- `__set_name__`: новое в Python 3.6, мы можем использовать это для захвата имени свойства, как оно определяется в классе-владельце (классе, где определяется свойство).\n",
    "\n",
    "Нам нужно различать два типа дескрипторов:\n",
    "- **non-data descriptors** (дескрипторы, не являющиеся данными): это дескрипторы, которые реализуют только `__get__` (и, опционально, `__set_name__`)\n",
    "- **data descriptors** (дескрипторы данных): они реализуют метод `__set__` и, как правило, также метод `__get__`."
   ]
  },
  {
   "cell_type": "markdown",
   "metadata": {},
   "source": [
    "Давайте создадим простой дескриптор, не являющийся данными:"
   ]
  },
  {
   "cell_type": "code",
   "execution_count": 1,
   "metadata": {},
   "outputs": [],
   "source": [
    "from datetime import datetime\n",
    "\n",
    "class TimeUTC:\n",
    "    def __get__(self, instance, owner_class):\n",
    "        return datetime.utcnow().isoformat()"
   ]
  },
  {
   "cell_type": "markdown",
   "metadata": {},
   "source": [
    "Таким образом, `TimeUTC` — это класс, реализующий только метод `__get__`, и поэтому считается `non-data descriptor`."
   ]
  },
  {
   "cell_type": "markdown",
   "metadata": {},
   "source": [
    "Теперь мы можем использовать его для создания свойств в других классах:"
   ]
  },
  {
   "cell_type": "code",
   "execution_count": 2,
   "metadata": {},
   "outputs": [],
   "source": [
    "class Logger:\n",
    "    current_time = TimeUTC()"
   ]
  },
  {
   "cell_type": "markdown",
   "metadata": {},
   "source": [
    "Обратите внимание, что `current_time` — это атрибут класса:"
   ]
  },
  {
   "cell_type": "code",
   "execution_count": 3,
   "metadata": {},
   "outputs": [
    {
     "data": {
      "text/plain": [
       "mappingproxy({'__module__': '__main__',\n",
       "              'current_time': <__main__.TimeUTC at 0x7fdcd84bbd68>,\n",
       "              '__dict__': <attribute '__dict__' of 'Logger' objects>,\n",
       "              '__weakref__': <attribute '__weakref__' of 'Logger' objects>,\n",
       "              '__doc__': None})"
      ]
     },
     "execution_count": 3,
     "metadata": {},
     "output_type": "execute_result"
    }
   ],
   "source": [
    "Logger.__dict__"
   ]
  },
  {
   "cell_type": "markdown",
   "metadata": {},
   "source": [
    "Мы можем получить доступ к этому атрибуту из экземпляра класса `Logger`:"
   ]
  },
  {
   "cell_type": "code",
   "execution_count": 4,
   "metadata": {},
   "outputs": [],
   "source": [
    "l = Logger()"
   ]
  },
  {
   "cell_type": "code",
   "execution_count": 5,
   "metadata": {},
   "outputs": [
    {
     "data": {
      "text/plain": [
       "'2019-07-13T20:47:06.391770'"
      ]
     },
     "execution_count": 5,
     "metadata": {},
     "output_type": "execute_result"
    }
   ],
   "source": [
    "l.current_time"
   ]
  },
  {
   "cell_type": "markdown",
   "metadata": {},
   "source": [
    "Мы также можем получить к нему доступ из самого класса, и на данный момент он ведет себя так же (мы вернемся к этому позже):"
   ]
  },
  {
   "cell_type": "code",
   "execution_count": 6,
   "metadata": {},
   "outputs": [
    {
     "data": {
      "text/plain": [
       "'2019-07-13T20:47:06.405059'"
      ]
     },
     "execution_count": 6,
     "metadata": {},
     "output_type": "execute_result"
    }
   ],
   "source": [
    "Logger.current_time"
   ]
  },
  {
   "cell_type": "markdown",
   "metadata": {},
   "source": [
    "Давайте рассмотрим другой пример."
   ]
  },
  {
   "cell_type": "markdown",
   "metadata": {},
   "source": [
    "Предположим, мы хотим создать класс, который позволяет нам выбирать случайную масть и случайную карту этой масти из колоды карт (с заменой, т. е. одну и ту же карту можно выбрать более одного раза)."
   ]
  },
  {
   "cell_type": "markdown",
   "metadata": {},
   "source": [
    "Мы могли бы подойти к этому вопросу следующим образом:"
   ]
  },
  {
   "cell_type": "code",
   "execution_count": 7,
   "metadata": {},
   "outputs": [],
   "source": [
    "from random import choice, seed\n",
    "\n",
    "class Deck:\n",
    "    @property\n",
    "    def suit(self):\n",
    "        return choice(('Spade', 'Heart', 'Diamond', 'Club'))\n",
    "\n",
    "    @property\n",
    "    def card(self):\n",
    "        return choice(tuple('23456789JQKA') + ('10',))"
   ]
  },
  {
   "cell_type": "code",
   "execution_count": 8,
   "metadata": {},
   "outputs": [],
   "source": [
    "d = Deck()"
   ]
  },
  {
   "cell_type": "code",
   "execution_count": 9,
   "metadata": {},
   "outputs": [
    {
     "name": "stdout",
     "output_type": "stream",
     "text": [
      "8 Club\n",
      "2 Diamond\n",
      "J Club\n",
      "8 Diamond\n",
      "9 Diamond\n",
      "Q Heart\n",
      "J Heart\n",
      "6 Heart\n",
      "10 Spade\n",
      "Q Diamond\n"
     ]
    }
   ],
   "source": [
    "seed(0)\n",
    "\n",
    "for _ in range(10):\n",
    "    print(d.card, d.suit)"
   ]
  },
  {
   "cell_type": "markdown",
   "metadata": {},
   "source": [
    "Это было довольно просто, но, как вы видите, оба свойства по сути делали одно и то же — они выбирали случайный выбор из некоторого iterable.\n",
    "\n",
    "Давайте перепишем это с использованием пользовательского дескриптора:"
   ]
  },
  {
   "cell_type": "code",
   "execution_count": 10,
   "metadata": {},
   "outputs": [],
   "source": [
    "class Choice:\n",
    "    def __init__(self, *choices):\n",
    "        self.choices = choices\n",
    "\n",
    "    def __get__(self, instance, owner_class):\n",
    "        return choice(self.choices)"
   ]
  },
  {
   "cell_type": "markdown",
   "metadata": {},
   "source": [
    "И теперь мы можем переписать наш класс `Deck` следующим образом:"
   ]
  },
  {
   "cell_type": "code",
   "execution_count": 11,
   "metadata": {},
   "outputs": [],
   "source": [
    "class Deck:\n",
    "    suit = Choice('Spade', 'Heart', 'Diamond', 'Club')\n",
    "    card = Choice(*'23456789JQKA', '10')"
   ]
  },
  {
   "cell_type": "code",
   "execution_count": 12,
   "metadata": {},
   "outputs": [
    {
     "name": "stdout",
     "output_type": "stream",
     "text": [
      "8 Club\n",
      "2 Diamond\n",
      "J Club\n",
      "8 Diamond\n",
      "9 Diamond\n",
      "Q Heart\n",
      "J Heart\n",
      "6 Heart\n",
      "10 Spade\n",
      "Q Diamond\n"
     ]
    }
   ],
   "source": [
    "seed(0)\n",
    "\n",
    "d = Deck()\n",
    "\n",
    "for _ in range(10):\n",
    "    print(d.card, d.suit)"
   ]
  },
  {
   "cell_type": "markdown",
   "metadata": {},
   "source": [
    "Конечно, мы не ограничиваемся только карточками, мы могли бы использовать это и в других классах:"
   ]
  },
  {
   "cell_type": "code",
   "execution_count": 13,
   "metadata": {},
   "outputs": [],
   "source": [
    "class Dice:\n",
    "    die_1 = Choice(1,2,3,4,5,6)\n",
    "    die_2 = Choice(1,2,3,4,5,6)\n",
    "    die_3 = Choice(1,2,3,4,5,6)"
   ]
  },
  {
   "cell_type": "code",
   "execution_count": 14,
   "metadata": {},
   "outputs": [
    {
     "name": "stdout",
     "output_type": "stream",
     "text": [
      "4 4 1\n",
      "3 5 4\n",
      "4 3 4\n",
      "3 5 2\n",
      "5 2 3\n",
      "2 1 5\n",
      "3 5 6\n",
      "5 2 3\n",
      "1 6 1\n",
      "6 3 4\n"
     ]
    }
   ],
   "source": [
    "seed(0)\n",
    "\n",
    "dice = Dice()\n",
    "for _ in range(10):\n",
    "    print(dice.die_1, dice.die_2, dice.die_3)"
   ]
  }
 ],
 "metadata": {
  "kernelspec": {
   "display_name": "Python 3",
   "language": "python",
   "name": "python3"
  },
  "language_info": {
   "codemirror_mode": {
    "name": "ipython",
    "version": 3
   },
   "file_extension": ".py",
   "mimetype": "text/x-python",
   "name": "python",
   "nbconvert_exporter": "python",
   "pygments_lexer": "ipython3",
   "version": "3.12.5"
  }
 },
 "nbformat": 4,
 "nbformat_minor": 2
}
